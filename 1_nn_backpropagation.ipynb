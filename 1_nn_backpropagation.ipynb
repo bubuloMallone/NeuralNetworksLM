{
  "nbformat": 4,
  "nbformat_minor": 0,
  "metadata": {
    "colab": {
      "provenance": [],
      "authorship_tag": "ABX9TyNVqs21XCVguS//cwr9WxC3",
      "include_colab_link": true
    },
    "kernelspec": {
      "name": "python3",
      "display_name": "Python 3"
    },
    "language_info": {
      "name": "python"
    }
  },
  "cells": [
    {
      "cell_type": "markdown",
      "metadata": {
        "id": "view-in-github",
        "colab_type": "text"
      },
      "source": [
        "<a href=\"https://colab.research.google.com/github/bubuloMallone/NeuralNetworksEX/blob/main/nn_backpropagation.ipynb\" target=\"_parent\"><img src=\"https://colab.research.google.com/assets/colab-badge.svg\" alt=\"Open In Colab\"/></a>"
      ]
    },
    {
      "cell_type": "code",
      "execution_count": 119,
      "metadata": {
        "id": "tzEACa_uAJi3"
      },
      "outputs": [],
      "source": [
        "import math\n",
        "import numpy as np\n",
        "import matplotlib.pyplot as plt\n",
        "import random"
      ]
    },
    {
      "cell_type": "code",
      "source": [
        "class Value:\n",
        "  def __init__(self, data, _children=(), _op='', label=''):\n",
        "    self.data = data\n",
        "    self.grad = 0.0\n",
        "    self._backward = lambda: None\n",
        "    self._prev = set(_children)\n",
        "    self._op = _op\n",
        "    self.label = label\n",
        "\n",
        "  # print nice representation of a Value object\n",
        "  def __repr__(self):\n",
        "    return f\"Value(data={self.data})\"\n",
        "\n",
        "  # a + b  -->  a.__add__(b)\n",
        "  def __add__(self, other):\n",
        "    other = other if isinstance(other, Value) else Value(other)\n",
        "    out = Value(self.data + other.data, (self, other), '+')\n",
        "\n",
        "    def _backward():\n",
        "      self.grad += 1.0 * out.grad\n",
        "      other.grad += 1.0 * out.grad\n",
        "    out._backward = _backward\n",
        "\n",
        "    return out\n",
        "\n",
        "  def __radd__(self, other): # other + self\n",
        "        return self + other\n",
        "\n",
        "  def __mul__(self, other):\n",
        "    other = other if isinstance(other, Value) else Value(other)\n",
        "    out = Value(self.data * other.data, (self, other), '*')\n",
        "\n",
        "    def _backward():\n",
        "        self.grad += other.data * out.grad\n",
        "        other.grad += self.data * out.grad\n",
        "    out._backward = _backward\n",
        "\n",
        "    return out\n",
        "\n",
        "  # fallback to allow also other * self\n",
        "  def __rmul__(self, other):\n",
        "    return self * other\n",
        "\n",
        "  def __pow__(self, other):\n",
        "    assert isinstance(other, (int, float)), \"only supporting int/float powers for now\"\n",
        "    out = Value(self.data**other, (self,), f'**{other}')\n",
        "\n",
        "    def _backward():\n",
        "      self.grad += (other * self.data**(other-1)) * out.grad\n",
        "    out._backward = _backward\n",
        "\n",
        "    return out\n",
        "\n",
        "  def __truediv__(self, other): # self / other\n",
        "    return self * other**-1\n",
        "\n",
        "  def __rtruediv__(self, other): # other / self\n",
        "        return other * self**-1\n",
        "\n",
        "  def __neg__(self): # -self\n",
        "    return self * -1\n",
        "\n",
        "  def __sub__(self, other): # self - other\n",
        "    return self + (-other)\n",
        "\n",
        "  def __rsub__(self, other): # other - self\n",
        "        return other + (-self)\n",
        "\n",
        "\n",
        "  def exp (self):\n",
        "    x = self.data\n",
        "    e = math.exp(x)\n",
        "    out = Value(e, (self, ), 'exp')\n",
        "\n",
        "    def _backward():\n",
        "      self.grad +=  out.data * out.grad\n",
        "    out._backward = _backward\n",
        "    return out\n",
        "\n",
        "\n",
        "  def tanh(self):\n",
        "    x = self.data\n",
        "    t = (math.exp(2*x) - 1)/(math.exp(2*x) + 1)\n",
        "    out = Value(t, (self, ), 'tanh')\n",
        "\n",
        "    def _backward():\n",
        "      self.grad += (1.0 - t**2) * out.grad\n",
        "    out._backward = _backward\n",
        "    return out\n",
        "\n",
        "  def backward(self):\n",
        "\n",
        "    topo = []\n",
        "    visited = set()\n",
        "\n",
        "    def build_topo(parent_node):\n",
        "      if parent_node not in visited:\n",
        "        visited.add(parent_node)\n",
        "        for child in parent_node._prev:\n",
        "          build_topo(child)\n",
        "        topo.append(parent_node)\n",
        "\n",
        "    build_topo(self)\n",
        "    self.grad = 1.0\n",
        "    for node in reversed(topo):\n",
        "      node._backward()\n"
      ],
      "metadata": {
        "id": "oQbxIc0sSIVk"
      },
      "execution_count": 130,
      "outputs": []
    },
    {
      "cell_type": "code",
      "source": [
        "a = Value(2.0, label='a')\n",
        "b = Value(-3.0, label='b')\n",
        "\n",
        "c = a + b; c.label='c'\n",
        "e = a*b; e.label='e'\n",
        "d = e + c; d.label='d'\n",
        "\n",
        "f = Value(-2.0, label='f')\n",
        "L = d * f; L.label='L'\n",
        "\n",
        "print(c)\n",
        "print(d)\n",
        "print(d._prev)\n",
        "print(d._op)"
      ],
      "metadata": {
        "colab": {
          "base_uri": "https://localhost:8080/"
        },
        "id": "i0Yq5brPSsy1",
        "outputId": "65f91296-8301-4fd5-b81e-90892754f92a"
      },
      "execution_count": 58,
      "outputs": [
        {
          "output_type": "stream",
          "name": "stdout",
          "text": [
            "Value(data=-1.0)\n",
            "Value(data=-7.0)\n",
            "{Value(data=-1.0), Value(data=-6.0)}\n",
            "+\n"
          ]
        }
      ]
    },
    {
      "cell_type": "code",
      "source": [
        "# Visualization of graph operations\n",
        "\n",
        "from graphviz import Digraph\n",
        "\n",
        "def trace(root):\n",
        "  # build a set of all nodes and edges in a graph\n",
        "  nodes, edges = set(), set()\n",
        "  def build(v):\n",
        "    if v not in nodes:\n",
        "      nodes.add(v)\n",
        "      for child in v._prev:\n",
        "        edges.add((child, v))\n",
        "        build(child)\n",
        "  build(root)\n",
        "  return nodes, edges\n",
        "\n",
        "def draw_dot(root):\n",
        "  dot = Digraph(format='svg', graph_attr={'rankdir': 'LR'}) # LR = left to right\n",
        "\n",
        "  nodes, edges = trace(root)\n",
        "  for n in nodes:\n",
        "    uid = str(id(n))\n",
        "    # for any value in the graph, create a rectangular ('record') node for it\n",
        "    dot.node(name = uid, label = \"{ % s | data %.4f | grad %.4f }\" % (n.label, n.data, n.grad), shape='record')\n",
        "    if n._op:\n",
        "      # if this value is a result of some operation, create an operation node for it\n",
        "      dot.node(name = uid + n._op, label = n._op)\n",
        "      # and connect this node to it\n",
        "      dot.edge(uid + n._op, uid)\n",
        "\n",
        "  for n1, n2 in edges:\n",
        "    # connect n1 to the op node of n2\n",
        "    dot.edge(str(id(n1)), str(id(n2)) + n2._op)\n",
        "\n",
        "  return dot"
      ],
      "metadata": {
        "id": "SdPPT7abW93o"
      },
      "execution_count": 59,
      "outputs": []
    },
    {
      "cell_type": "code",
      "source": [
        "draw_dot(d)"
      ],
      "metadata": {
        "colab": {
          "base_uri": "https://localhost:8080/",
          "height": 155
        },
        "id": "LyqwypguZlFJ",
        "outputId": "5996fbdf-36a0-422c-dda4-e7bce6fb686a"
      },
      "execution_count": 60,
      "outputs": [
        {
          "output_type": "execute_result",
          "data": {
            "image/svg+xml": "<?xml version=\"1.0\" encoding=\"UTF-8\" standalone=\"no\"?>\n<!DOCTYPE svg PUBLIC \"-//W3C//DTD SVG 1.1//EN\"\n \"http://www.w3.org/Graphics/SVG/1.1/DTD/svg11.dtd\">\n<!-- Generated by graphviz version 2.43.0 (0)\n -->\n<!-- Title: %3 Pages: 1 -->\n<svg width=\"830pt\" height=\"100pt\"\n viewBox=\"0.00 0.00 830.00 100.00\" xmlns=\"http://www.w3.org/2000/svg\" xmlns:xlink=\"http://www.w3.org/1999/xlink\">\n<g id=\"graph0\" class=\"graph\" transform=\"scale(1 1) rotate(0) translate(4 96)\">\n<title>%3</title>\n<polygon fill=\"white\" stroke=\"transparent\" points=\"-4,4 -4,-96 826,-96 826,4 -4,4\"/>\n<!-- 134214996561488 -->\n<g id=\"node1\" class=\"node\">\n<title>134214996561488</title>\n<polygon fill=\"none\" stroke=\"black\" points=\"0,-55.5 0,-91.5 190,-91.5 190,-55.5 0,-55.5\"/>\n<text text-anchor=\"middle\" x=\"11.5\" y=\"-69.8\" font-family=\"Times,serif\" font-size=\"14.00\">b</text>\n<polyline fill=\"none\" stroke=\"black\" points=\"23,-55.5 23,-91.5 \"/>\n<text text-anchor=\"middle\" x=\"65.5\" y=\"-69.8\" font-family=\"Times,serif\" font-size=\"14.00\">data &#45;3.0000</text>\n<polyline fill=\"none\" stroke=\"black\" points=\"108,-55.5 108,-91.5 \"/>\n<text text-anchor=\"middle\" x=\"149\" y=\"-69.8\" font-family=\"Times,serif\" font-size=\"14.00\">grad 0.0000</text>\n</g>\n<!-- 134214996568208+ -->\n<g id=\"node5\" class=\"node\">\n<title>134214996568208+</title>\n<ellipse fill=\"none\" stroke=\"black\" cx=\"253\" cy=\"-73.5\" rx=\"27\" ry=\"18\"/>\n<text text-anchor=\"middle\" x=\"253\" y=\"-69.8\" font-family=\"Times,serif\" font-size=\"14.00\">+</text>\n</g>\n<!-- 134214996561488&#45;&gt;134214996568208+ -->\n<g id=\"edge9\" class=\"edge\">\n<title>134214996561488&#45;&gt;134214996568208+</title>\n<path fill=\"none\" stroke=\"black\" d=\"M190.34,-73.5C199.26,-73.5 207.87,-73.5 215.69,-73.5\"/>\n<polygon fill=\"black\" stroke=\"black\" points=\"215.82,-77 225.82,-73.5 215.82,-70 215.82,-77\"/>\n</g>\n<!-- 134214996569296* -->\n<g id=\"node7\" class=\"node\">\n<title>134214996569296*</title>\n<ellipse fill=\"none\" stroke=\"black\" cx=\"253\" cy=\"-18.5\" rx=\"27\" ry=\"18\"/>\n<text text-anchor=\"middle\" x=\"253\" y=\"-14.8\" font-family=\"Times,serif\" font-size=\"14.00\">*</text>\n</g>\n<!-- 134214996561488&#45;&gt;134214996569296* -->\n<g id=\"edge8\" class=\"edge\">\n<title>134214996561488&#45;&gt;134214996569296*</title>\n<path fill=\"none\" stroke=\"black\" d=\"M163.39,-55.42C172.4,-52.63 181.47,-49.63 190,-46.5 200.5,-42.64 211.72,-37.81 221.69,-33.24\"/>\n<polygon fill=\"black\" stroke=\"black\" points=\"223.21,-36.39 230.8,-28.99 220.26,-30.05 223.21,-36.39\"/>\n</g>\n<!-- 134214996569680 -->\n<g id=\"node2\" class=\"node\">\n<title>134214996569680</title>\n<polygon fill=\"none\" stroke=\"black\" points=\"632,-27.5 632,-63.5 822,-63.5 822,-27.5 632,-27.5\"/>\n<text text-anchor=\"middle\" x=\"643.5\" y=\"-41.8\" font-family=\"Times,serif\" font-size=\"14.00\">d</text>\n<polyline fill=\"none\" stroke=\"black\" points=\"655,-27.5 655,-63.5 \"/>\n<text text-anchor=\"middle\" x=\"697.5\" y=\"-41.8\" font-family=\"Times,serif\" font-size=\"14.00\">data &#45;7.0000</text>\n<polyline fill=\"none\" stroke=\"black\" points=\"740,-27.5 740,-63.5 \"/>\n<text text-anchor=\"middle\" x=\"781\" y=\"-41.8\" font-family=\"Times,serif\" font-size=\"14.00\">grad 0.0000</text>\n</g>\n<!-- 134214996569680+ -->\n<g id=\"node3\" class=\"node\">\n<title>134214996569680+</title>\n<ellipse fill=\"none\" stroke=\"black\" cx=\"569\" cy=\"-45.5\" rx=\"27\" ry=\"18\"/>\n<text text-anchor=\"middle\" x=\"569\" y=\"-41.8\" font-family=\"Times,serif\" font-size=\"14.00\">+</text>\n</g>\n<!-- 134214996569680+&#45;&gt;134214996569680 -->\n<g id=\"edge1\" class=\"edge\">\n<title>134214996569680+&#45;&gt;134214996569680</title>\n<path fill=\"none\" stroke=\"black\" d=\"M596.11,-45.5C603.63,-45.5 612.32,-45.5 621.58,-45.5\"/>\n<polygon fill=\"black\" stroke=\"black\" points=\"621.81,-49 631.81,-45.5 621.81,-42 621.81,-49\"/>\n</g>\n<!-- 134214996568208 -->\n<g id=\"node4\" class=\"node\">\n<title>134214996568208</title>\n<polygon fill=\"none\" stroke=\"black\" points=\"316,-55.5 316,-91.5 506,-91.5 506,-55.5 316,-55.5\"/>\n<text text-anchor=\"middle\" x=\"327.5\" y=\"-69.8\" font-family=\"Times,serif\" font-size=\"14.00\">c</text>\n<polyline fill=\"none\" stroke=\"black\" points=\"339,-55.5 339,-91.5 \"/>\n<text text-anchor=\"middle\" x=\"381.5\" y=\"-69.8\" font-family=\"Times,serif\" font-size=\"14.00\">data &#45;1.0000</text>\n<polyline fill=\"none\" stroke=\"black\" points=\"424,-55.5 424,-91.5 \"/>\n<text text-anchor=\"middle\" x=\"465\" y=\"-69.8\" font-family=\"Times,serif\" font-size=\"14.00\">grad 0.0000</text>\n</g>\n<!-- 134214996568208&#45;&gt;134214996569680+ -->\n<g id=\"edge4\" class=\"edge\">\n<title>134214996568208&#45;&gt;134214996569680+</title>\n<path fill=\"none\" stroke=\"black\" d=\"M506.34,-56.57C515.62,-54.9 524.58,-53.29 532.66,-51.84\"/>\n<polygon fill=\"black\" stroke=\"black\" points=\"533.49,-55.25 542.72,-50.04 532.26,-48.36 533.49,-55.25\"/>\n</g>\n<!-- 134214996568208+&#45;&gt;134214996568208 -->\n<g id=\"edge2\" class=\"edge\">\n<title>134214996568208+&#45;&gt;134214996568208</title>\n<path fill=\"none\" stroke=\"black\" d=\"M280.11,-73.5C287.63,-73.5 296.32,-73.5 305.58,-73.5\"/>\n<polygon fill=\"black\" stroke=\"black\" points=\"305.81,-77 315.81,-73.5 305.81,-70 305.81,-77\"/>\n</g>\n<!-- 134214996569296 -->\n<g id=\"node6\" class=\"node\">\n<title>134214996569296</title>\n<polygon fill=\"none\" stroke=\"black\" points=\"316,-0.5 316,-36.5 506,-36.5 506,-0.5 316,-0.5\"/>\n<text text-anchor=\"middle\" x=\"327.5\" y=\"-14.8\" font-family=\"Times,serif\" font-size=\"14.00\">e</text>\n<polyline fill=\"none\" stroke=\"black\" points=\"339,-0.5 339,-36.5 \"/>\n<text text-anchor=\"middle\" x=\"381.5\" y=\"-14.8\" font-family=\"Times,serif\" font-size=\"14.00\">data &#45;6.0000</text>\n<polyline fill=\"none\" stroke=\"black\" points=\"424,-0.5 424,-36.5 \"/>\n<text text-anchor=\"middle\" x=\"465\" y=\"-14.8\" font-family=\"Times,serif\" font-size=\"14.00\">grad 0.0000</text>\n</g>\n<!-- 134214996569296&#45;&gt;134214996569680+ -->\n<g id=\"edge6\" class=\"edge\">\n<title>134214996569296&#45;&gt;134214996569680+</title>\n<path fill=\"none\" stroke=\"black\" d=\"M506.34,-34.83C515.62,-36.44 524.58,-37.99 532.66,-39.38\"/>\n<polygon fill=\"black\" stroke=\"black\" points=\"532.27,-42.87 542.72,-41.12 533.46,-35.97 532.27,-42.87\"/>\n</g>\n<!-- 134214996569296*&#45;&gt;134214996569296 -->\n<g id=\"edge3\" class=\"edge\">\n<title>134214996569296*&#45;&gt;134214996569296</title>\n<path fill=\"none\" stroke=\"black\" d=\"M280.11,-18.5C287.63,-18.5 296.32,-18.5 305.58,-18.5\"/>\n<polygon fill=\"black\" stroke=\"black\" points=\"305.81,-22 315.81,-18.5 305.81,-15 305.81,-22\"/>\n</g>\n<!-- 134214996573136 -->\n<g id=\"node8\" class=\"node\">\n<title>134214996573136</title>\n<polygon fill=\"none\" stroke=\"black\" points=\"2.5,-0.5 2.5,-36.5 187.5,-36.5 187.5,-0.5 2.5,-0.5\"/>\n<text text-anchor=\"middle\" x=\"14\" y=\"-14.8\" font-family=\"Times,serif\" font-size=\"14.00\">a</text>\n<polyline fill=\"none\" stroke=\"black\" points=\"25.5,-0.5 25.5,-36.5 \"/>\n<text text-anchor=\"middle\" x=\"65.5\" y=\"-14.8\" font-family=\"Times,serif\" font-size=\"14.00\">data 2.0000</text>\n<polyline fill=\"none\" stroke=\"black\" points=\"105.5,-0.5 105.5,-36.5 \"/>\n<text text-anchor=\"middle\" x=\"146.5\" y=\"-14.8\" font-family=\"Times,serif\" font-size=\"14.00\">grad 0.0000</text>\n</g>\n<!-- 134214996573136&#45;&gt;134214996568208+ -->\n<g id=\"edge7\" class=\"edge\">\n<title>134214996573136&#45;&gt;134214996568208+</title>\n<path fill=\"none\" stroke=\"black\" d=\"M160.31,-36.52C170.31,-39.65 180.48,-43.02 190,-46.5 200.26,-50.25 211.24,-54.83 221.08,-59.16\"/>\n<polygon fill=\"black\" stroke=\"black\" points=\"219.9,-62.46 230.45,-63.35 222.75,-56.07 219.9,-62.46\"/>\n</g>\n<!-- 134214996573136&#45;&gt;134214996569296* -->\n<g id=\"edge5\" class=\"edge\">\n<title>134214996573136&#45;&gt;134214996569296*</title>\n<path fill=\"none\" stroke=\"black\" d=\"M187.65,-18.5C197.55,-18.5 207.15,-18.5 215.78,-18.5\"/>\n<polygon fill=\"black\" stroke=\"black\" points=\"215.78,-22 225.78,-18.5 215.78,-15 215.78,-22\"/>\n</g>\n</g>\n</svg>\n",
            "text/plain": [
              "<graphviz.graphs.Digraph at 0x7a115d428890>"
            ]
          },
          "metadata": {},
          "execution_count": 60
        }
      ]
    },
    {
      "cell_type": "markdown",
      "source": [
        "Manually compute derivatives"
      ],
      "metadata": {
        "id": "12Pjr3TwFfBQ"
      }
    },
    {
      "cell_type": "code",
      "source": [
        "def lol():\n",
        "\n",
        "  h = 0.0001\n",
        "\n",
        "  a = Value(2.0, label='a')\n",
        "  b = Value(-3.0, label='b')\n",
        "  c = a + b; c.label='c'\n",
        "  e = a*b; e.label='e'\n",
        "  d = e + c; d.label='d'\n",
        "  f = Value(-2.0, label='f')\n",
        "  L = d * f; L.label='L'\n",
        "  L1 = L.data\n",
        "\n",
        "  a = Value(2.0, label='a')\n",
        "  b = Value(-3.0, label='b')\n",
        "  c = a + b; c.label='c'\n",
        "  e = a*b; e.label='e'\n",
        "  d = e + c; d.label='d'\n",
        "  f = Value(-2.0, label='f')\n",
        "  L = d * f; L.label='L'\n",
        "  L2 = L.data + h\n",
        "\n",
        "  print((L2 - L1) / h)\n",
        "\n",
        "lol()"
      ],
      "metadata": {
        "colab": {
          "base_uri": "https://localhost:8080/"
        },
        "id": "Bn95Wr62cND7",
        "outputId": "8600d15c-9081-4fba-a501-22acb993392b"
      },
      "execution_count": 61,
      "outputs": [
        {
          "output_type": "stream",
          "name": "stdout",
          "text": [
            "0.9999999999976694\n"
          ]
        }
      ]
    },
    {
      "cell_type": "markdown",
      "source": [
        "Now want to run backpropagation on this graph, i.e. determining the derivative of the output L wrt the nodes in the graph, according to the chain rule"
      ],
      "metadata": {
        "id": "TmzXtSDOcNpc"
      }
    },
    {
      "cell_type": "markdown",
      "source": [
        "Single layer perceptron"
      ],
      "metadata": {
        "id": "Q6Vo912w6oKm"
      }
    },
    {
      "cell_type": "code",
      "source": [
        "# inputs x1, x2\n",
        "x1 = Value(2.0, label='x1')\n",
        "x2 = Value(0.0, label='x2')\n",
        "# weights w1, w2\n",
        "w1 = Value(-3.0, label='w1')\n",
        "w2 = Value(1.0, label='w2')\n",
        "# bias of the neuron\n",
        "b = Value(6.88137358702, label='b')\n",
        "x1w1 = x1*w1; x1w1.label = 'x1*w1'\n",
        "x2w2 = x2*w2; x2w2.label = 'x2*w2'\n",
        "x1w1x2w2 = x1w1 + x2w2; x1w1x2w2.label = 'x1*w1 + x2*w2'\n",
        "n = x1w1x2w2 + b; n.label = 'n'\n",
        "o = n.tanh(); o.label = 'o'"
      ],
      "metadata": {
        "id": "pjtFB6sJxwqb"
      },
      "execution_count": 83,
      "outputs": []
    },
    {
      "cell_type": "code",
      "source": [
        "draw_dot(o)"
      ],
      "metadata": {
        "colab": {
          "base_uri": "https://localhost:8080/",
          "height": 302
        },
        "id": "QjxgdWTAATz_",
        "outputId": "e5142fcd-3898-406e-f54d-bdf77400c8e0"
      },
      "execution_count": 93,
      "outputs": [
        {
          "output_type": "execute_result",
          "data": {
            "image/svg+xml": "<?xml version=\"1.0\" encoding=\"UTF-8\" standalone=\"no\"?>\n<!DOCTYPE svg PUBLIC \"-//W3C//DTD SVG 1.1//EN\"\n \"http://www.w3.org/Graphics/SVG/1.1/DTD/svg11.dtd\">\n<!-- Generated by graphviz version 2.43.0 (0)\n -->\n<!-- Title: %3 Pages: 1 -->\n<svg width=\"1575pt\" height=\"210pt\"\n viewBox=\"0.00 0.00 1575.00 210.00\" xmlns=\"http://www.w3.org/2000/svg\" xmlns:xlink=\"http://www.w3.org/1999/xlink\">\n<g id=\"graph0\" class=\"graph\" transform=\"scale(1 1) rotate(0) translate(4 206)\">\n<title>%3</title>\n<polygon fill=\"white\" stroke=\"transparent\" points=\"-4,4 -4,-206 1571,-206 1571,4 -4,4\"/>\n<!-- 134214995670544 -->\n<g id=\"node1\" class=\"node\">\n<title>134214995670544</title>\n<polygon fill=\"none\" stroke=\"black\" points=\"1071,-54.5 1071,-90.5 1256,-90.5 1256,-54.5 1071,-54.5\"/>\n<text text-anchor=\"middle\" x=\"1082.5\" y=\"-68.8\" font-family=\"Times,serif\" font-size=\"14.00\">n</text>\n<polyline fill=\"none\" stroke=\"black\" points=\"1094,-54.5 1094,-90.5 \"/>\n<text text-anchor=\"middle\" x=\"1134\" y=\"-68.8\" font-family=\"Times,serif\" font-size=\"14.00\">data 0.8814</text>\n<polyline fill=\"none\" stroke=\"black\" points=\"1174,-54.5 1174,-90.5 \"/>\n<text text-anchor=\"middle\" x=\"1215\" y=\"-68.8\" font-family=\"Times,serif\" font-size=\"14.00\">grad 0.5000</text>\n</g>\n<!-- 134214995668304tanh -->\n<g id=\"node12\" class=\"node\">\n<title>134214995668304tanh</title>\n<ellipse fill=\"none\" stroke=\"black\" cx=\"1319\" cy=\"-72.5\" rx=\"27\" ry=\"18\"/>\n<text text-anchor=\"middle\" x=\"1319\" y=\"-68.8\" font-family=\"Times,serif\" font-size=\"14.00\">tanh</text>\n</g>\n<!-- 134214995670544&#45;&gt;134214995668304tanh -->\n<g id=\"edge14\" class=\"edge\">\n<title>134214995670544&#45;&gt;134214995668304tanh</title>\n<path fill=\"none\" stroke=\"black\" d=\"M1256.01,-72.5C1265.01,-72.5 1273.74,-72.5 1281.66,-72.5\"/>\n<polygon fill=\"black\" stroke=\"black\" points=\"1281.91,-76 1291.91,-72.5 1281.91,-69 1281.91,-76\"/>\n</g>\n<!-- 134214995670544+ -->\n<g id=\"node2\" class=\"node\">\n<title>134214995670544+</title>\n<ellipse fill=\"none\" stroke=\"black\" cx=\"1008\" cy=\"-72.5\" rx=\"27\" ry=\"18\"/>\n<text text-anchor=\"middle\" x=\"1008\" y=\"-68.8\" font-family=\"Times,serif\" font-size=\"14.00\">+</text>\n</g>\n<!-- 134214995670544+&#45;&gt;134214995670544 -->\n<g id=\"edge1\" class=\"edge\">\n<title>134214995670544+&#45;&gt;134214995670544</title>\n<path fill=\"none\" stroke=\"black\" d=\"M1035.04,-72.5C1042.58,-72.5 1051.3,-72.5 1060.57,-72.5\"/>\n<polygon fill=\"black\" stroke=\"black\" points=\"1060.81,-76 1070.81,-72.5 1060.81,-69 1060.81,-76\"/>\n</g>\n<!-- 134214995661328 -->\n<g id=\"node3\" class=\"node\">\n<title>134214995661328</title>\n<polygon fill=\"none\" stroke=\"black\" points=\"4,-165.5 4,-201.5 196,-201.5 196,-165.5 4,-165.5\"/>\n<text text-anchor=\"middle\" x=\"19\" y=\"-179.8\" font-family=\"Times,serif\" font-size=\"14.00\">x2</text>\n<polyline fill=\"none\" stroke=\"black\" points=\"34,-165.5 34,-201.5 \"/>\n<text text-anchor=\"middle\" x=\"74\" y=\"-179.8\" font-family=\"Times,serif\" font-size=\"14.00\">data 0.0000</text>\n<polyline fill=\"none\" stroke=\"black\" points=\"114,-165.5 114,-201.5 \"/>\n<text text-anchor=\"middle\" x=\"155\" y=\"-179.8\" font-family=\"Times,serif\" font-size=\"14.00\">grad 0.5000</text>\n</g>\n<!-- 134214995661072* -->\n<g id=\"node9\" class=\"node\">\n<title>134214995661072*</title>\n<ellipse fill=\"none\" stroke=\"black\" cx=\"263\" cy=\"-128.5\" rx=\"27\" ry=\"18\"/>\n<text text-anchor=\"middle\" x=\"263\" y=\"-124.8\" font-family=\"Times,serif\" font-size=\"14.00\">*</text>\n</g>\n<!-- 134214995661328&#45;&gt;134214995661072* -->\n<g id=\"edge12\" class=\"edge\">\n<title>134214995661328&#45;&gt;134214995661072*</title>\n<path fill=\"none\" stroke=\"black\" d=\"M172.53,-165.44C181.84,-162.67 191.2,-159.67 200,-156.5 210.53,-152.71 221.75,-147.9 231.72,-143.33\"/>\n<polygon fill=\"black\" stroke=\"black\" points=\"233.25,-146.48 240.82,-139.07 230.28,-140.14 233.25,-146.48\"/>\n</g>\n<!-- 134214995667024 -->\n<g id=\"node4\" class=\"node\">\n<title>134214995667024</title>\n<polygon fill=\"none\" stroke=\"black\" points=\"672,-82.5 672,-118.5 945,-118.5 945,-82.5 672,-82.5\"/>\n<text text-anchor=\"middle\" x=\"725\" y=\"-96.8\" font-family=\"Times,serif\" font-size=\"14.00\">x1*w1 + x2*w2</text>\n<polyline fill=\"none\" stroke=\"black\" points=\"778,-82.5 778,-118.5 \"/>\n<text text-anchor=\"middle\" x=\"820.5\" y=\"-96.8\" font-family=\"Times,serif\" font-size=\"14.00\">data &#45;6.0000</text>\n<polyline fill=\"none\" stroke=\"black\" points=\"863,-82.5 863,-118.5 \"/>\n<text text-anchor=\"middle\" x=\"904\" y=\"-96.8\" font-family=\"Times,serif\" font-size=\"14.00\">grad 0.5000</text>\n</g>\n<!-- 134214995667024&#45;&gt;134214995670544+ -->\n<g id=\"edge13\" class=\"edge\">\n<title>134214995667024&#45;&gt;134214995670544+</title>\n<path fill=\"none\" stroke=\"black\" d=\"M936.53,-82.49C949.09,-80.71 960.99,-79.02 971.3,-77.56\"/>\n<polygon fill=\"black\" stroke=\"black\" points=\"972.03,-80.99 981.44,-76.12 971.05,-74.06 972.03,-80.99\"/>\n</g>\n<!-- 134214995667024+ -->\n<g id=\"node5\" class=\"node\">\n<title>134214995667024+</title>\n<ellipse fill=\"none\" stroke=\"black\" cx=\"609\" cy=\"-100.5\" rx=\"27\" ry=\"18\"/>\n<text text-anchor=\"middle\" x=\"609\" y=\"-96.8\" font-family=\"Times,serif\" font-size=\"14.00\">+</text>\n</g>\n<!-- 134214995667024+&#45;&gt;134214995667024 -->\n<g id=\"edge2\" class=\"edge\">\n<title>134214995667024+&#45;&gt;134214995667024</title>\n<path fill=\"none\" stroke=\"black\" d=\"M636.23,-100.5C643.7,-100.5 652.41,-100.5 661.87,-100.5\"/>\n<polygon fill=\"black\" stroke=\"black\" points=\"661.98,-104 671.98,-100.5 661.98,-97 661.98,-104\"/>\n</g>\n<!-- 134214995670160 -->\n<g id=\"node6\" class=\"node\">\n<title>134214995670160</title>\n<polygon fill=\"none\" stroke=\"black\" points=\"716,-27.5 716,-63.5 901,-63.5 901,-27.5 716,-27.5\"/>\n<text text-anchor=\"middle\" x=\"727.5\" y=\"-41.8\" font-family=\"Times,serif\" font-size=\"14.00\">b</text>\n<polyline fill=\"none\" stroke=\"black\" points=\"739,-27.5 739,-63.5 \"/>\n<text text-anchor=\"middle\" x=\"779\" y=\"-41.8\" font-family=\"Times,serif\" font-size=\"14.00\">data 6.8814</text>\n<polyline fill=\"none\" stroke=\"black\" points=\"819,-27.5 819,-63.5 \"/>\n<text text-anchor=\"middle\" x=\"860\" y=\"-41.8\" font-family=\"Times,serif\" font-size=\"14.00\">grad 0.5000</text>\n</g>\n<!-- 134214995670160&#45;&gt;134214995670544+ -->\n<g id=\"edge6\" class=\"edge\">\n<title>134214995670160&#45;&gt;134214995670544+</title>\n<path fill=\"none\" stroke=\"black\" d=\"M901.02,-58.01C926,-61.43 951.59,-64.93 971.37,-67.63\"/>\n<polygon fill=\"black\" stroke=\"black\" points=\"971.05,-71.12 981.43,-69.01 972,-64.18 971.05,-71.12\"/>\n</g>\n<!-- 134214995658896 -->\n<g id=\"node7\" class=\"node\">\n<title>134214995658896</title>\n<polygon fill=\"none\" stroke=\"black\" points=\"2.5,-110.5 2.5,-146.5 197.5,-146.5 197.5,-110.5 2.5,-110.5\"/>\n<text text-anchor=\"middle\" x=\"19\" y=\"-124.8\" font-family=\"Times,serif\" font-size=\"14.00\">w2</text>\n<polyline fill=\"none\" stroke=\"black\" points=\"35.5,-110.5 35.5,-146.5 \"/>\n<text text-anchor=\"middle\" x=\"75.5\" y=\"-124.8\" font-family=\"Times,serif\" font-size=\"14.00\">data 1.0000</text>\n<polyline fill=\"none\" stroke=\"black\" points=\"115.5,-110.5 115.5,-146.5 \"/>\n<text text-anchor=\"middle\" x=\"156.5\" y=\"-124.8\" font-family=\"Times,serif\" font-size=\"14.00\">grad 0.0000</text>\n</g>\n<!-- 134214995658896&#45;&gt;134214995661072* -->\n<g id=\"edge8\" class=\"edge\">\n<title>134214995658896&#45;&gt;134214995661072*</title>\n<path fill=\"none\" stroke=\"black\" d=\"M197.91,-128.5C207.65,-128.5 217.05,-128.5 225.52,-128.5\"/>\n<polygon fill=\"black\" stroke=\"black\" points=\"225.7,-132 235.7,-128.5 225.7,-125 225.7,-132\"/>\n</g>\n<!-- 134214995661072 -->\n<g id=\"node8\" class=\"node\">\n<title>134214995661072</title>\n<polygon fill=\"none\" stroke=\"black\" points=\"328.5,-110.5 328.5,-146.5 543.5,-146.5 543.5,-110.5 328.5,-110.5\"/>\n<text text-anchor=\"middle\" x=\"355\" y=\"-124.8\" font-family=\"Times,serif\" font-size=\"14.00\">x2*w2</text>\n<polyline fill=\"none\" stroke=\"black\" points=\"381.5,-110.5 381.5,-146.5 \"/>\n<text text-anchor=\"middle\" x=\"421.5\" y=\"-124.8\" font-family=\"Times,serif\" font-size=\"14.00\">data 0.0000</text>\n<polyline fill=\"none\" stroke=\"black\" points=\"461.5,-110.5 461.5,-146.5 \"/>\n<text text-anchor=\"middle\" x=\"502.5\" y=\"-124.8\" font-family=\"Times,serif\" font-size=\"14.00\">grad 0.5000</text>\n</g>\n<!-- 134214995661072&#45;&gt;134214995667024+ -->\n<g id=\"edge9\" class=\"edge\">\n<title>134214995661072&#45;&gt;134214995667024+</title>\n<path fill=\"none\" stroke=\"black\" d=\"M543.84,-111.01C554.01,-109.34 563.76,-107.74 572.44,-106.32\"/>\n<polygon fill=\"black\" stroke=\"black\" points=\"573.17,-109.75 582.47,-104.68 572.04,-102.84 573.17,-109.75\"/>\n</g>\n<!-- 134214995661072*&#45;&gt;134214995661072 -->\n<g id=\"edge3\" class=\"edge\">\n<title>134214995661072*&#45;&gt;134214995661072</title>\n<path fill=\"none\" stroke=\"black\" d=\"M290.34,-128.5C298.51,-128.5 308.08,-128.5 318.36,-128.5\"/>\n<polygon fill=\"black\" stroke=\"black\" points=\"318.39,-132 328.39,-128.5 318.39,-125 318.39,-132\"/>\n</g>\n<!-- 134214995659536 -->\n<g id=\"node10\" class=\"node\">\n<title>134214995659536</title>\n<polygon fill=\"none\" stroke=\"black\" points=\"2,-55.5 2,-91.5 198,-91.5 198,-55.5 2,-55.5\"/>\n<text text-anchor=\"middle\" x=\"17\" y=\"-69.8\" font-family=\"Times,serif\" font-size=\"14.00\">x1</text>\n<polyline fill=\"none\" stroke=\"black\" points=\"32,-55.5 32,-91.5 \"/>\n<text text-anchor=\"middle\" x=\"72\" y=\"-69.8\" font-family=\"Times,serif\" font-size=\"14.00\">data 2.0000</text>\n<polyline fill=\"none\" stroke=\"black\" points=\"112,-55.5 112,-91.5 \"/>\n<text text-anchor=\"middle\" x=\"155\" y=\"-69.8\" font-family=\"Times,serif\" font-size=\"14.00\">grad &#45;1.5000</text>\n</g>\n<!-- 134214995670480* -->\n<g id=\"node15\" class=\"node\">\n<title>134214995670480*</title>\n<ellipse fill=\"none\" stroke=\"black\" cx=\"263\" cy=\"-73.5\" rx=\"27\" ry=\"18\"/>\n<text text-anchor=\"middle\" x=\"263\" y=\"-69.8\" font-family=\"Times,serif\" font-size=\"14.00\">*</text>\n</g>\n<!-- 134214995659536&#45;&gt;134214995670480* -->\n<g id=\"edge10\" class=\"edge\">\n<title>134214995659536&#45;&gt;134214995670480*</title>\n<path fill=\"none\" stroke=\"black\" d=\"M198.37,-73.5C208.05,-73.5 217.4,-73.5 225.8,-73.5\"/>\n<polygon fill=\"black\" stroke=\"black\" points=\"225.91,-77 235.91,-73.5 225.91,-70 225.91,-77\"/>\n</g>\n<!-- 134214995668304 -->\n<g id=\"node11\" class=\"node\">\n<title>134214995668304</title>\n<polygon fill=\"none\" stroke=\"black\" points=\"1382,-54.5 1382,-90.5 1567,-90.5 1567,-54.5 1382,-54.5\"/>\n<text text-anchor=\"middle\" x=\"1393.5\" y=\"-68.8\" font-family=\"Times,serif\" font-size=\"14.00\">o</text>\n<polyline fill=\"none\" stroke=\"black\" points=\"1405,-54.5 1405,-90.5 \"/>\n<text text-anchor=\"middle\" x=\"1445\" y=\"-68.8\" font-family=\"Times,serif\" font-size=\"14.00\">data 0.7071</text>\n<polyline fill=\"none\" stroke=\"black\" points=\"1485,-54.5 1485,-90.5 \"/>\n<text text-anchor=\"middle\" x=\"1526\" y=\"-68.8\" font-family=\"Times,serif\" font-size=\"14.00\">grad 1.0000</text>\n</g>\n<!-- 134214995668304tanh&#45;&gt;134214995668304 -->\n<g id=\"edge4\" class=\"edge\">\n<title>134214995668304tanh&#45;&gt;134214995668304</title>\n<path fill=\"none\" stroke=\"black\" d=\"M1346.04,-72.5C1353.58,-72.5 1362.3,-72.5 1371.57,-72.5\"/>\n<polygon fill=\"black\" stroke=\"black\" points=\"1371.81,-76 1381.81,-72.5 1371.81,-69 1371.81,-76\"/>\n</g>\n<!-- 134214995671376 -->\n<g id=\"node13\" class=\"node\">\n<title>134214995671376</title>\n<polygon fill=\"none\" stroke=\"black\" points=\"0,-0.5 0,-36.5 200,-36.5 200,-0.5 0,-0.5\"/>\n<text text-anchor=\"middle\" x=\"16.5\" y=\"-14.8\" font-family=\"Times,serif\" font-size=\"14.00\">w1</text>\n<polyline fill=\"none\" stroke=\"black\" points=\"33,-0.5 33,-36.5 \"/>\n<text text-anchor=\"middle\" x=\"75.5\" y=\"-14.8\" font-family=\"Times,serif\" font-size=\"14.00\">data &#45;3.0000</text>\n<polyline fill=\"none\" stroke=\"black\" points=\"118,-0.5 118,-36.5 \"/>\n<text text-anchor=\"middle\" x=\"159\" y=\"-14.8\" font-family=\"Times,serif\" font-size=\"14.00\">grad 1.0000</text>\n</g>\n<!-- 134214995671376&#45;&gt;134214995670480* -->\n<g id=\"edge7\" class=\"edge\">\n<title>134214995671376&#45;&gt;134214995670480*</title>\n<path fill=\"none\" stroke=\"black\" d=\"M172.53,-36.56C181.84,-39.33 191.2,-42.33 200,-45.5 210.53,-49.29 221.75,-54.1 231.72,-58.67\"/>\n<polygon fill=\"black\" stroke=\"black\" points=\"230.28,-61.86 240.82,-62.93 233.25,-55.52 230.28,-61.86\"/>\n</g>\n<!-- 134214995670480 -->\n<g id=\"node14\" class=\"node\">\n<title>134214995670480</title>\n<polygon fill=\"none\" stroke=\"black\" points=\"326,-55.5 326,-91.5 546,-91.5 546,-55.5 326,-55.5\"/>\n<text text-anchor=\"middle\" x=\"352.5\" y=\"-69.8\" font-family=\"Times,serif\" font-size=\"14.00\">x1*w1</text>\n<polyline fill=\"none\" stroke=\"black\" points=\"379,-55.5 379,-91.5 \"/>\n<text text-anchor=\"middle\" x=\"421.5\" y=\"-69.8\" font-family=\"Times,serif\" font-size=\"14.00\">data &#45;6.0000</text>\n<polyline fill=\"none\" stroke=\"black\" points=\"464,-55.5 464,-91.5 \"/>\n<text text-anchor=\"middle\" x=\"505\" y=\"-69.8\" font-family=\"Times,serif\" font-size=\"14.00\">grad 0.5000</text>\n</g>\n<!-- 134214995670480&#45;&gt;134214995667024+ -->\n<g id=\"edge11\" class=\"edge\">\n<title>134214995670480&#45;&gt;134214995667024+</title>\n<path fill=\"none\" stroke=\"black\" d=\"M546.27,-90.75C555.64,-92.23 564.6,-93.65 572.65,-94.92\"/>\n<polygon fill=\"black\" stroke=\"black\" points=\"572.23,-98.4 582.65,-96.5 573.32,-91.48 572.23,-98.4\"/>\n</g>\n<!-- 134214995670480*&#45;&gt;134214995670480 -->\n<g id=\"edge5\" class=\"edge\">\n<title>134214995670480*&#45;&gt;134214995670480</title>\n<path fill=\"none\" stroke=\"black\" d=\"M290.34,-73.5C297.77,-73.5 306.37,-73.5 315.6,-73.5\"/>\n<polygon fill=\"black\" stroke=\"black\" points=\"315.84,-77 325.84,-73.5 315.84,-70 315.84,-77\"/>\n</g>\n</g>\n</svg>\n",
            "text/plain": [
              "<graphviz.graphs.Digraph at 0x7a115c8c6b50>"
            ]
          },
          "metadata": {},
          "execution_count": 93
        }
      ]
    },
    {
      "cell_type": "code",
      "source": [
        "o.grad = 1.0\n",
        "o._backward()"
      ],
      "metadata": {
        "id": "OuIseuYUAR5G"
      },
      "execution_count": 85,
      "outputs": []
    },
    {
      "cell_type": "code",
      "source": [
        "n._backward()"
      ],
      "metadata": {
        "id": "Ksu0zPG7A7Ad"
      },
      "execution_count": 87,
      "outputs": []
    },
    {
      "cell_type": "code",
      "source": [
        "b._backward()\n",
        "x1w1x2w2._backward()"
      ],
      "metadata": {
        "id": "8LHs7TJBCXTD"
      },
      "execution_count": 89,
      "outputs": []
    },
    {
      "cell_type": "code",
      "source": [
        "x1w1._backward()\n",
        "x2w2._backward()"
      ],
      "metadata": {
        "id": "0Om0N3_rCiN-"
      },
      "execution_count": 92,
      "outputs": []
    },
    {
      "cell_type": "markdown",
      "source": [
        "Use Topological Sort to create an ordered graph and automate the flow of backpropagation through the network"
      ],
      "metadata": {
        "id": "FwBVo1cYD5Wt"
      }
    },
    {
      "cell_type": "code",
      "source": [
        "topo = []\n",
        "visited = set()\n",
        "def build_topo(parent_node):\n",
        "  if parent_node not in visited:\n",
        "    visited.add(parent_node)\n",
        "    for child in parent_node._prev:\n",
        "      build_topo(child)\n",
        "    topo.append(parent_node)"
      ],
      "metadata": {
        "id": "7htghdi5Dy-E"
      },
      "execution_count": 105,
      "outputs": []
    },
    {
      "cell_type": "code",
      "source": [
        "# inputs x1, x2\n",
        "x1 = Value(2.0, label='x1')\n",
        "x2 = Value(0.0, label='x2')\n",
        "# weights w1, w2\n",
        "w1 = Value(-3.0, label='w1')\n",
        "w2 = Value(1.0, label='w2')\n",
        "# bias of the neuron\n",
        "b = Value(6.88137358702, label='b')\n",
        "x1w1 = x1*w1; x1w1.label = 'x1*w1'\n",
        "x2w2 = x2*w2; x2w2.label = 'x2*w2'\n",
        "x1w1x2w2 = x1w1 + x2w2; x1w1x2w2.label = 'x1*w1 + x2*w2'\n",
        "n = x1w1x2w2 + b; n.label = 'n'\n",
        "o = n.tanh(); o.label = 'o'"
      ],
      "metadata": {
        "id": "0HYhWS3GCrZL"
      },
      "execution_count": 97,
      "outputs": []
    },
    {
      "cell_type": "code",
      "source": [
        "draw_dot(o)"
      ],
      "metadata": {
        "colab": {
          "base_uri": "https://localhost:8080/",
          "height": 302
        },
        "id": "aN3cTprzHBcX",
        "outputId": "2320cc3b-6253-4a64-d590-0878641ae676"
      },
      "execution_count": 110,
      "outputs": [
        {
          "output_type": "execute_result",
          "data": {
            "image/svg+xml": "<?xml version=\"1.0\" encoding=\"UTF-8\" standalone=\"no\"?>\n<!DOCTYPE svg PUBLIC \"-//W3C//DTD SVG 1.1//EN\"\n \"http://www.w3.org/Graphics/SVG/1.1/DTD/svg11.dtd\">\n<!-- Generated by graphviz version 2.43.0 (0)\n -->\n<!-- Title: %3 Pages: 1 -->\n<svg width=\"1575pt\" height=\"210pt\"\n viewBox=\"0.00 0.00 1575.00 210.00\" xmlns=\"http://www.w3.org/2000/svg\" xmlns:xlink=\"http://www.w3.org/1999/xlink\">\n<g id=\"graph0\" class=\"graph\" transform=\"scale(1 1) rotate(0) translate(4 206)\">\n<title>%3</title>\n<polygon fill=\"white\" stroke=\"transparent\" points=\"-4,4 -4,-206 1571,-206 1571,4 -4,4\"/>\n<!-- 134214985675792 -->\n<g id=\"node1\" class=\"node\">\n<title>134214985675792</title>\n<polygon fill=\"none\" stroke=\"black\" points=\"1382,-109.5 1382,-145.5 1567,-145.5 1567,-109.5 1382,-109.5\"/>\n<text text-anchor=\"middle\" x=\"1393.5\" y=\"-123.8\" font-family=\"Times,serif\" font-size=\"14.00\">o</text>\n<polyline fill=\"none\" stroke=\"black\" points=\"1405,-109.5 1405,-145.5 \"/>\n<text text-anchor=\"middle\" x=\"1445\" y=\"-123.8\" font-family=\"Times,serif\" font-size=\"14.00\">data 0.7071</text>\n<polyline fill=\"none\" stroke=\"black\" points=\"1485,-109.5 1485,-145.5 \"/>\n<text text-anchor=\"middle\" x=\"1526\" y=\"-123.8\" font-family=\"Times,serif\" font-size=\"14.00\">grad 1.0000</text>\n</g>\n<!-- 134214985675792tanh -->\n<g id=\"node2\" class=\"node\">\n<title>134214985675792tanh</title>\n<ellipse fill=\"none\" stroke=\"black\" cx=\"1319\" cy=\"-127.5\" rx=\"27\" ry=\"18\"/>\n<text text-anchor=\"middle\" x=\"1319\" y=\"-123.8\" font-family=\"Times,serif\" font-size=\"14.00\">tanh</text>\n</g>\n<!-- 134214985675792tanh&#45;&gt;134214985675792 -->\n<g id=\"edge1\" class=\"edge\">\n<title>134214985675792tanh&#45;&gt;134214985675792</title>\n<path fill=\"none\" stroke=\"black\" d=\"M1346.04,-127.5C1353.58,-127.5 1362.3,-127.5 1371.57,-127.5\"/>\n<polygon fill=\"black\" stroke=\"black\" points=\"1371.81,-131 1381.81,-127.5 1371.81,-124 1371.81,-131\"/>\n</g>\n<!-- 134214985670160 -->\n<g id=\"node3\" class=\"node\">\n<title>134214985670160</title>\n<polygon fill=\"none\" stroke=\"black\" points=\"2.5,-165.5 2.5,-201.5 197.5,-201.5 197.5,-165.5 2.5,-165.5\"/>\n<text text-anchor=\"middle\" x=\"19\" y=\"-179.8\" font-family=\"Times,serif\" font-size=\"14.00\">w2</text>\n<polyline fill=\"none\" stroke=\"black\" points=\"35.5,-165.5 35.5,-201.5 \"/>\n<text text-anchor=\"middle\" x=\"75.5\" y=\"-179.8\" font-family=\"Times,serif\" font-size=\"14.00\">data 1.0000</text>\n<polyline fill=\"none\" stroke=\"black\" points=\"115.5,-165.5 115.5,-201.5 \"/>\n<text text-anchor=\"middle\" x=\"156.5\" y=\"-179.8\" font-family=\"Times,serif\" font-size=\"14.00\">grad 0.0000</text>\n</g>\n<!-- 134214985675408* -->\n<g id=\"node7\" class=\"node\">\n<title>134214985675408*</title>\n<ellipse fill=\"none\" stroke=\"black\" cx=\"263\" cy=\"-128.5\" rx=\"27\" ry=\"18\"/>\n<text text-anchor=\"middle\" x=\"263\" y=\"-124.8\" font-family=\"Times,serif\" font-size=\"14.00\">*</text>\n</g>\n<!-- 134214985670160&#45;&gt;134214985675408* -->\n<g id=\"edge11\" class=\"edge\">\n<title>134214985670160&#45;&gt;134214985675408*</title>\n<path fill=\"none\" stroke=\"black\" d=\"M172.53,-165.44C181.84,-162.67 191.2,-159.67 200,-156.5 210.53,-152.71 221.75,-147.9 231.72,-143.33\"/>\n<polygon fill=\"black\" stroke=\"black\" points=\"233.25,-146.48 240.82,-139.07 230.28,-140.14 233.25,-146.48\"/>\n</g>\n<!-- 134214985671184 -->\n<g id=\"node4\" class=\"node\">\n<title>134214985671184</title>\n<polygon fill=\"none\" stroke=\"black\" points=\"0,-55.5 0,-91.5 200,-91.5 200,-55.5 0,-55.5\"/>\n<text text-anchor=\"middle\" x=\"16.5\" y=\"-69.8\" font-family=\"Times,serif\" font-size=\"14.00\">w1</text>\n<polyline fill=\"none\" stroke=\"black\" points=\"33,-55.5 33,-91.5 \"/>\n<text text-anchor=\"middle\" x=\"75.5\" y=\"-69.8\" font-family=\"Times,serif\" font-size=\"14.00\">data &#45;3.0000</text>\n<polyline fill=\"none\" stroke=\"black\" points=\"118,-55.5 118,-91.5 \"/>\n<text text-anchor=\"middle\" x=\"159\" y=\"-69.8\" font-family=\"Times,serif\" font-size=\"14.00\">grad 1.0000</text>\n</g>\n<!-- 134214985663312* -->\n<g id=\"node13\" class=\"node\">\n<title>134214985663312*</title>\n<ellipse fill=\"none\" stroke=\"black\" cx=\"263\" cy=\"-73.5\" rx=\"27\" ry=\"18\"/>\n<text text-anchor=\"middle\" x=\"263\" y=\"-69.8\" font-family=\"Times,serif\" font-size=\"14.00\">*</text>\n</g>\n<!-- 134214985671184&#45;&gt;134214985663312* -->\n<g id=\"edge12\" class=\"edge\">\n<title>134214985671184&#45;&gt;134214985663312*</title>\n<path fill=\"none\" stroke=\"black\" d=\"M200.21,-73.5C209.2,-73.5 217.86,-73.5 225.7,-73.5\"/>\n<polygon fill=\"black\" stroke=\"black\" points=\"225.85,-77 235.85,-73.5 225.85,-70 225.85,-77\"/>\n</g>\n<!-- 134214985674832 -->\n<g id=\"node5\" class=\"node\">\n<title>134214985674832</title>\n<polygon fill=\"none\" stroke=\"black\" points=\"4,-110.5 4,-146.5 196,-146.5 196,-110.5 4,-110.5\"/>\n<text text-anchor=\"middle\" x=\"19\" y=\"-124.8\" font-family=\"Times,serif\" font-size=\"14.00\">x2</text>\n<polyline fill=\"none\" stroke=\"black\" points=\"34,-110.5 34,-146.5 \"/>\n<text text-anchor=\"middle\" x=\"74\" y=\"-124.8\" font-family=\"Times,serif\" font-size=\"14.00\">data 0.0000</text>\n<polyline fill=\"none\" stroke=\"black\" points=\"114,-110.5 114,-146.5 \"/>\n<text text-anchor=\"middle\" x=\"155\" y=\"-124.8\" font-family=\"Times,serif\" font-size=\"14.00\">grad 0.5000</text>\n</g>\n<!-- 134214985674832&#45;&gt;134214985675408* -->\n<g id=\"edge13\" class=\"edge\">\n<title>134214985674832&#45;&gt;134214985675408*</title>\n<path fill=\"none\" stroke=\"black\" d=\"M196.05,-128.5C206.52,-128.5 216.65,-128.5 225.71,-128.5\"/>\n<polygon fill=\"black\" stroke=\"black\" points=\"225.79,-132 235.79,-128.5 225.79,-125 225.79,-132\"/>\n</g>\n<!-- 134214985675408 -->\n<g id=\"node6\" class=\"node\">\n<title>134214985675408</title>\n<polygon fill=\"none\" stroke=\"black\" points=\"328.5,-110.5 328.5,-146.5 543.5,-146.5 543.5,-110.5 328.5,-110.5\"/>\n<text text-anchor=\"middle\" x=\"355\" y=\"-124.8\" font-family=\"Times,serif\" font-size=\"14.00\">x2*w2</text>\n<polyline fill=\"none\" stroke=\"black\" points=\"381.5,-110.5 381.5,-146.5 \"/>\n<text text-anchor=\"middle\" x=\"421.5\" y=\"-124.8\" font-family=\"Times,serif\" font-size=\"14.00\">data 0.0000</text>\n<polyline fill=\"none\" stroke=\"black\" points=\"461.5,-110.5 461.5,-146.5 \"/>\n<text text-anchor=\"middle\" x=\"502.5\" y=\"-124.8\" font-family=\"Times,serif\" font-size=\"14.00\">grad 0.5000</text>\n</g>\n<!-- 134214985670416+ -->\n<g id=\"node11\" class=\"node\">\n<title>134214985670416+</title>\n<ellipse fill=\"none\" stroke=\"black\" cx=\"609\" cy=\"-100.5\" rx=\"27\" ry=\"18\"/>\n<text text-anchor=\"middle\" x=\"609\" y=\"-96.8\" font-family=\"Times,serif\" font-size=\"14.00\">+</text>\n</g>\n<!-- 134214985675408&#45;&gt;134214985670416+ -->\n<g id=\"edge7\" class=\"edge\">\n<title>134214985675408&#45;&gt;134214985670416+</title>\n<path fill=\"none\" stroke=\"black\" d=\"M543.84,-111.01C554.01,-109.34 563.76,-107.74 572.44,-106.32\"/>\n<polygon fill=\"black\" stroke=\"black\" points=\"573.17,-109.75 582.47,-104.68 572.04,-102.84 573.17,-109.75\"/>\n</g>\n<!-- 134214985675408*&#45;&gt;134214985675408 -->\n<g id=\"edge2\" class=\"edge\">\n<title>134214985675408*&#45;&gt;134214985675408</title>\n<path fill=\"none\" stroke=\"black\" d=\"M290.34,-128.5C298.51,-128.5 308.08,-128.5 318.36,-128.5\"/>\n<polygon fill=\"black\" stroke=\"black\" points=\"318.39,-132 328.39,-128.5 318.39,-125 318.39,-132\"/>\n</g>\n<!-- 134214985673424 -->\n<g id=\"node8\" class=\"node\">\n<title>134214985673424</title>\n<polygon fill=\"none\" stroke=\"black\" points=\"2,-0.5 2,-36.5 198,-36.5 198,-0.5 2,-0.5\"/>\n<text text-anchor=\"middle\" x=\"17\" y=\"-14.8\" font-family=\"Times,serif\" font-size=\"14.00\">x1</text>\n<polyline fill=\"none\" stroke=\"black\" points=\"32,-0.5 32,-36.5 \"/>\n<text text-anchor=\"middle\" x=\"72\" y=\"-14.8\" font-family=\"Times,serif\" font-size=\"14.00\">data 2.0000</text>\n<polyline fill=\"none\" stroke=\"black\" points=\"112,-0.5 112,-36.5 \"/>\n<text text-anchor=\"middle\" x=\"155\" y=\"-14.8\" font-family=\"Times,serif\" font-size=\"14.00\">grad &#45;1.5000</text>\n</g>\n<!-- 134214985673424&#45;&gt;134214985663312* -->\n<g id=\"edge14\" class=\"edge\">\n<title>134214985673424&#45;&gt;134214985663312*</title>\n<path fill=\"none\" stroke=\"black\" d=\"M169.28,-36.5C179.65,-39.61 190.16,-42.98 200,-46.5 210.28,-50.17 221.28,-54.74 231.11,-59.07\"/>\n<polygon fill=\"black\" stroke=\"black\" points=\"229.93,-62.37 240.48,-63.27 232.79,-55.99 229.93,-62.37\"/>\n</g>\n<!-- 134214985677264 -->\n<g id=\"node9\" class=\"node\">\n<title>134214985677264</title>\n<polygon fill=\"none\" stroke=\"black\" points=\"716,-137.5 716,-173.5 901,-173.5 901,-137.5 716,-137.5\"/>\n<text text-anchor=\"middle\" x=\"727.5\" y=\"-151.8\" font-family=\"Times,serif\" font-size=\"14.00\">b</text>\n<polyline fill=\"none\" stroke=\"black\" points=\"739,-137.5 739,-173.5 \"/>\n<text text-anchor=\"middle\" x=\"779\" y=\"-151.8\" font-family=\"Times,serif\" font-size=\"14.00\">data 6.8814</text>\n<polyline fill=\"none\" stroke=\"black\" points=\"819,-137.5 819,-173.5 \"/>\n<text text-anchor=\"middle\" x=\"860\" y=\"-151.8\" font-family=\"Times,serif\" font-size=\"14.00\">grad 0.5000</text>\n</g>\n<!-- 134214985676752+ -->\n<g id=\"node15\" class=\"node\">\n<title>134214985676752+</title>\n<ellipse fill=\"none\" stroke=\"black\" cx=\"1008\" cy=\"-127.5\" rx=\"27\" ry=\"18\"/>\n<text text-anchor=\"middle\" x=\"1008\" y=\"-123.8\" font-family=\"Times,serif\" font-size=\"14.00\">+</text>\n</g>\n<!-- 134214985677264&#45;&gt;134214985676752+ -->\n<g id=\"edge10\" class=\"edge\">\n<title>134214985677264&#45;&gt;134214985676752+</title>\n<path fill=\"none\" stroke=\"black\" d=\"M901.02,-142.52C926,-138.98 951.59,-135.36 971.37,-132.55\"/>\n<polygon fill=\"black\" stroke=\"black\" points=\"972.03,-135.99 981.43,-131.12 971.04,-129.06 972.03,-135.99\"/>\n</g>\n<!-- 134214985670416 -->\n<g id=\"node10\" class=\"node\">\n<title>134214985670416</title>\n<polygon fill=\"none\" stroke=\"black\" points=\"672,-82.5 672,-118.5 945,-118.5 945,-82.5 672,-82.5\"/>\n<text text-anchor=\"middle\" x=\"725\" y=\"-96.8\" font-family=\"Times,serif\" font-size=\"14.00\">x1*w1 + x2*w2</text>\n<polyline fill=\"none\" stroke=\"black\" points=\"778,-82.5 778,-118.5 \"/>\n<text text-anchor=\"middle\" x=\"820.5\" y=\"-96.8\" font-family=\"Times,serif\" font-size=\"14.00\">data &#45;6.0000</text>\n<polyline fill=\"none\" stroke=\"black\" points=\"863,-82.5 863,-118.5 \"/>\n<text text-anchor=\"middle\" x=\"904\" y=\"-96.8\" font-family=\"Times,serif\" font-size=\"14.00\">grad 0.5000</text>\n</g>\n<!-- 134214985670416&#45;&gt;134214985676752+ -->\n<g id=\"edge8\" class=\"edge\">\n<title>134214985670416&#45;&gt;134214985676752+</title>\n<path fill=\"none\" stroke=\"black\" d=\"M941.24,-118.51C952.12,-120 962.4,-121.4 971.45,-122.64\"/>\n<polygon fill=\"black\" stroke=\"black\" points=\"971.11,-126.13 981.49,-124.01 972.05,-119.19 971.11,-126.13\"/>\n</g>\n<!-- 134214985670416+&#45;&gt;134214985670416 -->\n<g id=\"edge3\" class=\"edge\">\n<title>134214985670416+&#45;&gt;134214985670416</title>\n<path fill=\"none\" stroke=\"black\" d=\"M636.23,-100.5C643.7,-100.5 652.41,-100.5 661.87,-100.5\"/>\n<polygon fill=\"black\" stroke=\"black\" points=\"661.98,-104 671.98,-100.5 661.98,-97 661.98,-104\"/>\n</g>\n<!-- 134214985663312 -->\n<g id=\"node12\" class=\"node\">\n<title>134214985663312</title>\n<polygon fill=\"none\" stroke=\"black\" points=\"326,-55.5 326,-91.5 546,-91.5 546,-55.5 326,-55.5\"/>\n<text text-anchor=\"middle\" x=\"352.5\" y=\"-69.8\" font-family=\"Times,serif\" font-size=\"14.00\">x1*w1</text>\n<polyline fill=\"none\" stroke=\"black\" points=\"379,-55.5 379,-91.5 \"/>\n<text text-anchor=\"middle\" x=\"421.5\" y=\"-69.8\" font-family=\"Times,serif\" font-size=\"14.00\">data &#45;6.0000</text>\n<polyline fill=\"none\" stroke=\"black\" points=\"464,-55.5 464,-91.5 \"/>\n<text text-anchor=\"middle\" x=\"505\" y=\"-69.8\" font-family=\"Times,serif\" font-size=\"14.00\">grad 0.5000</text>\n</g>\n<!-- 134214985663312&#45;&gt;134214985670416+ -->\n<g id=\"edge9\" class=\"edge\">\n<title>134214985663312&#45;&gt;134214985670416+</title>\n<path fill=\"none\" stroke=\"black\" d=\"M546.27,-90.75C555.64,-92.23 564.6,-93.65 572.65,-94.92\"/>\n<polygon fill=\"black\" stroke=\"black\" points=\"572.23,-98.4 582.65,-96.5 573.32,-91.48 572.23,-98.4\"/>\n</g>\n<!-- 134214985663312*&#45;&gt;134214985663312 -->\n<g id=\"edge4\" class=\"edge\">\n<title>134214985663312*&#45;&gt;134214985663312</title>\n<path fill=\"none\" stroke=\"black\" d=\"M290.34,-73.5C297.77,-73.5 306.37,-73.5 315.6,-73.5\"/>\n<polygon fill=\"black\" stroke=\"black\" points=\"315.84,-77 325.84,-73.5 315.84,-70 315.84,-77\"/>\n</g>\n<!-- 134214985676752 -->\n<g id=\"node14\" class=\"node\">\n<title>134214985676752</title>\n<polygon fill=\"none\" stroke=\"black\" points=\"1071,-109.5 1071,-145.5 1256,-145.5 1256,-109.5 1071,-109.5\"/>\n<text text-anchor=\"middle\" x=\"1082.5\" y=\"-123.8\" font-family=\"Times,serif\" font-size=\"14.00\">n</text>\n<polyline fill=\"none\" stroke=\"black\" points=\"1094,-109.5 1094,-145.5 \"/>\n<text text-anchor=\"middle\" x=\"1134\" y=\"-123.8\" font-family=\"Times,serif\" font-size=\"14.00\">data 0.8814</text>\n<polyline fill=\"none\" stroke=\"black\" points=\"1174,-109.5 1174,-145.5 \"/>\n<text text-anchor=\"middle\" x=\"1215\" y=\"-123.8\" font-family=\"Times,serif\" font-size=\"14.00\">grad 0.5000</text>\n</g>\n<!-- 134214985676752&#45;&gt;134214985675792tanh -->\n<g id=\"edge6\" class=\"edge\">\n<title>134214985676752&#45;&gt;134214985675792tanh</title>\n<path fill=\"none\" stroke=\"black\" d=\"M1256.01,-127.5C1265.01,-127.5 1273.74,-127.5 1281.66,-127.5\"/>\n<polygon fill=\"black\" stroke=\"black\" points=\"1281.91,-131 1291.91,-127.5 1281.91,-124 1281.91,-131\"/>\n</g>\n<!-- 134214985676752+&#45;&gt;134214985676752 -->\n<g id=\"edge5\" class=\"edge\">\n<title>134214985676752+&#45;&gt;134214985676752</title>\n<path fill=\"none\" stroke=\"black\" d=\"M1035.04,-127.5C1042.58,-127.5 1051.3,-127.5 1060.57,-127.5\"/>\n<polygon fill=\"black\" stroke=\"black\" points=\"1060.81,-131 1070.81,-127.5 1060.81,-124 1060.81,-131\"/>\n</g>\n</g>\n</svg>\n",
            "text/plain": [
              "<graphviz.graphs.Digraph at 0x7a115c8b6f50>"
            ]
          },
          "metadata": {},
          "execution_count": 110
        }
      ]
    },
    {
      "cell_type": "code",
      "source": [
        "o.grad = 1.0\n",
        "build_topo(o)\n",
        "\n",
        "for node in reversed(topo):\n",
        "  node._backward()"
      ],
      "metadata": {
        "id": "MH2YTpGWHCV6"
      },
      "execution_count": 109,
      "outputs": []
    },
    {
      "cell_type": "markdown",
      "source": [
        "Now we can integrate this notion of the topological sort as a method inside the Value class. We call this backward(), and will expliot the operation-specific _backward() methods."
      ],
      "metadata": {
        "id": "pmqDuVdRIoz5"
      }
    },
    {
      "cell_type": "code",
      "source": [
        "# inputs x1, x2\n",
        "x1 = Value(2.0, label='x1')\n",
        "x2 = Value(0.0, label='x2')\n",
        "# weights w1, w2\n",
        "w1 = Value(-3.0, label='w1')\n",
        "w2 = Value(1.0, label='w2')\n",
        "# bias of the neuron\n",
        "b = Value(6.88137358702, label='b')\n",
        "x1w1 = x1*w1; x1w1.label = 'x1*w1'\n",
        "x2w2 = x2*w2; x2w2.label = 'x2*w2'\n",
        "x1w1x2w2 = x1w1 + x2w2; x1w1x2w2.label = 'x1*w1 + x2*w2'\n",
        "n = x1w1x2w2 + b; n.label = 'n'\n",
        "o = n.tanh(); o.label = 'o'"
      ],
      "metadata": {
        "id": "HAo_Zbl4HIcS"
      },
      "execution_count": 111,
      "outputs": []
    },
    {
      "cell_type": "code",
      "source": [
        "draw_dot(o)"
      ],
      "metadata": {
        "colab": {
          "base_uri": "https://localhost:8080/",
          "height": 302
        },
        "id": "UAM7W0tHKSmg",
        "outputId": "337e1cfc-f8e4-4efc-86a9-abc562874c9e"
      },
      "execution_count": 114,
      "outputs": [
        {
          "output_type": "execute_result",
          "data": {
            "image/svg+xml": "<?xml version=\"1.0\" encoding=\"UTF-8\" standalone=\"no\"?>\n<!DOCTYPE svg PUBLIC \"-//W3C//DTD SVG 1.1//EN\"\n \"http://www.w3.org/Graphics/SVG/1.1/DTD/svg11.dtd\">\n<!-- Generated by graphviz version 2.43.0 (0)\n -->\n<!-- Title: %3 Pages: 1 -->\n<svg width=\"1575pt\" height=\"210pt\"\n viewBox=\"0.00 0.00 1575.00 210.00\" xmlns=\"http://www.w3.org/2000/svg\" xmlns:xlink=\"http://www.w3.org/1999/xlink\">\n<g id=\"graph0\" class=\"graph\" transform=\"scale(1 1) rotate(0) translate(4 206)\">\n<title>%3</title>\n<polygon fill=\"white\" stroke=\"transparent\" points=\"-4,4 -4,-206 1571,-206 1571,4 -4,4\"/>\n<!-- 134214986206224 -->\n<g id=\"node1\" class=\"node\">\n<title>134214986206224</title>\n<polygon fill=\"none\" stroke=\"black\" points=\"328.5,-55.5 328.5,-91.5 543.5,-91.5 543.5,-55.5 328.5,-55.5\"/>\n<text text-anchor=\"middle\" x=\"355\" y=\"-69.8\" font-family=\"Times,serif\" font-size=\"14.00\">x2*w2</text>\n<polyline fill=\"none\" stroke=\"black\" points=\"381.5,-55.5 381.5,-91.5 \"/>\n<text text-anchor=\"middle\" x=\"421.5\" y=\"-69.8\" font-family=\"Times,serif\" font-size=\"14.00\">data 0.0000</text>\n<polyline fill=\"none\" stroke=\"black\" points=\"461.5,-55.5 461.5,-91.5 \"/>\n<text text-anchor=\"middle\" x=\"502.5\" y=\"-69.8\" font-family=\"Times,serif\" font-size=\"14.00\">grad 0.5000</text>\n</g>\n<!-- 134214986214224+ -->\n<g id=\"node13\" class=\"node\">\n<title>134214986214224+</title>\n<ellipse fill=\"none\" stroke=\"black\" cx=\"609\" cy=\"-100.5\" rx=\"27\" ry=\"18\"/>\n<text text-anchor=\"middle\" x=\"609\" y=\"-96.8\" font-family=\"Times,serif\" font-size=\"14.00\">+</text>\n</g>\n<!-- 134214986206224&#45;&gt;134214986214224+ -->\n<g id=\"edge9\" class=\"edge\">\n<title>134214986206224&#45;&gt;134214986214224+</title>\n<path fill=\"none\" stroke=\"black\" d=\"M543.84,-90.37C554.01,-91.98 563.76,-93.51 572.44,-94.89\"/>\n<polygon fill=\"black\" stroke=\"black\" points=\"572.05,-98.37 582.47,-96.47 573.14,-91.45 572.05,-98.37\"/>\n</g>\n<!-- 134214986206224* -->\n<g id=\"node2\" class=\"node\">\n<title>134214986206224*</title>\n<ellipse fill=\"none\" stroke=\"black\" cx=\"263\" cy=\"-73.5\" rx=\"27\" ry=\"18\"/>\n<text text-anchor=\"middle\" x=\"263\" y=\"-69.8\" font-family=\"Times,serif\" font-size=\"14.00\">*</text>\n</g>\n<!-- 134214986206224*&#45;&gt;134214986206224 -->\n<g id=\"edge1\" class=\"edge\">\n<title>134214986206224*&#45;&gt;134214986206224</title>\n<path fill=\"none\" stroke=\"black\" d=\"M290.34,-73.5C298.51,-73.5 308.08,-73.5 318.36,-73.5\"/>\n<polygon fill=\"black\" stroke=\"black\" points=\"318.39,-77 328.39,-73.5 318.39,-70 318.39,-77\"/>\n</g>\n<!-- 134214986210896 -->\n<g id=\"node3\" class=\"node\">\n<title>134214986210896</title>\n<polygon fill=\"none\" stroke=\"black\" points=\"2.5,-55.5 2.5,-91.5 197.5,-91.5 197.5,-55.5 2.5,-55.5\"/>\n<text text-anchor=\"middle\" x=\"19\" y=\"-69.8\" font-family=\"Times,serif\" font-size=\"14.00\">w2</text>\n<polyline fill=\"none\" stroke=\"black\" points=\"35.5,-55.5 35.5,-91.5 \"/>\n<text text-anchor=\"middle\" x=\"75.5\" y=\"-69.8\" font-family=\"Times,serif\" font-size=\"14.00\">data 1.0000</text>\n<polyline fill=\"none\" stroke=\"black\" points=\"115.5,-55.5 115.5,-91.5 \"/>\n<text text-anchor=\"middle\" x=\"156.5\" y=\"-69.8\" font-family=\"Times,serif\" font-size=\"14.00\">grad 0.0000</text>\n</g>\n<!-- 134214986210896&#45;&gt;134214986206224* -->\n<g id=\"edge14\" class=\"edge\">\n<title>134214986210896&#45;&gt;134214986206224*</title>\n<path fill=\"none\" stroke=\"black\" d=\"M197.91,-73.5C207.65,-73.5 217.05,-73.5 225.52,-73.5\"/>\n<polygon fill=\"black\" stroke=\"black\" points=\"225.7,-77 235.7,-73.5 225.7,-70 225.7,-77\"/>\n</g>\n<!-- 134214986206352 -->\n<g id=\"node4\" class=\"node\">\n<title>134214986206352</title>\n<polygon fill=\"none\" stroke=\"black\" points=\"326,-110.5 326,-146.5 546,-146.5 546,-110.5 326,-110.5\"/>\n<text text-anchor=\"middle\" x=\"352.5\" y=\"-124.8\" font-family=\"Times,serif\" font-size=\"14.00\">x1*w1</text>\n<polyline fill=\"none\" stroke=\"black\" points=\"379,-110.5 379,-146.5 \"/>\n<text text-anchor=\"middle\" x=\"421.5\" y=\"-124.8\" font-family=\"Times,serif\" font-size=\"14.00\">data &#45;6.0000</text>\n<polyline fill=\"none\" stroke=\"black\" points=\"464,-110.5 464,-146.5 \"/>\n<text text-anchor=\"middle\" x=\"505\" y=\"-124.8\" font-family=\"Times,serif\" font-size=\"14.00\">grad 0.5000</text>\n</g>\n<!-- 134214986206352&#45;&gt;134214986214224+ -->\n<g id=\"edge11\" class=\"edge\">\n<title>134214986206352&#45;&gt;134214986214224+</title>\n<path fill=\"none\" stroke=\"black\" d=\"M546.27,-110.61C555.64,-109.07 564.6,-107.61 572.65,-106.29\"/>\n<polygon fill=\"black\" stroke=\"black\" points=\"573.35,-109.72 582.65,-104.65 572.22,-102.81 573.35,-109.72\"/>\n</g>\n<!-- 134214986206352* -->\n<g id=\"node5\" class=\"node\">\n<title>134214986206352*</title>\n<ellipse fill=\"none\" stroke=\"black\" cx=\"263\" cy=\"-128.5\" rx=\"27\" ry=\"18\"/>\n<text text-anchor=\"middle\" x=\"263\" y=\"-124.8\" font-family=\"Times,serif\" font-size=\"14.00\">*</text>\n</g>\n<!-- 134214986206352*&#45;&gt;134214986206352 -->\n<g id=\"edge2\" class=\"edge\">\n<title>134214986206352*&#45;&gt;134214986206352</title>\n<path fill=\"none\" stroke=\"black\" d=\"M290.34,-128.5C297.77,-128.5 306.37,-128.5 315.6,-128.5\"/>\n<polygon fill=\"black\" stroke=\"black\" points=\"315.84,-132 325.84,-128.5 315.84,-125 315.84,-132\"/>\n</g>\n<!-- 134214986207952 -->\n<g id=\"node6\" class=\"node\">\n<title>134214986207952</title>\n<polygon fill=\"none\" stroke=\"black\" points=\"1071,-109.5 1071,-145.5 1256,-145.5 1256,-109.5 1071,-109.5\"/>\n<text text-anchor=\"middle\" x=\"1082.5\" y=\"-123.8\" font-family=\"Times,serif\" font-size=\"14.00\">n</text>\n<polyline fill=\"none\" stroke=\"black\" points=\"1094,-109.5 1094,-145.5 \"/>\n<text text-anchor=\"middle\" x=\"1134\" y=\"-123.8\" font-family=\"Times,serif\" font-size=\"14.00\">data 0.8814</text>\n<polyline fill=\"none\" stroke=\"black\" points=\"1174,-109.5 1174,-145.5 \"/>\n<text text-anchor=\"middle\" x=\"1215\" y=\"-123.8\" font-family=\"Times,serif\" font-size=\"14.00\">grad 0.5000</text>\n</g>\n<!-- 134214986213072tanh -->\n<g id=\"node9\" class=\"node\">\n<title>134214986213072tanh</title>\n<ellipse fill=\"none\" stroke=\"black\" cx=\"1319\" cy=\"-127.5\" rx=\"27\" ry=\"18\"/>\n<text text-anchor=\"middle\" x=\"1319\" y=\"-123.8\" font-family=\"Times,serif\" font-size=\"14.00\">tanh</text>\n</g>\n<!-- 134214986207952&#45;&gt;134214986213072tanh -->\n<g id=\"edge6\" class=\"edge\">\n<title>134214986207952&#45;&gt;134214986213072tanh</title>\n<path fill=\"none\" stroke=\"black\" d=\"M1256.01,-127.5C1265.01,-127.5 1273.74,-127.5 1281.66,-127.5\"/>\n<polygon fill=\"black\" stroke=\"black\" points=\"1281.91,-131 1291.91,-127.5 1281.91,-124 1281.91,-131\"/>\n</g>\n<!-- 134214986207952+ -->\n<g id=\"node7\" class=\"node\">\n<title>134214986207952+</title>\n<ellipse fill=\"none\" stroke=\"black\" cx=\"1008\" cy=\"-127.5\" rx=\"27\" ry=\"18\"/>\n<text text-anchor=\"middle\" x=\"1008\" y=\"-123.8\" font-family=\"Times,serif\" font-size=\"14.00\">+</text>\n</g>\n<!-- 134214986207952+&#45;&gt;134214986207952 -->\n<g id=\"edge3\" class=\"edge\">\n<title>134214986207952+&#45;&gt;134214986207952</title>\n<path fill=\"none\" stroke=\"black\" d=\"M1035.04,-127.5C1042.58,-127.5 1051.3,-127.5 1060.57,-127.5\"/>\n<polygon fill=\"black\" stroke=\"black\" points=\"1060.81,-131 1070.81,-127.5 1060.81,-124 1060.81,-131\"/>\n</g>\n<!-- 134214986213072 -->\n<g id=\"node8\" class=\"node\">\n<title>134214986213072</title>\n<polygon fill=\"none\" stroke=\"black\" points=\"1382,-109.5 1382,-145.5 1567,-145.5 1567,-109.5 1382,-109.5\"/>\n<text text-anchor=\"middle\" x=\"1393.5\" y=\"-123.8\" font-family=\"Times,serif\" font-size=\"14.00\">o</text>\n<polyline fill=\"none\" stroke=\"black\" points=\"1405,-109.5 1405,-145.5 \"/>\n<text text-anchor=\"middle\" x=\"1445\" y=\"-123.8\" font-family=\"Times,serif\" font-size=\"14.00\">data 0.7071</text>\n<polyline fill=\"none\" stroke=\"black\" points=\"1485,-109.5 1485,-145.5 \"/>\n<text text-anchor=\"middle\" x=\"1526\" y=\"-123.8\" font-family=\"Times,serif\" font-size=\"14.00\">grad 1.0000</text>\n</g>\n<!-- 134214986213072tanh&#45;&gt;134214986213072 -->\n<g id=\"edge4\" class=\"edge\">\n<title>134214986213072tanh&#45;&gt;134214986213072</title>\n<path fill=\"none\" stroke=\"black\" d=\"M1346.04,-127.5C1353.58,-127.5 1362.3,-127.5 1371.57,-127.5\"/>\n<polygon fill=\"black\" stroke=\"black\" points=\"1371.81,-131 1381.81,-127.5 1371.81,-124 1371.81,-131\"/>\n</g>\n<!-- 134214986205392 -->\n<g id=\"node10\" class=\"node\">\n<title>134214986205392</title>\n<polygon fill=\"none\" stroke=\"black\" points=\"4,-0.5 4,-36.5 196,-36.5 196,-0.5 4,-0.5\"/>\n<text text-anchor=\"middle\" x=\"19\" y=\"-14.8\" font-family=\"Times,serif\" font-size=\"14.00\">x2</text>\n<polyline fill=\"none\" stroke=\"black\" points=\"34,-0.5 34,-36.5 \"/>\n<text text-anchor=\"middle\" x=\"74\" y=\"-14.8\" font-family=\"Times,serif\" font-size=\"14.00\">data 0.0000</text>\n<polyline fill=\"none\" stroke=\"black\" points=\"114,-0.5 114,-36.5 \"/>\n<text text-anchor=\"middle\" x=\"155\" y=\"-14.8\" font-family=\"Times,serif\" font-size=\"14.00\">grad 0.5000</text>\n</g>\n<!-- 134214986205392&#45;&gt;134214986206224* -->\n<g id=\"edge13\" class=\"edge\">\n<title>134214986205392&#45;&gt;134214986206224*</title>\n<path fill=\"none\" stroke=\"black\" d=\"M169.28,-36.5C179.65,-39.61 190.16,-42.98 200,-46.5 210.28,-50.17 221.28,-54.74 231.11,-59.07\"/>\n<polygon fill=\"black\" stroke=\"black\" points=\"229.93,-62.37 240.48,-63.27 232.79,-55.99 229.93,-62.37\"/>\n</g>\n<!-- 134214986210576 -->\n<g id=\"node11\" class=\"node\">\n<title>134214986210576</title>\n<polygon fill=\"none\" stroke=\"black\" points=\"0,-165.5 0,-201.5 200,-201.5 200,-165.5 0,-165.5\"/>\n<text text-anchor=\"middle\" x=\"16.5\" y=\"-179.8\" font-family=\"Times,serif\" font-size=\"14.00\">w1</text>\n<polyline fill=\"none\" stroke=\"black\" points=\"33,-165.5 33,-201.5 \"/>\n<text text-anchor=\"middle\" x=\"75.5\" y=\"-179.8\" font-family=\"Times,serif\" font-size=\"14.00\">data &#45;3.0000</text>\n<polyline fill=\"none\" stroke=\"black\" points=\"118,-165.5 118,-201.5 \"/>\n<text text-anchor=\"middle\" x=\"159\" y=\"-179.8\" font-family=\"Times,serif\" font-size=\"14.00\">grad 1.0000</text>\n</g>\n<!-- 134214986210576&#45;&gt;134214986206352* -->\n<g id=\"edge12\" class=\"edge\">\n<title>134214986210576&#45;&gt;134214986206352*</title>\n<path fill=\"none\" stroke=\"black\" d=\"M172.53,-165.44C181.84,-162.67 191.2,-159.67 200,-156.5 210.53,-152.71 221.75,-147.9 231.72,-143.33\"/>\n<polygon fill=\"black\" stroke=\"black\" points=\"233.25,-146.48 240.82,-139.07 230.28,-140.14 233.25,-146.48\"/>\n</g>\n<!-- 134214986214224 -->\n<g id=\"node12\" class=\"node\">\n<title>134214986214224</title>\n<polygon fill=\"none\" stroke=\"black\" points=\"672,-82.5 672,-118.5 945,-118.5 945,-82.5 672,-82.5\"/>\n<text text-anchor=\"middle\" x=\"725\" y=\"-96.8\" font-family=\"Times,serif\" font-size=\"14.00\">x1*w1 + x2*w2</text>\n<polyline fill=\"none\" stroke=\"black\" points=\"778,-82.5 778,-118.5 \"/>\n<text text-anchor=\"middle\" x=\"820.5\" y=\"-96.8\" font-family=\"Times,serif\" font-size=\"14.00\">data &#45;6.0000</text>\n<polyline fill=\"none\" stroke=\"black\" points=\"863,-82.5 863,-118.5 \"/>\n<text text-anchor=\"middle\" x=\"904\" y=\"-96.8\" font-family=\"Times,serif\" font-size=\"14.00\">grad 0.5000</text>\n</g>\n<!-- 134214986214224&#45;&gt;134214986207952+ -->\n<g id=\"edge10\" class=\"edge\">\n<title>134214986214224&#45;&gt;134214986207952+</title>\n<path fill=\"none\" stroke=\"black\" d=\"M941.24,-118.51C952.12,-120 962.4,-121.4 971.45,-122.64\"/>\n<polygon fill=\"black\" stroke=\"black\" points=\"971.11,-126.13 981.49,-124.01 972.05,-119.19 971.11,-126.13\"/>\n</g>\n<!-- 134214986214224+&#45;&gt;134214986214224 -->\n<g id=\"edge5\" class=\"edge\">\n<title>134214986214224+&#45;&gt;134214986214224</title>\n<path fill=\"none\" stroke=\"black\" d=\"M636.23,-100.5C643.7,-100.5 652.41,-100.5 661.87,-100.5\"/>\n<polygon fill=\"black\" stroke=\"black\" points=\"661.98,-104 671.98,-100.5 661.98,-97 661.98,-104\"/>\n</g>\n<!-- 134214986205584 -->\n<g id=\"node14\" class=\"node\">\n<title>134214986205584</title>\n<polygon fill=\"none\" stroke=\"black\" points=\"716,-137.5 716,-173.5 901,-173.5 901,-137.5 716,-137.5\"/>\n<text text-anchor=\"middle\" x=\"727.5\" y=\"-151.8\" font-family=\"Times,serif\" font-size=\"14.00\">b</text>\n<polyline fill=\"none\" stroke=\"black\" points=\"739,-137.5 739,-173.5 \"/>\n<text text-anchor=\"middle\" x=\"779\" y=\"-151.8\" font-family=\"Times,serif\" font-size=\"14.00\">data 6.8814</text>\n<polyline fill=\"none\" stroke=\"black\" points=\"819,-137.5 819,-173.5 \"/>\n<text text-anchor=\"middle\" x=\"860\" y=\"-151.8\" font-family=\"Times,serif\" font-size=\"14.00\">grad 0.5000</text>\n</g>\n<!-- 134214986205584&#45;&gt;134214986207952+ -->\n<g id=\"edge8\" class=\"edge\">\n<title>134214986205584&#45;&gt;134214986207952+</title>\n<path fill=\"none\" stroke=\"black\" d=\"M901.02,-142.52C926,-138.98 951.59,-135.36 971.37,-132.55\"/>\n<polygon fill=\"black\" stroke=\"black\" points=\"972.03,-135.99 981.43,-131.12 971.04,-129.06 972.03,-135.99\"/>\n</g>\n<!-- 134214986215888 -->\n<g id=\"node15\" class=\"node\">\n<title>134214986215888</title>\n<polygon fill=\"none\" stroke=\"black\" points=\"2,-110.5 2,-146.5 198,-146.5 198,-110.5 2,-110.5\"/>\n<text text-anchor=\"middle\" x=\"17\" y=\"-124.8\" font-family=\"Times,serif\" font-size=\"14.00\">x1</text>\n<polyline fill=\"none\" stroke=\"black\" points=\"32,-110.5 32,-146.5 \"/>\n<text text-anchor=\"middle\" x=\"72\" y=\"-124.8\" font-family=\"Times,serif\" font-size=\"14.00\">data 2.0000</text>\n<polyline fill=\"none\" stroke=\"black\" points=\"112,-110.5 112,-146.5 \"/>\n<text text-anchor=\"middle\" x=\"155\" y=\"-124.8\" font-family=\"Times,serif\" font-size=\"14.00\">grad &#45;1.5000</text>\n</g>\n<!-- 134214986215888&#45;&gt;134214986206352* -->\n<g id=\"edge7\" class=\"edge\">\n<title>134214986215888&#45;&gt;134214986206352*</title>\n<path fill=\"none\" stroke=\"black\" d=\"M198.37,-128.5C208.05,-128.5 217.4,-128.5 225.8,-128.5\"/>\n<polygon fill=\"black\" stroke=\"black\" points=\"225.91,-132 235.91,-128.5 225.91,-125 225.91,-132\"/>\n</g>\n</g>\n</svg>\n",
            "text/plain": [
              "<graphviz.graphs.Digraph at 0x7a115c93bf90>"
            ]
          },
          "metadata": {},
          "execution_count": 114
        }
      ]
    },
    {
      "cell_type": "code",
      "source": [
        "o.backward()"
      ],
      "metadata": {
        "id": "EmtmWUXaKbL2"
      },
      "execution_count": 113,
      "outputs": []
    },
    {
      "cell_type": "code",
      "source": [
        "# inputs x1, x2\n",
        "x1 = Value(2.0, label='x1')\n",
        "x2 = Value(0.0, label='x2')\n",
        "# weights w1, w2\n",
        "w1 = Value(-3.0, label='w1')\n",
        "w2 = Value(1.0, label='w2')\n",
        "# bias of the neuron\n",
        "b = Value(6.88137358702, label='b')\n",
        "x1w1 = x1*w1; x1w1.label = 'x1*w1'\n",
        "x2w2 = x2*w2; x2w2.label = 'x2*w2'\n",
        "x1w1x2w2 = x1w1 + x2w2; x1w1x2w2.label = 'x1*w1 + x2*w2'\n",
        "n = x1w1x2w2 + b; n.label = 'n'\n",
        "# ----\n",
        "e = (2*n).exp() ; e.label = 'e'\n",
        "o = (e - 1) / (e + 1)\n",
        "o.label = 'o'\n",
        "# ----\n",
        "o.backward()\n",
        "draw_dot(o)"
      ],
      "metadata": {
        "colab": {
          "base_uri": "https://localhost:8080/",
          "height": 322
        },
        "id": "Kj4zySGCKe1I",
        "outputId": "298dc7ce-cfd1-4642-c432-78c4398f4574"
      },
      "execution_count": 117,
      "outputs": [
        {
          "output_type": "execute_result",
          "data": {
            "image/svg+xml": "<?xml version=\"1.0\" encoding=\"UTF-8\" standalone=\"no\"?>\n<!DOCTYPE svg PUBLIC \"-//W3C//DTD SVG 1.1//EN\"\n \"http://www.w3.org/Graphics/SVG/1.1/DTD/svg11.dtd\">\n<!-- Generated by graphviz version 2.43.0 (0)\n -->\n<!-- Title: %3 Pages: 1 -->\n<svg width=\"2944pt\" height=\"210pt\"\n viewBox=\"0.00 0.00 2944.00 210.00\" xmlns=\"http://www.w3.org/2000/svg\" xmlns:xlink=\"http://www.w3.org/1999/xlink\">\n<g id=\"graph0\" class=\"graph\" transform=\"scale(1 1) rotate(0) translate(4 206)\">\n<title>%3</title>\n<polygon fill=\"white\" stroke=\"transparent\" points=\"-4,4 -4,-206 2940,-206 2940,4 -4,4\"/>\n<!-- 134214985440272 -->\n<g id=\"node1\" class=\"node\">\n<title>134214985440272</title>\n<polygon fill=\"none\" stroke=\"black\" points=\"1382,-81.5 1382,-117.5 1564,-117.5 1564,-81.5 1382,-81.5\"/>\n<text text-anchor=\"middle\" x=\"1392\" y=\"-95.8\" font-family=\"Times,serif\" font-size=\"14.00\"> </text>\n<polyline fill=\"none\" stroke=\"black\" points=\"1402,-81.5 1402,-117.5 \"/>\n<text text-anchor=\"middle\" x=\"1442\" y=\"-95.8\" font-family=\"Times,serif\" font-size=\"14.00\">data 1.7627</text>\n<polyline fill=\"none\" stroke=\"black\" points=\"1482,-81.5 1482,-117.5 \"/>\n<text text-anchor=\"middle\" x=\"1523\" y=\"-95.8\" font-family=\"Times,serif\" font-size=\"14.00\">grad 0.2500</text>\n</g>\n<!-- 134214985443600exp -->\n<g id=\"node16\" class=\"node\">\n<title>134214985443600exp</title>\n<ellipse fill=\"none\" stroke=\"black\" cx=\"1627\" cy=\"-99.5\" rx=\"27\" ry=\"18\"/>\n<text text-anchor=\"middle\" x=\"1627\" y=\"-95.8\" font-family=\"Times,serif\" font-size=\"14.00\">exp</text>\n</g>\n<!-- 134214985440272&#45;&gt;134214985443600exp -->\n<g id=\"edge12\" class=\"edge\">\n<title>134214985440272&#45;&gt;134214985443600exp</title>\n<path fill=\"none\" stroke=\"black\" d=\"M1564.18,-99.5C1573.14,-99.5 1581.83,-99.5 1589.73,-99.5\"/>\n<polygon fill=\"black\" stroke=\"black\" points=\"1589.96,-103 1599.96,-99.5 1589.96,-96 1589.96,-103\"/>\n</g>\n<!-- 134214985440272* -->\n<g id=\"node2\" class=\"node\">\n<title>134214985440272*</title>\n<ellipse fill=\"none\" stroke=\"black\" cx=\"1319\" cy=\"-99.5\" rx=\"27\" ry=\"18\"/>\n<text text-anchor=\"middle\" x=\"1319\" y=\"-95.8\" font-family=\"Times,serif\" font-size=\"14.00\">*</text>\n</g>\n<!-- 134214985440272*&#45;&gt;134214985440272 -->\n<g id=\"edge1\" class=\"edge\">\n<title>134214985440272*&#45;&gt;134214985440272</title>\n<path fill=\"none\" stroke=\"black\" d=\"M1346.13,-99.5C1353.67,-99.5 1362.39,-99.5 1371.64,-99.5\"/>\n<polygon fill=\"black\" stroke=\"black\" points=\"1371.87,-103 1381.87,-99.5 1371.87,-96 1371.87,-103\"/>\n</g>\n<!-- 134214985445904 -->\n<g id=\"node3\" class=\"node\">\n<title>134214985445904</title>\n<polygon fill=\"none\" stroke=\"black\" points=\"2225,-53.5 2225,-89.5 2407,-89.5 2407,-53.5 2225,-53.5\"/>\n<text text-anchor=\"middle\" x=\"2235\" y=\"-67.8\" font-family=\"Times,serif\" font-size=\"14.00\"> </text>\n<polyline fill=\"none\" stroke=\"black\" points=\"2245,-53.5 2245,-89.5 \"/>\n<text text-anchor=\"middle\" x=\"2285\" y=\"-67.8\" font-family=\"Times,serif\" font-size=\"14.00\">data 4.8284</text>\n<polyline fill=\"none\" stroke=\"black\" points=\"2325,-53.5 2325,-89.5 \"/>\n<text text-anchor=\"middle\" x=\"2366\" y=\"-67.8\" font-family=\"Times,serif\" font-size=\"14.00\">grad 0.1464</text>\n</g>\n<!-- 134214996446480* -->\n<g id=\"node14\" class=\"node\">\n<title>134214996446480*</title>\n<ellipse fill=\"none\" stroke=\"black\" cx=\"2688\" cy=\"-98.5\" rx=\"27\" ry=\"18\"/>\n<text text-anchor=\"middle\" x=\"2688\" y=\"-94.8\" font-family=\"Times,serif\" font-size=\"14.00\">*</text>\n</g>\n<!-- 134214985445904&#45;&gt;134214996446480* -->\n<g id=\"edge19\" class=\"edge\">\n<title>134214985445904&#45;&gt;134214996446480*</title>\n<path fill=\"none\" stroke=\"black\" d=\"M2407.04,-78.07C2485.41,-83.79 2594.98,-91.79 2650.96,-95.87\"/>\n<polygon fill=\"black\" stroke=\"black\" points=\"2650.87,-99.37 2661.1,-96.61 2651.38,-92.39 2650.87,-99.37\"/>\n</g>\n<!-- 134214985445904+ -->\n<g id=\"node4\" class=\"node\">\n<title>134214985445904+</title>\n<ellipse fill=\"none\" stroke=\"black\" cx=\"1940\" cy=\"-71.5\" rx=\"27\" ry=\"18\"/>\n<text text-anchor=\"middle\" x=\"1940\" y=\"-67.8\" font-family=\"Times,serif\" font-size=\"14.00\">+</text>\n</g>\n<!-- 134214985445904+&#45;&gt;134214985445904 -->\n<g id=\"edge2\" class=\"edge\">\n<title>134214985445904+&#45;&gt;134214985445904</title>\n<path fill=\"none\" stroke=\"black\" d=\"M1967,-71.5C2017.46,-71.5 2131.06,-71.5 2214.81,-71.5\"/>\n<polygon fill=\"black\" stroke=\"black\" points=\"2214.87,-75 2224.87,-71.5 2214.87,-68 2214.87,-75\"/>\n</g>\n<!-- 134214985440912 -->\n<g id=\"node5\" class=\"node\">\n<title>134214985440912</title>\n<polygon fill=\"none\" stroke=\"black\" points=\"1071,-109.5 1071,-145.5 1256,-145.5 1256,-109.5 1071,-109.5\"/>\n<text text-anchor=\"middle\" x=\"1082.5\" y=\"-123.8\" font-family=\"Times,serif\" font-size=\"14.00\">n</text>\n<polyline fill=\"none\" stroke=\"black\" points=\"1094,-109.5 1094,-145.5 \"/>\n<text text-anchor=\"middle\" x=\"1134\" y=\"-123.8\" font-family=\"Times,serif\" font-size=\"14.00\">data 0.8814</text>\n<polyline fill=\"none\" stroke=\"black\" points=\"1174,-109.5 1174,-145.5 \"/>\n<text text-anchor=\"middle\" x=\"1215\" y=\"-123.8\" font-family=\"Times,serif\" font-size=\"14.00\">grad 0.5000</text>\n</g>\n<!-- 134214985440912&#45;&gt;134214985440272* -->\n<g id=\"edge28\" class=\"edge\">\n<title>134214985440912&#45;&gt;134214985440272*</title>\n<path fill=\"none\" stroke=\"black\" d=\"M1256.01,-110.81C1265.49,-109.08 1274.66,-107.41 1282.9,-105.9\"/>\n<polygon fill=\"black\" stroke=\"black\" points=\"1283.6,-109.33 1292.81,-104.09 1282.35,-102.45 1283.6,-109.33\"/>\n</g>\n<!-- 134214985440912+ -->\n<g id=\"node6\" class=\"node\">\n<title>134214985440912+</title>\n<ellipse fill=\"none\" stroke=\"black\" cx=\"1008\" cy=\"-127.5\" rx=\"27\" ry=\"18\"/>\n<text text-anchor=\"middle\" x=\"1008\" y=\"-123.8\" font-family=\"Times,serif\" font-size=\"14.00\">+</text>\n</g>\n<!-- 134214985440912+&#45;&gt;134214985440912 -->\n<g id=\"edge3\" class=\"edge\">\n<title>134214985440912+&#45;&gt;134214985440912</title>\n<path fill=\"none\" stroke=\"black\" d=\"M1035.04,-127.5C1042.58,-127.5 1051.3,-127.5 1060.57,-127.5\"/>\n<polygon fill=\"black\" stroke=\"black\" points=\"1060.81,-131 1070.81,-127.5 1060.81,-124 1060.81,-131\"/>\n</g>\n<!-- 134214985449104 -->\n<g id=\"node7\" class=\"node\">\n<title>134214985449104</title>\n<polygon fill=\"none\" stroke=\"black\" points=\"2,-165.5 2,-201.5 198,-201.5 198,-165.5 2,-165.5\"/>\n<text text-anchor=\"middle\" x=\"17\" y=\"-179.8\" font-family=\"Times,serif\" font-size=\"14.00\">x1</text>\n<polyline fill=\"none\" stroke=\"black\" points=\"32,-165.5 32,-201.5 \"/>\n<text text-anchor=\"middle\" x=\"72\" y=\"-179.8\" font-family=\"Times,serif\" font-size=\"14.00\">data 2.0000</text>\n<polyline fill=\"none\" stroke=\"black\" points=\"112,-165.5 112,-201.5 \"/>\n<text text-anchor=\"middle\" x=\"155\" y=\"-179.8\" font-family=\"Times,serif\" font-size=\"14.00\">grad &#45;1.5000</text>\n</g>\n<!-- 134214985436880* -->\n<g id=\"node12\" class=\"node\">\n<title>134214985436880*</title>\n<ellipse fill=\"none\" stroke=\"black\" cx=\"263\" cy=\"-128.5\" rx=\"27\" ry=\"18\"/>\n<text text-anchor=\"middle\" x=\"263\" y=\"-124.8\" font-family=\"Times,serif\" font-size=\"14.00\">*</text>\n</g>\n<!-- 134214985449104&#45;&gt;134214985436880* -->\n<g id=\"edge22\" class=\"edge\">\n<title>134214985449104&#45;&gt;134214985436880*</title>\n<path fill=\"none\" stroke=\"black\" d=\"M172.53,-165.44C181.84,-162.67 191.2,-159.67 200,-156.5 210.53,-152.71 221.75,-147.9 231.72,-143.33\"/>\n<polygon fill=\"black\" stroke=\"black\" points=\"233.25,-146.48 240.82,-139.07 230.28,-140.14 233.25,-146.48\"/>\n</g>\n<!-- 134214985441424 -->\n<g id=\"node8\" class=\"node\">\n<title>134214985441424</title>\n<polygon fill=\"none\" stroke=\"black\" points=\"1690.5,-136.5 1690.5,-172.5 1876.5,-172.5 1876.5,-136.5 1690.5,-136.5\"/>\n<text text-anchor=\"middle\" x=\"1700.5\" y=\"-150.8\" font-family=\"Times,serif\" font-size=\"14.00\"> </text>\n<polyline fill=\"none\" stroke=\"black\" points=\"1710.5,-136.5 1710.5,-172.5 \"/>\n<text text-anchor=\"middle\" x=\"1750.5\" y=\"-150.8\" font-family=\"Times,serif\" font-size=\"14.00\">data 1.0000</text>\n<polyline fill=\"none\" stroke=\"black\" points=\"1790.5,-136.5 1790.5,-172.5 \"/>\n<text text-anchor=\"middle\" x=\"1833.5\" y=\"-150.8\" font-family=\"Times,serif\" font-size=\"14.00\">grad &#45;0.1036</text>\n</g>\n<!-- 134214985440528+ -->\n<g id=\"node24\" class=\"node\">\n<title>134214985440528+</title>\n<ellipse fill=\"none\" stroke=\"black\" cx=\"1940\" cy=\"-126.5\" rx=\"27\" ry=\"18\"/>\n<text text-anchor=\"middle\" x=\"1940\" y=\"-122.8\" font-family=\"Times,serif\" font-size=\"14.00\">+</text>\n</g>\n<!-- 134214985441424&#45;&gt;134214985440528+ -->\n<g id=\"edge16\" class=\"edge\">\n<title>134214985441424&#45;&gt;134214985440528+</title>\n<path fill=\"none\" stroke=\"black\" d=\"M1876.6,-137.81C1886.15,-136.08 1895.37,-134.41 1903.68,-132.9\"/>\n<polygon fill=\"black\" stroke=\"black\" points=\"1904.43,-136.32 1913.65,-131.09 1903.18,-129.43 1904.43,-136.32\"/>\n</g>\n<!-- 134214985446608 -->\n<g id=\"node9\" class=\"node\">\n<title>134214985446608</title>\n<polygon fill=\"none\" stroke=\"black\" points=\"2.5,-55.5 2.5,-91.5 197.5,-91.5 197.5,-55.5 2.5,-55.5\"/>\n<text text-anchor=\"middle\" x=\"19\" y=\"-69.8\" font-family=\"Times,serif\" font-size=\"14.00\">w2</text>\n<polyline fill=\"none\" stroke=\"black\" points=\"35.5,-55.5 35.5,-91.5 \"/>\n<text text-anchor=\"middle\" x=\"75.5\" y=\"-69.8\" font-family=\"Times,serif\" font-size=\"14.00\">data 1.0000</text>\n<polyline fill=\"none\" stroke=\"black\" points=\"115.5,-55.5 115.5,-91.5 \"/>\n<text text-anchor=\"middle\" x=\"156.5\" y=\"-69.8\" font-family=\"Times,serif\" font-size=\"14.00\">grad 0.0000</text>\n</g>\n<!-- 134214985437136* -->\n<g id=\"node26\" class=\"node\">\n<title>134214985437136*</title>\n<ellipse fill=\"none\" stroke=\"black\" cx=\"263\" cy=\"-73.5\" rx=\"27\" ry=\"18\"/>\n<text text-anchor=\"middle\" x=\"263\" y=\"-69.8\" font-family=\"Times,serif\" font-size=\"14.00\">*</text>\n</g>\n<!-- 134214985446608&#45;&gt;134214985437136* -->\n<g id=\"edge24\" class=\"edge\">\n<title>134214985446608&#45;&gt;134214985437136*</title>\n<path fill=\"none\" stroke=\"black\" d=\"M197.91,-73.5C207.65,-73.5 217.05,-73.5 225.52,-73.5\"/>\n<polygon fill=\"black\" stroke=\"black\" points=\"225.7,-77 235.7,-73.5 225.7,-70 225.7,-77\"/>\n</g>\n<!-- 134214985447376 -->\n<g id=\"node10\" class=\"node\">\n<title>134214985447376</title>\n<polygon fill=\"none\" stroke=\"black\" points=\"4,-0.5 4,-36.5 196,-36.5 196,-0.5 4,-0.5\"/>\n<text text-anchor=\"middle\" x=\"19\" y=\"-14.8\" font-family=\"Times,serif\" font-size=\"14.00\">x2</text>\n<polyline fill=\"none\" stroke=\"black\" points=\"34,-0.5 34,-36.5 \"/>\n<text text-anchor=\"middle\" x=\"74\" y=\"-14.8\" font-family=\"Times,serif\" font-size=\"14.00\">data 0.0000</text>\n<polyline fill=\"none\" stroke=\"black\" points=\"114,-0.5 114,-36.5 \"/>\n<text text-anchor=\"middle\" x=\"155\" y=\"-14.8\" font-family=\"Times,serif\" font-size=\"14.00\">grad 0.5000</text>\n</g>\n<!-- 134214985447376&#45;&gt;134214985437136* -->\n<g id=\"edge13\" class=\"edge\">\n<title>134214985447376&#45;&gt;134214985437136*</title>\n<path fill=\"none\" stroke=\"black\" d=\"M172.53,-36.56C181.84,-39.33 191.2,-42.33 200,-45.5 210.53,-49.29 221.75,-54.1 231.72,-58.67\"/>\n<polygon fill=\"black\" stroke=\"black\" points=\"230.28,-61.86 240.82,-62.93 233.25,-55.52 230.28,-61.86\"/>\n</g>\n<!-- 134214985436880 -->\n<g id=\"node11\" class=\"node\">\n<title>134214985436880</title>\n<polygon fill=\"none\" stroke=\"black\" points=\"326,-110.5 326,-146.5 546,-146.5 546,-110.5 326,-110.5\"/>\n<text text-anchor=\"middle\" x=\"352.5\" y=\"-124.8\" font-family=\"Times,serif\" font-size=\"14.00\">x1*w1</text>\n<polyline fill=\"none\" stroke=\"black\" points=\"379,-110.5 379,-146.5 \"/>\n<text text-anchor=\"middle\" x=\"421.5\" y=\"-124.8\" font-family=\"Times,serif\" font-size=\"14.00\">data &#45;6.0000</text>\n<polyline fill=\"none\" stroke=\"black\" points=\"464,-110.5 464,-146.5 \"/>\n<text text-anchor=\"middle\" x=\"505\" y=\"-124.8\" font-family=\"Times,serif\" font-size=\"14.00\">grad 0.5000</text>\n</g>\n<!-- 134214985445328+ -->\n<g id=\"node28\" class=\"node\">\n<title>134214985445328+</title>\n<ellipse fill=\"none\" stroke=\"black\" cx=\"609\" cy=\"-100.5\" rx=\"27\" ry=\"18\"/>\n<text text-anchor=\"middle\" x=\"609\" y=\"-96.8\" font-family=\"Times,serif\" font-size=\"14.00\">+</text>\n</g>\n<!-- 134214985436880&#45;&gt;134214985445328+ -->\n<g id=\"edge11\" class=\"edge\">\n<title>134214985436880&#45;&gt;134214985445328+</title>\n<path fill=\"none\" stroke=\"black\" d=\"M546.27,-110.61C555.64,-109.07 564.6,-107.61 572.65,-106.29\"/>\n<polygon fill=\"black\" stroke=\"black\" points=\"573.35,-109.72 582.65,-104.65 572.22,-102.81 573.35,-109.72\"/>\n</g>\n<!-- 134214985436880*&#45;&gt;134214985436880 -->\n<g id=\"edge4\" class=\"edge\">\n<title>134214985436880*&#45;&gt;134214985436880</title>\n<path fill=\"none\" stroke=\"black\" d=\"M290.34,-128.5C297.77,-128.5 306.37,-128.5 315.6,-128.5\"/>\n<polygon fill=\"black\" stroke=\"black\" points=\"315.84,-132 325.84,-128.5 315.84,-125 315.84,-132\"/>\n</g>\n<!-- 134214996446480 -->\n<g id=\"node13\" class=\"node\">\n<title>134214996446480</title>\n<polygon fill=\"none\" stroke=\"black\" points=\"2751,-80.5 2751,-116.5 2936,-116.5 2936,-80.5 2751,-80.5\"/>\n<text text-anchor=\"middle\" x=\"2762.5\" y=\"-94.8\" font-family=\"Times,serif\" font-size=\"14.00\">o</text>\n<polyline fill=\"none\" stroke=\"black\" points=\"2774,-80.5 2774,-116.5 \"/>\n<text text-anchor=\"middle\" x=\"2814\" y=\"-94.8\" font-family=\"Times,serif\" font-size=\"14.00\">data 0.7071</text>\n<polyline fill=\"none\" stroke=\"black\" points=\"2854,-80.5 2854,-116.5 \"/>\n<text text-anchor=\"middle\" x=\"2895\" y=\"-94.8\" font-family=\"Times,serif\" font-size=\"14.00\">grad 1.0000</text>\n</g>\n<!-- 134214996446480*&#45;&gt;134214996446480 -->\n<g id=\"edge5\" class=\"edge\">\n<title>134214996446480*&#45;&gt;134214996446480</title>\n<path fill=\"none\" stroke=\"black\" d=\"M2715.04,-98.5C2722.58,-98.5 2731.3,-98.5 2740.57,-98.5\"/>\n<polygon fill=\"black\" stroke=\"black\" points=\"2740.81,-102 2750.81,-98.5 2740.81,-95 2740.81,-102\"/>\n</g>\n<!-- 134214985443600 -->\n<g id=\"node15\" class=\"node\">\n<title>134214985443600</title>\n<polygon fill=\"none\" stroke=\"black\" points=\"1691,-81.5 1691,-117.5 1876,-117.5 1876,-81.5 1691,-81.5\"/>\n<text text-anchor=\"middle\" x=\"1702.5\" y=\"-95.8\" font-family=\"Times,serif\" font-size=\"14.00\">e</text>\n<polyline fill=\"none\" stroke=\"black\" points=\"1714,-81.5 1714,-117.5 \"/>\n<text text-anchor=\"middle\" x=\"1754\" y=\"-95.8\" font-family=\"Times,serif\" font-size=\"14.00\">data 5.8284</text>\n<polyline fill=\"none\" stroke=\"black\" points=\"1794,-81.5 1794,-117.5 \"/>\n<text text-anchor=\"middle\" x=\"1835\" y=\"-95.8\" font-family=\"Times,serif\" font-size=\"14.00\">grad 0.0429</text>\n</g>\n<!-- 134214985443600&#45;&gt;134214985445904+ -->\n<g id=\"edge15\" class=\"edge\">\n<title>134214985443600&#45;&gt;134214985445904+</title>\n<path fill=\"none\" stroke=\"black\" d=\"M1876.16,-82.89C1885.84,-81.13 1895.22,-79.43 1903.64,-77.91\"/>\n<polygon fill=\"black\" stroke=\"black\" points=\"1904.53,-81.3 1913.75,-76.08 1903.28,-74.42 1904.53,-81.3\"/>\n</g>\n<!-- 134214985443600&#45;&gt;134214985440528+ -->\n<g id=\"edge27\" class=\"edge\">\n<title>134214985443600&#45;&gt;134214985440528+</title>\n<path fill=\"none\" stroke=\"black\" d=\"M1876.16,-115.52C1885.84,-117.21 1895.22,-118.85 1903.64,-120.32\"/>\n<polygon fill=\"black\" stroke=\"black\" points=\"1903.29,-123.81 1913.75,-122.09 1904.5,-116.92 1903.29,-123.81\"/>\n</g>\n<!-- 134214985443600exp&#45;&gt;134214985443600 -->\n<g id=\"edge6\" class=\"edge\">\n<title>134214985443600exp&#45;&gt;134214985443600</title>\n<path fill=\"none\" stroke=\"black\" d=\"M1654.21,-99.5C1662,-99.5 1671.05,-99.5 1680.67,-99.5\"/>\n<polygon fill=\"black\" stroke=\"black\" points=\"1680.87,-103 1690.87,-99.5 1680.87,-96 1680.87,-103\"/>\n</g>\n<!-- 134214985437456 -->\n<g id=\"node17\" class=\"node\">\n<title>134214985437456</title>\n<polygon fill=\"none\" stroke=\"black\" points=\"716,-137.5 716,-173.5 901,-173.5 901,-137.5 716,-137.5\"/>\n<text text-anchor=\"middle\" x=\"727.5\" y=\"-151.8\" font-family=\"Times,serif\" font-size=\"14.00\">b</text>\n<polyline fill=\"none\" stroke=\"black\" points=\"739,-137.5 739,-173.5 \"/>\n<text text-anchor=\"middle\" x=\"779\" y=\"-151.8\" font-family=\"Times,serif\" font-size=\"14.00\">data 6.8814</text>\n<polyline fill=\"none\" stroke=\"black\" points=\"819,-137.5 819,-173.5 \"/>\n<text text-anchor=\"middle\" x=\"860\" y=\"-151.8\" font-family=\"Times,serif\" font-size=\"14.00\">grad 0.5000</text>\n</g>\n<!-- 134214985437456&#45;&gt;134214985440912+ -->\n<g id=\"edge25\" class=\"edge\">\n<title>134214985437456&#45;&gt;134214985440912+</title>\n<path fill=\"none\" stroke=\"black\" d=\"M901.02,-142.52C926,-138.98 951.59,-135.36 971.37,-132.55\"/>\n<polygon fill=\"black\" stroke=\"black\" points=\"972.03,-135.99 981.43,-131.12 971.04,-129.06 972.03,-135.99\"/>\n</g>\n<!-- 134214985436944 -->\n<g id=\"node18\" class=\"node\">\n<title>134214985436944</title>\n<polygon fill=\"none\" stroke=\"black\" points=\"0,-110.5 0,-146.5 200,-146.5 200,-110.5 0,-110.5\"/>\n<text text-anchor=\"middle\" x=\"16.5\" y=\"-124.8\" font-family=\"Times,serif\" font-size=\"14.00\">w1</text>\n<polyline fill=\"none\" stroke=\"black\" points=\"33,-110.5 33,-146.5 \"/>\n<text text-anchor=\"middle\" x=\"75.5\" y=\"-124.8\" font-family=\"Times,serif\" font-size=\"14.00\">data &#45;3.0000</text>\n<polyline fill=\"none\" stroke=\"black\" points=\"118,-110.5 118,-146.5 \"/>\n<text text-anchor=\"middle\" x=\"159\" y=\"-124.8\" font-family=\"Times,serif\" font-size=\"14.00\">grad 1.0000</text>\n</g>\n<!-- 134214985436944&#45;&gt;134214985436880* -->\n<g id=\"edge23\" class=\"edge\">\n<title>134214985436944&#45;&gt;134214985436880*</title>\n<path fill=\"none\" stroke=\"black\" d=\"M200.21,-128.5C209.2,-128.5 217.86,-128.5 225.7,-128.5\"/>\n<polygon fill=\"black\" stroke=\"black\" points=\"225.85,-132 235.85,-128.5 225.85,-125 225.85,-132\"/>\n</g>\n<!-- 134214985449232 -->\n<g id=\"node19\" class=\"node\">\n<title>134214985449232</title>\n<polygon fill=\"none\" stroke=\"black\" points=\"1072.5,-54.5 1072.5,-90.5 1254.5,-90.5 1254.5,-54.5 1072.5,-54.5\"/>\n<text text-anchor=\"middle\" x=\"1082.5\" y=\"-68.8\" font-family=\"Times,serif\" font-size=\"14.00\"> </text>\n<polyline fill=\"none\" stroke=\"black\" points=\"1092.5,-54.5 1092.5,-90.5 \"/>\n<text text-anchor=\"middle\" x=\"1132.5\" y=\"-68.8\" font-family=\"Times,serif\" font-size=\"14.00\">data 2.0000</text>\n<polyline fill=\"none\" stroke=\"black\" points=\"1172.5,-54.5 1172.5,-90.5 \"/>\n<text text-anchor=\"middle\" x=\"1213.5\" y=\"-68.8\" font-family=\"Times,serif\" font-size=\"14.00\">grad 0.2203</text>\n</g>\n<!-- 134214985449232&#45;&gt;134214985440272* -->\n<g id=\"edge26\" class=\"edge\">\n<title>134214985449232&#45;&gt;134214985440272*</title>\n<path fill=\"none\" stroke=\"black\" d=\"M1254.68,-88.36C1264.61,-90.11 1274.23,-91.8 1282.84,-93.32\"/>\n<polygon fill=\"black\" stroke=\"black\" points=\"1282.36,-96.78 1292.81,-95.07 1283.57,-89.89 1282.36,-96.78\"/>\n</g>\n<!-- 134214985448272 -->\n<g id=\"node20\" class=\"node\">\n<title>134214985448272</title>\n<polygon fill=\"none\" stroke=\"black\" points=\"1690,-26.5 1690,-62.5 1877,-62.5 1877,-26.5 1690,-26.5\"/>\n<text text-anchor=\"middle\" x=\"1700\" y=\"-40.8\" font-family=\"Times,serif\" font-size=\"14.00\"> </text>\n<polyline fill=\"none\" stroke=\"black\" points=\"1710,-26.5 1710,-62.5 \"/>\n<text text-anchor=\"middle\" x=\"1752.5\" y=\"-40.8\" font-family=\"Times,serif\" font-size=\"14.00\">data &#45;1.0000</text>\n<polyline fill=\"none\" stroke=\"black\" points=\"1795,-26.5 1795,-62.5 \"/>\n<text text-anchor=\"middle\" x=\"1836\" y=\"-40.8\" font-family=\"Times,serif\" font-size=\"14.00\">grad 0.1464</text>\n</g>\n<!-- 134214985448272&#45;&gt;134214985445904+ -->\n<g id=\"edge17\" class=\"edge\">\n<title>134214985448272&#45;&gt;134214985445904+</title>\n<path fill=\"none\" stroke=\"black\" d=\"M1877.05,-60.67C1886.34,-62.3 1895.33,-63.87 1903.44,-65.29\"/>\n<polygon fill=\"black\" stroke=\"black\" points=\"1903.1,-68.78 1913.55,-67.05 1904.3,-61.88 1903.1,-68.78\"/>\n</g>\n<!-- 134214985438544 -->\n<g id=\"node21\" class=\"node\">\n<title>134214985438544</title>\n<polygon fill=\"none\" stroke=\"black\" points=\"2443,-106.5 2443,-142.5 2625,-142.5 2625,-106.5 2443,-106.5\"/>\n<text text-anchor=\"middle\" x=\"2453\" y=\"-120.8\" font-family=\"Times,serif\" font-size=\"14.00\"> </text>\n<polyline fill=\"none\" stroke=\"black\" points=\"2463,-106.5 2463,-142.5 \"/>\n<text text-anchor=\"middle\" x=\"2503\" y=\"-120.8\" font-family=\"Times,serif\" font-size=\"14.00\">data 0.1464</text>\n<polyline fill=\"none\" stroke=\"black\" points=\"2543,-106.5 2543,-142.5 \"/>\n<text text-anchor=\"middle\" x=\"2584\" y=\"-120.8\" font-family=\"Times,serif\" font-size=\"14.00\">grad 4.8284</text>\n</g>\n<!-- 134214985438544&#45;&gt;134214996446480* -->\n<g id=\"edge14\" class=\"edge\">\n<title>134214985438544&#45;&gt;134214996446480*</title>\n<path fill=\"none\" stroke=\"black\" d=\"M2625.18,-109.08C2634.42,-107.49 2643.38,-105.96 2651.47,-104.58\"/>\n<polygon fill=\"black\" stroke=\"black\" points=\"2652.29,-107.99 2661.56,-102.85 2651.11,-101.09 2652.29,-107.99\"/>\n</g>\n<!-- 134214985438544**&#45;1 -->\n<g id=\"node22\" class=\"node\">\n<title>134214985438544**&#45;1</title>\n<ellipse fill=\"none\" stroke=\"black\" cx=\"2316\" cy=\"-126.5\" rx=\"27\" ry=\"18\"/>\n<text text-anchor=\"middle\" x=\"2316\" y=\"-122.8\" font-family=\"Times,serif\" font-size=\"14.00\">**&#45;1</text>\n</g>\n<!-- 134214985438544**&#45;1&#45;&gt;134214985438544 -->\n<g id=\"edge7\" class=\"edge\">\n<title>134214985438544**&#45;1&#45;&gt;134214985438544</title>\n<path fill=\"none\" stroke=\"black\" d=\"M2343.05,-126.26C2365.53,-126.05 2399.48,-125.74 2432.5,-125.43\"/>\n<polygon fill=\"black\" stroke=\"black\" points=\"2432.74,-128.93 2442.7,-125.34 2432.67,-121.93 2432.74,-128.93\"/>\n</g>\n<!-- 134214985440528 -->\n<g id=\"node23\" class=\"node\">\n<title>134214985440528</title>\n<polygon fill=\"none\" stroke=\"black\" points=\"2003,-108.5 2003,-144.5 2189,-144.5 2189,-108.5 2003,-108.5\"/>\n<text text-anchor=\"middle\" x=\"2013\" y=\"-122.8\" font-family=\"Times,serif\" font-size=\"14.00\"> </text>\n<polyline fill=\"none\" stroke=\"black\" points=\"2023,-108.5 2023,-144.5 \"/>\n<text text-anchor=\"middle\" x=\"2063\" y=\"-122.8\" font-family=\"Times,serif\" font-size=\"14.00\">data 6.8284</text>\n<polyline fill=\"none\" stroke=\"black\" points=\"2103,-108.5 2103,-144.5 \"/>\n<text text-anchor=\"middle\" x=\"2146\" y=\"-122.8\" font-family=\"Times,serif\" font-size=\"14.00\">grad &#45;0.1036</text>\n</g>\n<!-- 134214985440528&#45;&gt;134214985438544**&#45;1 -->\n<g id=\"edge18\" class=\"edge\">\n<title>134214985440528&#45;&gt;134214985438544**&#45;1</title>\n<path fill=\"none\" stroke=\"black\" d=\"M2189.14,-126.5C2220.72,-126.5 2254.24,-126.5 2278.74,-126.5\"/>\n<polygon fill=\"black\" stroke=\"black\" points=\"2278.98,-130 2288.98,-126.5 2278.98,-123 2278.98,-130\"/>\n</g>\n<!-- 134214985440528+&#45;&gt;134214985440528 -->\n<g id=\"edge8\" class=\"edge\">\n<title>134214985440528+&#45;&gt;134214985440528</title>\n<path fill=\"none\" stroke=\"black\" d=\"M1967.12,-126.5C1974.62,-126.5 1983.29,-126.5 1992.5,-126.5\"/>\n<polygon fill=\"black\" stroke=\"black\" points=\"1992.69,-130 2002.69,-126.5 1992.69,-123 1992.69,-130\"/>\n</g>\n<!-- 134214985437136 -->\n<g id=\"node25\" class=\"node\">\n<title>134214985437136</title>\n<polygon fill=\"none\" stroke=\"black\" points=\"328.5,-55.5 328.5,-91.5 543.5,-91.5 543.5,-55.5 328.5,-55.5\"/>\n<text text-anchor=\"middle\" x=\"355\" y=\"-69.8\" font-family=\"Times,serif\" font-size=\"14.00\">x2*w2</text>\n<polyline fill=\"none\" stroke=\"black\" points=\"381.5,-55.5 381.5,-91.5 \"/>\n<text text-anchor=\"middle\" x=\"421.5\" y=\"-69.8\" font-family=\"Times,serif\" font-size=\"14.00\">data 0.0000</text>\n<polyline fill=\"none\" stroke=\"black\" points=\"461.5,-55.5 461.5,-91.5 \"/>\n<text text-anchor=\"middle\" x=\"502.5\" y=\"-69.8\" font-family=\"Times,serif\" font-size=\"14.00\">grad 0.5000</text>\n</g>\n<!-- 134214985437136&#45;&gt;134214985445328+ -->\n<g id=\"edge20\" class=\"edge\">\n<title>134214985437136&#45;&gt;134214985445328+</title>\n<path fill=\"none\" stroke=\"black\" d=\"M543.84,-90.37C554.01,-91.98 563.76,-93.51 572.44,-94.89\"/>\n<polygon fill=\"black\" stroke=\"black\" points=\"572.05,-98.37 582.47,-96.47 573.14,-91.45 572.05,-98.37\"/>\n</g>\n<!-- 134214985437136*&#45;&gt;134214985437136 -->\n<g id=\"edge9\" class=\"edge\">\n<title>134214985437136*&#45;&gt;134214985437136</title>\n<path fill=\"none\" stroke=\"black\" d=\"M290.34,-73.5C298.51,-73.5 308.08,-73.5 318.36,-73.5\"/>\n<polygon fill=\"black\" stroke=\"black\" points=\"318.39,-77 328.39,-73.5 318.39,-70 318.39,-77\"/>\n</g>\n<!-- 134214985445328 -->\n<g id=\"node27\" class=\"node\">\n<title>134214985445328</title>\n<polygon fill=\"none\" stroke=\"black\" points=\"672,-82.5 672,-118.5 945,-118.5 945,-82.5 672,-82.5\"/>\n<text text-anchor=\"middle\" x=\"725\" y=\"-96.8\" font-family=\"Times,serif\" font-size=\"14.00\">x1*w1 + x2*w2</text>\n<polyline fill=\"none\" stroke=\"black\" points=\"778,-82.5 778,-118.5 \"/>\n<text text-anchor=\"middle\" x=\"820.5\" y=\"-96.8\" font-family=\"Times,serif\" font-size=\"14.00\">data &#45;6.0000</text>\n<polyline fill=\"none\" stroke=\"black\" points=\"863,-82.5 863,-118.5 \"/>\n<text text-anchor=\"middle\" x=\"904\" y=\"-96.8\" font-family=\"Times,serif\" font-size=\"14.00\">grad 0.5000</text>\n</g>\n<!-- 134214985445328&#45;&gt;134214985440912+ -->\n<g id=\"edge21\" class=\"edge\">\n<title>134214985445328&#45;&gt;134214985440912+</title>\n<path fill=\"none\" stroke=\"black\" d=\"M941.24,-118.51C952.12,-120 962.4,-121.4 971.45,-122.64\"/>\n<polygon fill=\"black\" stroke=\"black\" points=\"971.11,-126.13 981.49,-124.01 972.05,-119.19 971.11,-126.13\"/>\n</g>\n<!-- 134214985445328+&#45;&gt;134214985445328 -->\n<g id=\"edge10\" class=\"edge\">\n<title>134214985445328+&#45;&gt;134214985445328</title>\n<path fill=\"none\" stroke=\"black\" d=\"M636.23,-100.5C643.7,-100.5 652.41,-100.5 661.87,-100.5\"/>\n<polygon fill=\"black\" stroke=\"black\" points=\"661.98,-104 671.98,-100.5 661.98,-97 661.98,-104\"/>\n</g>\n</g>\n</svg>\n",
            "text/plain": [
              "<graphviz.graphs.Digraph at 0x7a115c87d8d0>"
            ]
          },
          "metadata": {},
          "execution_count": 117
        }
      ]
    },
    {
      "cell_type": "markdown",
      "source": [
        "How does this work in pytorch?"
      ],
      "metadata": {
        "id": "QzJwQiTtmIsy"
      }
    },
    {
      "cell_type": "code",
      "source": [
        "import torch"
      ],
      "metadata": {
        "id": "92FXtcBsnEhE"
      },
      "execution_count": null,
      "outputs": []
    },
    {
      "cell_type": "code",
      "source": [
        "x1 = torch.Tensor([2.0]).double()\n",
        "x1.requires_grad = True\n",
        "x2 = torch.Tensor([0.0]).double()\n",
        "x2.requires_grad = True\n",
        "w1 = torch.Tensor([-3.0]).double()\n",
        "w1.requires_grad = True\n",
        "w2 = torch.Tensor([1.0]).double()\n",
        "w2.requires_grad = True\n",
        "b = torch.Tensor([6.88137358702]).double()\n",
        "b.requires_grad = True\n",
        "\n",
        "n = x1*w1 + x2*w2 + b\n",
        "o = torch.tanh(n)\n",
        "\n",
        "print(o.data.item())\n",
        "o.backward()\n",
        "\n",
        "print('---')\n",
        "print('x2', x2.grad.item())\n",
        "print('w2', w2.grad.item())\n",
        "print('x1', x1.grad.item())\n",
        "print('w1', w1.grad.item())"
      ],
      "metadata": {
        "colab": {
          "base_uri": "https://localhost:8080/"
        },
        "id": "lan4NvZLmMuV",
        "outputId": "73da7cea-5dfc-4de4-93c7-266ac27b2ad7"
      },
      "execution_count": 118,
      "outputs": [
        {
          "output_type": "stream",
          "name": "stdout",
          "text": [
            "0.7071066904050358\n",
            "---\n",
            "x2 0.5000001283844369\n",
            "w2 0.0\n",
            "x1 -1.5000003851533106\n",
            "w1 1.0000002567688737\n"
          ]
        }
      ]
    },
    {
      "cell_type": "markdown",
      "source": [
        "Now, build a neural net library (multi-layer perceptron)"
      ],
      "metadata": {
        "id": "8E3FXgz0o8mO"
      }
    },
    {
      "cell_type": "code",
      "source": [
        "class Neuron:\n",
        "\n",
        "  def __init__(self, nin):\n",
        "    self.w = [Value(random.uniform(-1,1)) for _ in range(nin)]\n",
        "    self.b = Value(random.uniform(-1,1))\n",
        "\n",
        "  # forward pass: w * x + b\n",
        "  def __call__(self, x):\n",
        "    act = sum((wi*xi for wi, xi in zip(self.w, x)), self.b)\n",
        "    out = act.tanh()\n",
        "    return out\n",
        "\n",
        "  def parameters(self):\n",
        "    return self.w + [self.b]\n",
        "\n",
        "\n",
        "class Layer:\n",
        "  def __init__(self, nin, nout):\n",
        "    self.neurons = [Neuron(nin) for _ in range(nout)]\n",
        "\n",
        "  def __call__(self, x):\n",
        "    outs = [n(x) for n in self.neurons]\n",
        "    return outs[0] if len(outs) == 1 else outs\n",
        "\n",
        "  def parameters(self):\n",
        "\n",
        "    # params = []\n",
        "    # for neuron in self.neurons:\n",
        "    #   params.extend(neuron.parameters())\n",
        "    # return params\n",
        "\n",
        "    return [p for neuron in self.neurons for p in neuron.parameters()]\n",
        "\n",
        "\n",
        "\n",
        "class MLP:\n",
        "  def __init__(self, nin, nouts):\n",
        "    size = [nin] + nouts\n",
        "    self.layers = [Layer(size[i], size[i+1]) for i in range(len(nouts))]\n",
        "\n",
        "  def __call__(self, x):\n",
        "    for layer in self.layers:\n",
        "      x = layer(x)\n",
        "    return x\n",
        "\n",
        "  def parameters(self):\n",
        "    return [p for layer in self.layers for p in layer.parameters()]\n"
      ],
      "metadata": {
        "colab": {
          "base_uri": "https://localhost:8080/"
        },
        "id": "Zw4K5E2fpLPf",
        "outputId": "ca5eada9-ff86-4006-9be4-d80c98f2c8be"
      },
      "execution_count": 135,
      "outputs": [
        {
          "output_type": "stream",
          "name": "stdout",
          "text": [
            "Value(data=-0.7040431986865787)\n"
          ]
        }
      ]
    },
    {
      "cell_type": "code",
      "source": [
        "# examples\n",
        "x = [1.0, -2.0, 3.0]\n",
        "# n = Neuron(2)\n",
        "# print(n(x))\n",
        "# l = Layer(2,3)\n",
        "# print(l(x))\n",
        "\n",
        "mlp = MLP(nin= 3, nouts= [2,3,1])\n",
        "print(mlp(x))"
      ],
      "metadata": {
        "id": "sxFmG9hKBNkZ"
      },
      "execution_count": null,
      "outputs": []
    },
    {
      "cell_type": "code",
      "source": [
        "draw_dot(mlp(x))"
      ],
      "metadata": {
        "colab": {
          "base_uri": "https://localhost:8080/",
          "height": 762
        },
        "id": "_5-G6RHauD7I",
        "outputId": "1a195035-e8c7-4b12-bf9b-57be72949501"
      },
      "execution_count": 123,
      "outputs": [
        {
          "output_type": "execute_result",
          "data": {
            "image/svg+xml": "<?xml version=\"1.0\" encoding=\"UTF-8\" standalone=\"no\"?>\n<!DOCTYPE svg PUBLIC \"-//W3C//DTD SVG 1.1//EN\"\n \"http://www.w3.org/Graphics/SVG/1.1/DTD/svg11.dtd\">\n<!-- Generated by graphviz version 2.43.0 (0)\n -->\n<!-- Title: %3 Pages: 1 -->\n<svg width=\"4695pt\" height=\"540pt\"\n viewBox=\"0.00 0.00 4695.00 540.00\" xmlns=\"http://www.w3.org/2000/svg\" xmlns:xlink=\"http://www.w3.org/1999/xlink\">\n<g id=\"graph0\" class=\"graph\" transform=\"scale(1 1) rotate(0) translate(4 536)\">\n<title>%3</title>\n<polygon fill=\"white\" stroke=\"transparent\" points=\"-4,4 -4,-536 4691,-536 4691,4 -4,4\"/>\n<!-- 134211705874448 -->\n<g id=\"node1\" class=\"node\">\n<title>134211705874448</title>\n<polygon fill=\"none\" stroke=\"black\" points=\"3115,-330.5 3115,-366.5 3302,-366.5 3302,-330.5 3115,-330.5\"/>\n<text text-anchor=\"middle\" x=\"3125\" y=\"-344.8\" font-family=\"Times,serif\" font-size=\"14.00\"> </text>\n<polyline fill=\"none\" stroke=\"black\" points=\"3135,-330.5 3135,-366.5 \"/>\n<text text-anchor=\"middle\" x=\"3177.5\" y=\"-344.8\" font-family=\"Times,serif\" font-size=\"14.00\">data &#45;0.0569</text>\n<polyline fill=\"none\" stroke=\"black\" points=\"3220,-330.5 3220,-366.5 \"/>\n<text text-anchor=\"middle\" x=\"3261\" y=\"-344.8\" font-family=\"Times,serif\" font-size=\"14.00\">grad 0.0000</text>\n</g>\n<!-- 134211704197200+ -->\n<g id=\"node3\" class=\"node\">\n<title>134211704197200+</title>\n<ellipse fill=\"none\" stroke=\"black\" cx=\"3431.5\" cy=\"-348.5\" rx=\"27\" ry=\"18\"/>\n<text text-anchor=\"middle\" x=\"3431.5\" y=\"-344.8\" font-family=\"Times,serif\" font-size=\"14.00\">+</text>\n</g>\n<!-- 134211705874448&#45;&gt;134211704197200+ -->\n<g id=\"edge69\" class=\"edge\">\n<title>134211705874448&#45;&gt;134211704197200+</title>\n<path fill=\"none\" stroke=\"black\" d=\"M3302.26,-348.5C3334.72,-348.5 3369.27,-348.5 3394.32,-348.5\"/>\n<polygon fill=\"black\" stroke=\"black\" points=\"3394.44,-352 3404.44,-348.5 3394.44,-345 3394.44,-352\"/>\n</g>\n<!-- 134211704197200 -->\n<g id=\"node2\" class=\"node\">\n<title>134211704197200</title>\n<polygon fill=\"none\" stroke=\"black\" points=\"3561,-330.5 3561,-366.5 3748,-366.5 3748,-330.5 3561,-330.5\"/>\n<text text-anchor=\"middle\" x=\"3571\" y=\"-344.8\" font-family=\"Times,serif\" font-size=\"14.00\"> </text>\n<polyline fill=\"none\" stroke=\"black\" points=\"3581,-330.5 3581,-366.5 \"/>\n<text text-anchor=\"middle\" x=\"3623.5\" y=\"-344.8\" font-family=\"Times,serif\" font-size=\"14.00\">data &#45;0.2316</text>\n<polyline fill=\"none\" stroke=\"black\" points=\"3666,-330.5 3666,-366.5 \"/>\n<text text-anchor=\"middle\" x=\"3707\" y=\"-344.8\" font-family=\"Times,serif\" font-size=\"14.00\">grad 0.0000</text>\n</g>\n<!-- 134211704193808+ -->\n<g id=\"node39\" class=\"node\">\n<title>134211704193808+</title>\n<ellipse fill=\"none\" stroke=\"black\" cx=\"3811\" cy=\"-293.5\" rx=\"27\" ry=\"18\"/>\n<text text-anchor=\"middle\" x=\"3811\" y=\"-289.8\" font-family=\"Times,serif\" font-size=\"14.00\">+</text>\n</g>\n<!-- 134211704197200&#45;&gt;134211704193808+ -->\n<g id=\"edge42\" class=\"edge\">\n<title>134211704197200&#45;&gt;134211704193808+</title>\n<path fill=\"none\" stroke=\"black\" d=\"M3719.02,-330.35C3728.79,-327.24 3738.71,-323.92 3748,-320.5 3758.25,-316.73 3769.23,-312.14 3779.07,-307.82\"/>\n<polygon fill=\"black\" stroke=\"black\" points=\"3780.74,-310.9 3788.45,-303.63 3777.89,-304.51 3780.74,-310.9\"/>\n</g>\n<!-- 134211704197200+&#45;&gt;134211704197200 -->\n<g id=\"edge1\" class=\"edge\">\n<title>134211704197200+&#45;&gt;134211704197200</title>\n<path fill=\"none\" stroke=\"black\" d=\"M3458.72,-348.5C3481.72,-348.5 3516.71,-348.5 3550.72,-348.5\"/>\n<polygon fill=\"black\" stroke=\"black\" points=\"3550.75,-352 3560.75,-348.5 3550.75,-345 3550.75,-352\"/>\n</g>\n<!-- 134211704205392 -->\n<g id=\"node4\" class=\"node\">\n<title>134211704205392</title>\n<polygon fill=\"none\" stroke=\"black\" points=\"2804.5,-220.5 2804.5,-256.5 2986.5,-256.5 2986.5,-220.5 2804.5,-220.5\"/>\n<text text-anchor=\"middle\" x=\"2814.5\" y=\"-234.8\" font-family=\"Times,serif\" font-size=\"14.00\"> </text>\n<polyline fill=\"none\" stroke=\"black\" points=\"2824.5,-220.5 2824.5,-256.5 \"/>\n<text text-anchor=\"middle\" x=\"2864.5\" y=\"-234.8\" font-family=\"Times,serif\" font-size=\"14.00\">data 0.6827</text>\n<polyline fill=\"none\" stroke=\"black\" points=\"2904.5,-220.5 2904.5,-256.5 \"/>\n<text text-anchor=\"middle\" x=\"2945.5\" y=\"-234.8\" font-family=\"Times,serif\" font-size=\"14.00\">grad 0.0000</text>\n</g>\n<!-- 134211704202960* -->\n<g id=\"node88\" class=\"node\">\n<title>134211704202960*</title>\n<ellipse fill=\"none\" stroke=\"black\" cx=\"3052\" cy=\"-238.5\" rx=\"27\" ry=\"18\"/>\n<text text-anchor=\"middle\" x=\"3052\" y=\"-234.8\" font-family=\"Times,serif\" font-size=\"14.00\">*</text>\n</g>\n<!-- 134211704205392&#45;&gt;134211704202960* -->\n<g id=\"edge48\" class=\"edge\">\n<title>134211704205392&#45;&gt;134211704202960*</title>\n<path fill=\"none\" stroke=\"black\" d=\"M2986.82,-238.5C2996.57,-238.5 3006.04,-238.5 3014.57,-238.5\"/>\n<polygon fill=\"black\" stroke=\"black\" points=\"3014.83,-242 3024.83,-238.5 3014.83,-235 3014.83,-242\"/>\n</g>\n<!-- 134211704205392tanh -->\n<g id=\"node5\" class=\"node\">\n<title>134211704205392tanh</title>\n<ellipse fill=\"none\" stroke=\"black\" cx=\"2739\" cy=\"-238.5\" rx=\"27\" ry=\"18\"/>\n<text text-anchor=\"middle\" x=\"2739\" y=\"-234.8\" font-family=\"Times,serif\" font-size=\"14.00\">tanh</text>\n</g>\n<!-- 134211704205392tanh&#45;&gt;134211704205392 -->\n<g id=\"edge2\" class=\"edge\">\n<title>134211704205392tanh&#45;&gt;134211704205392</title>\n<path fill=\"none\" stroke=\"black\" d=\"M2766.21,-238.5C2774.34,-238.5 2783.85,-238.5 2793.94,-238.5\"/>\n<polygon fill=\"black\" stroke=\"black\" points=\"2794.19,-242 2804.19,-238.5 2794.19,-235 2794.19,-242\"/>\n</g>\n<!-- 134211708698768 -->\n<g id=\"node6\" class=\"node\">\n<title>134211708698768</title>\n<polygon fill=\"none\" stroke=\"black\" points=\"1252,-340.5 1252,-376.5 1434,-376.5 1434,-340.5 1252,-340.5\"/>\n<text text-anchor=\"middle\" x=\"1262\" y=\"-354.8\" font-family=\"Times,serif\" font-size=\"14.00\"> </text>\n<polyline fill=\"none\" stroke=\"black\" points=\"1272,-340.5 1272,-376.5 \"/>\n<text text-anchor=\"middle\" x=\"1312\" y=\"-354.8\" font-family=\"Times,serif\" font-size=\"14.00\">data 0.9503</text>\n<polyline fill=\"none\" stroke=\"black\" points=\"1352,-340.5 1352,-376.5 \"/>\n<text text-anchor=\"middle\" x=\"1393\" y=\"-354.8\" font-family=\"Times,serif\" font-size=\"14.00\">grad 0.0000</text>\n</g>\n<!-- 134211704199120+ -->\n<g id=\"node99\" class=\"node\">\n<title>134211704199120+</title>\n<ellipse fill=\"none\" stroke=\"black\" cx=\"1497\" cy=\"-348.5\" rx=\"27\" ry=\"18\"/>\n<text text-anchor=\"middle\" x=\"1497\" y=\"-344.8\" font-family=\"Times,serif\" font-size=\"14.00\">+</text>\n</g>\n<!-- 134211708698768&#45;&gt;134211704199120+ -->\n<g id=\"edge75\" class=\"edge\">\n<title>134211708698768&#45;&gt;134211704199120+</title>\n<path fill=\"none\" stroke=\"black\" d=\"M1434.18,-352.57C1443.14,-351.98 1451.83,-351.41 1459.73,-350.89\"/>\n<polygon fill=\"black\" stroke=\"black\" points=\"1460.21,-354.36 1469.96,-350.21 1459.75,-347.38 1460.21,-354.36\"/>\n</g>\n<!-- 134211708698768+ -->\n<g id=\"node7\" class=\"node\">\n<title>134211708698768+</title>\n<ellipse fill=\"none\" stroke=\"black\" cx=\"1189\" cy=\"-358.5\" rx=\"27\" ry=\"18\"/>\n<text text-anchor=\"middle\" x=\"1189\" y=\"-354.8\" font-family=\"Times,serif\" font-size=\"14.00\">+</text>\n</g>\n<!-- 134211708698768+&#45;&gt;134211708698768 -->\n<g id=\"edge3\" class=\"edge\">\n<title>134211708698768+&#45;&gt;134211708698768</title>\n<path fill=\"none\" stroke=\"black\" d=\"M1216.13,-358.5C1223.67,-358.5 1232.39,-358.5 1241.64,-358.5\"/>\n<polygon fill=\"black\" stroke=\"black\" points=\"1241.87,-362 1251.87,-358.5 1241.87,-355 1241.87,-362\"/>\n</g>\n<!-- 134211704193168 -->\n<g id=\"node8\" class=\"node\">\n<title>134211704193168</title>\n<polygon fill=\"none\" stroke=\"black\" points=\"2181,-440.5 2181,-476.5 2368,-476.5 2368,-440.5 2181,-440.5\"/>\n<text text-anchor=\"middle\" x=\"2191\" y=\"-454.8\" font-family=\"Times,serif\" font-size=\"14.00\"> </text>\n<polyline fill=\"none\" stroke=\"black\" points=\"2201,-440.5 2201,-476.5 \"/>\n<text text-anchor=\"middle\" x=\"2243.5\" y=\"-454.8\" font-family=\"Times,serif\" font-size=\"14.00\">data &#45;0.0172</text>\n<polyline fill=\"none\" stroke=\"black\" points=\"2286,-440.5 2286,-476.5 \"/>\n<text text-anchor=\"middle\" x=\"2327\" y=\"-454.8\" font-family=\"Times,serif\" font-size=\"14.00\">grad 0.0000</text>\n</g>\n<!-- 134211704208400+ -->\n<g id=\"node60\" class=\"node\">\n<title>134211704208400+</title>\n<ellipse fill=\"none\" stroke=\"black\" cx=\"2431\" cy=\"-403.5\" rx=\"27\" ry=\"18\"/>\n<text text-anchor=\"middle\" x=\"2431\" y=\"-399.8\" font-family=\"Times,serif\" font-size=\"14.00\">+</text>\n</g>\n<!-- 134211704193168&#45;&gt;134211704208400+ -->\n<g id=\"edge87\" class=\"edge\">\n<title>134211704193168&#45;&gt;134211704208400+</title>\n<path fill=\"none\" stroke=\"black\" d=\"M2341.56,-440.45C2350.51,-437.64 2359.53,-434.63 2368,-431.5 2378.49,-427.62 2389.71,-422.78 2399.68,-418.22\"/>\n<polygon fill=\"black\" stroke=\"black\" points=\"2401.2,-421.37 2408.79,-413.97 2398.25,-415.02 2401.2,-421.37\"/>\n</g>\n<!-- 134211704193168* -->\n<g id=\"node9\" class=\"node\">\n<title>134211704193168*</title>\n<ellipse fill=\"none\" stroke=\"black\" cx=\"2118\" cy=\"-458.5\" rx=\"27\" ry=\"18\"/>\n<text text-anchor=\"middle\" x=\"2118\" y=\"-454.8\" font-family=\"Times,serif\" font-size=\"14.00\">*</text>\n</g>\n<!-- 134211704193168*&#45;&gt;134211704193168 -->\n<g id=\"edge4\" class=\"edge\">\n<title>134211704193168*&#45;&gt;134211704193168</title>\n<path fill=\"none\" stroke=\"black\" d=\"M2145.21,-458.5C2152.73,-458.5 2161.43,-458.5 2170.67,-458.5\"/>\n<polygon fill=\"black\" stroke=\"black\" points=\"2170.89,-462 2180.89,-458.5 2170.89,-455 2170.89,-462\"/>\n</g>\n<!-- 134211705874640 -->\n<g id=\"node10\" class=\"node\">\n<title>134211705874640</title>\n<polygon fill=\"none\" stroke=\"black\" points=\"313,-168.5 313,-204.5 500,-204.5 500,-168.5 313,-168.5\"/>\n<text text-anchor=\"middle\" x=\"323\" y=\"-182.8\" font-family=\"Times,serif\" font-size=\"14.00\"> </text>\n<polyline fill=\"none\" stroke=\"black\" points=\"333,-168.5 333,-204.5 \"/>\n<text text-anchor=\"middle\" x=\"375.5\" y=\"-182.8\" font-family=\"Times,serif\" font-size=\"14.00\">data &#45;0.0712</text>\n<polyline fill=\"none\" stroke=\"black\" points=\"418,-168.5 418,-204.5 \"/>\n<text text-anchor=\"middle\" x=\"459\" y=\"-182.8\" font-family=\"Times,serif\" font-size=\"14.00\">grad 0.0000</text>\n</g>\n<!-- 134211717639504+ -->\n<g id=\"node70\" class=\"node\">\n<title>134211717639504+</title>\n<ellipse fill=\"none\" stroke=\"black\" cx=\"563\" cy=\"-131.5\" rx=\"27\" ry=\"18\"/>\n<text text-anchor=\"middle\" x=\"563\" y=\"-127.8\" font-family=\"Times,serif\" font-size=\"14.00\">+</text>\n</g>\n<!-- 134211705874640&#45;&gt;134211717639504+ -->\n<g id=\"edge60\" class=\"edge\">\n<title>134211705874640&#45;&gt;134211717639504+</title>\n<path fill=\"none\" stroke=\"black\" d=\"M471.02,-168.35C480.79,-165.24 490.71,-161.92 500,-158.5 510.25,-154.73 521.23,-150.14 531.07,-145.82\"/>\n<polygon fill=\"black\" stroke=\"black\" points=\"532.74,-148.9 540.45,-141.63 529.89,-142.51 532.74,-148.9\"/>\n</g>\n<!-- 134211712800976 -->\n<g id=\"node11\" class=\"node\">\n<title>134211712800976</title>\n<polygon fill=\"none\" stroke=\"black\" points=\"313,-113.5 313,-149.5 500,-149.5 500,-113.5 313,-113.5\"/>\n<text text-anchor=\"middle\" x=\"323\" y=\"-127.8\" font-family=\"Times,serif\" font-size=\"14.00\"> </text>\n<polyline fill=\"none\" stroke=\"black\" points=\"333,-113.5 333,-149.5 \"/>\n<text text-anchor=\"middle\" x=\"375.5\" y=\"-127.8\" font-family=\"Times,serif\" font-size=\"14.00\">data &#45;0.1610</text>\n<polyline fill=\"none\" stroke=\"black\" points=\"418,-113.5 418,-149.5 \"/>\n<text text-anchor=\"middle\" x=\"459\" y=\"-127.8\" font-family=\"Times,serif\" font-size=\"14.00\">grad 0.0000</text>\n</g>\n<!-- 134211712800976&#45;&gt;134211717639504+ -->\n<g id=\"edge53\" class=\"edge\">\n<title>134211712800976&#45;&gt;134211717639504+</title>\n<path fill=\"none\" stroke=\"black\" d=\"M500.05,-131.5C509.06,-131.5 517.79,-131.5 525.7,-131.5\"/>\n<polygon fill=\"black\" stroke=\"black\" points=\"525.95,-135 535.95,-131.5 525.95,-128 525.95,-135\"/>\n</g>\n<!-- 134211712800976* -->\n<g id=\"node12\" class=\"node\">\n<title>134211712800976*</title>\n<ellipse fill=\"none\" stroke=\"black\" cx=\"250\" cy=\"-131.5\" rx=\"27\" ry=\"18\"/>\n<text text-anchor=\"middle\" x=\"250\" y=\"-127.8\" font-family=\"Times,serif\" font-size=\"14.00\">*</text>\n</g>\n<!-- 134211712800976*&#45;&gt;134211712800976 -->\n<g id=\"edge5\" class=\"edge\">\n<title>134211712800976*&#45;&gt;134211712800976</title>\n<path fill=\"none\" stroke=\"black\" d=\"M277.21,-131.5C284.73,-131.5 293.43,-131.5 302.67,-131.5\"/>\n<polygon fill=\"black\" stroke=\"black\" points=\"302.89,-135 312.89,-131.5 302.89,-128 302.89,-135\"/>\n</g>\n<!-- 134211705876752 -->\n<g id=\"node13\" class=\"node\">\n<title>134211705876752</title>\n<polygon fill=\"none\" stroke=\"black\" points=\"628.5,-450.5 628.5,-486.5 810.5,-486.5 810.5,-450.5 628.5,-450.5\"/>\n<text text-anchor=\"middle\" x=\"638.5\" y=\"-464.8\" font-family=\"Times,serif\" font-size=\"14.00\"> </text>\n<polyline fill=\"none\" stroke=\"black\" points=\"648.5,-450.5 648.5,-486.5 \"/>\n<text text-anchor=\"middle\" x=\"688.5\" y=\"-464.8\" font-family=\"Times,serif\" font-size=\"14.00\">data 0.1725</text>\n<polyline fill=\"none\" stroke=\"black\" points=\"728.5,-450.5 728.5,-486.5 \"/>\n<text text-anchor=\"middle\" x=\"769.5\" y=\"-464.8\" font-family=\"Times,serif\" font-size=\"14.00\">grad 0.0000</text>\n</g>\n<!-- 134211708707472* -->\n<g id=\"node31\" class=\"node\">\n<title>134211708707472*</title>\n<ellipse fill=\"none\" stroke=\"black\" cx=\"876\" cy=\"-413.5\" rx=\"27\" ry=\"18\"/>\n<text text-anchor=\"middle\" x=\"876\" y=\"-409.8\" font-family=\"Times,serif\" font-size=\"14.00\">*</text>\n</g>\n<!-- 134211705876752&#45;&gt;134211708707472* -->\n<g id=\"edge62\" class=\"edge\">\n<title>134211705876752&#45;&gt;134211708707472*</title>\n<path fill=\"none\" stroke=\"black\" d=\"M786.56,-450.45C795.51,-447.64 804.53,-444.63 813,-441.5 823.49,-437.62 834.71,-432.78 844.68,-428.22\"/>\n<polygon fill=\"black\" stroke=\"black\" points=\"846.2,-431.37 853.79,-423.97 843.25,-425.02 846.2,-431.37\"/>\n</g>\n<!-- 134211710214416 -->\n<g id=\"node14\" class=\"node\">\n<title>134211710214416</title>\n<polygon fill=\"none\" stroke=\"black\" points=\"626,-395.5 626,-431.5 813,-431.5 813,-395.5 626,-395.5\"/>\n<text text-anchor=\"middle\" x=\"636\" y=\"-409.8\" font-family=\"Times,serif\" font-size=\"14.00\"> </text>\n<polyline fill=\"none\" stroke=\"black\" points=\"646,-395.5 646,-431.5 \"/>\n<text text-anchor=\"middle\" x=\"688.5\" y=\"-409.8\" font-family=\"Times,serif\" font-size=\"14.00\">data &#45;2.0000</text>\n<polyline fill=\"none\" stroke=\"black\" points=\"731,-395.5 731,-431.5 \"/>\n<text text-anchor=\"middle\" x=\"772\" y=\"-409.8\" font-family=\"Times,serif\" font-size=\"14.00\">grad 0.0000</text>\n</g>\n<!-- 134211710214416&#45;&gt;134211708707472* -->\n<g id=\"edge50\" class=\"edge\">\n<title>134211710214416&#45;&gt;134211708707472*</title>\n<path fill=\"none\" stroke=\"black\" d=\"M813.05,-413.5C822.06,-413.5 830.79,-413.5 838.7,-413.5\"/>\n<polygon fill=\"black\" stroke=\"black\" points=\"838.95,-417 848.95,-413.5 838.95,-410 838.95,-417\"/>\n</g>\n<!-- 134211713356048 -->\n<g id=\"node15\" class=\"node\">\n<title>134211713356048</title>\n<polygon fill=\"none\" stroke=\"black\" points=\"939,-168.5 939,-204.5 1126,-204.5 1126,-168.5 939,-168.5\"/>\n<text text-anchor=\"middle\" x=\"949\" y=\"-182.8\" font-family=\"Times,serif\" font-size=\"14.00\"> </text>\n<polyline fill=\"none\" stroke=\"black\" points=\"959,-168.5 959,-204.5 \"/>\n<text text-anchor=\"middle\" x=\"1001.5\" y=\"-182.8\" font-family=\"Times,serif\" font-size=\"14.00\">data &#45;0.6438</text>\n<polyline fill=\"none\" stroke=\"black\" points=\"1044,-168.5 1044,-204.5 \"/>\n<text text-anchor=\"middle\" x=\"1085\" y=\"-182.8\" font-family=\"Times,serif\" font-size=\"14.00\">grad 0.0000</text>\n</g>\n<!-- 134211713358800+ -->\n<g id=\"node53\" class=\"node\">\n<title>134211713358800+</title>\n<ellipse fill=\"none\" stroke=\"black\" cx=\"1189\" cy=\"-172.5\" rx=\"27\" ry=\"18\"/>\n<text text-anchor=\"middle\" x=\"1189\" y=\"-168.8\" font-family=\"Times,serif\" font-size=\"14.00\">+</text>\n</g>\n<!-- 134211713356048&#45;&gt;134211713358800+ -->\n<g id=\"edge64\" class=\"edge\">\n<title>134211713356048&#45;&gt;134211713358800+</title>\n<path fill=\"none\" stroke=\"black\" d=\"M1126.05,-178.11C1135.16,-177.29 1143.98,-176.49 1151.97,-175.76\"/>\n<polygon fill=\"black\" stroke=\"black\" points=\"1152.31,-179.25 1161.95,-174.86 1151.67,-172.28 1152.31,-179.25\"/>\n</g>\n<!-- 134211713356048* -->\n<g id=\"node16\" class=\"node\">\n<title>134211713356048*</title>\n<ellipse fill=\"none\" stroke=\"black\" cx=\"876\" cy=\"-186.5\" rx=\"27\" ry=\"18\"/>\n<text text-anchor=\"middle\" x=\"876\" y=\"-182.8\" font-family=\"Times,serif\" font-size=\"14.00\">*</text>\n</g>\n<!-- 134211713356048*&#45;&gt;134211713356048 -->\n<g id=\"edge6\" class=\"edge\">\n<title>134211713356048*&#45;&gt;134211713356048</title>\n<path fill=\"none\" stroke=\"black\" d=\"M903.21,-186.5C910.73,-186.5 919.43,-186.5 928.67,-186.5\"/>\n<polygon fill=\"black\" stroke=\"black\" points=\"928.89,-190 938.89,-186.5 928.89,-183 928.89,-190\"/>\n</g>\n<!-- 134211705874704 -->\n<g id=\"node17\" class=\"node\">\n<title>134211705874704</title>\n<polygon fill=\"none\" stroke=\"black\" points=\"2802,-440.5 2802,-476.5 2989,-476.5 2989,-440.5 2802,-440.5\"/>\n<text text-anchor=\"middle\" x=\"2812\" y=\"-454.8\" font-family=\"Times,serif\" font-size=\"14.00\"> </text>\n<polyline fill=\"none\" stroke=\"black\" points=\"2822,-440.5 2822,-476.5 \"/>\n<text text-anchor=\"middle\" x=\"2864.5\" y=\"-454.8\" font-family=\"Times,serif\" font-size=\"14.00\">data &#45;0.2094</text>\n<polyline fill=\"none\" stroke=\"black\" points=\"2907,-440.5 2907,-476.5 \"/>\n<text text-anchor=\"middle\" x=\"2948\" y=\"-454.8\" font-family=\"Times,serif\" font-size=\"14.00\">grad 0.0000</text>\n</g>\n<!-- 134211704206352* -->\n<g id=\"node58\" class=\"node\">\n<title>134211704206352*</title>\n<ellipse fill=\"none\" stroke=\"black\" cx=\"3052\" cy=\"-403.5\" rx=\"27\" ry=\"18\"/>\n<text text-anchor=\"middle\" x=\"3052\" y=\"-399.8\" font-family=\"Times,serif\" font-size=\"14.00\">*</text>\n</g>\n<!-- 134211705874704&#45;&gt;134211704206352* -->\n<g id=\"edge86\" class=\"edge\">\n<title>134211705874704&#45;&gt;134211704206352*</title>\n<path fill=\"none\" stroke=\"black\" d=\"M2962.56,-440.45C2971.51,-437.64 2980.53,-434.63 2989,-431.5 2999.49,-427.62 3010.71,-422.78 3020.68,-418.22\"/>\n<polygon fill=\"black\" stroke=\"black\" points=\"3022.2,-421.37 3029.79,-413.97 3019.25,-415.02 3022.2,-421.37\"/>\n</g>\n<!-- 134211704201552 -->\n<g id=\"node18\" class=\"node\">\n<title>134211704201552</title>\n<polygon fill=\"none\" stroke=\"black\" points=\"1870.5,-110.5 1870.5,-146.5 2052.5,-146.5 2052.5,-110.5 1870.5,-110.5\"/>\n<text text-anchor=\"middle\" x=\"1880.5\" y=\"-124.8\" font-family=\"Times,serif\" font-size=\"14.00\"> </text>\n<polyline fill=\"none\" stroke=\"black\" points=\"1890.5,-110.5 1890.5,-146.5 \"/>\n<text text-anchor=\"middle\" x=\"1930.5\" y=\"-124.8\" font-family=\"Times,serif\" font-size=\"14.00\">data 0.4409</text>\n<polyline fill=\"none\" stroke=\"black\" points=\"1970.5,-110.5 1970.5,-146.5 \"/>\n<text text-anchor=\"middle\" x=\"2011.5\" y=\"-124.8\" font-family=\"Times,serif\" font-size=\"14.00\">grad 0.0000</text>\n</g>\n<!-- 134211704202192+ -->\n<g id=\"node51\" class=\"node\">\n<title>134211704202192+</title>\n<ellipse fill=\"none\" stroke=\"black\" cx=\"2118\" cy=\"-183.5\" rx=\"27\" ry=\"18\"/>\n<text text-anchor=\"middle\" x=\"2118\" y=\"-179.8\" font-family=\"Times,serif\" font-size=\"14.00\">+</text>\n</g>\n<!-- 134211704201552&#45;&gt;134211704202192+ -->\n<g id=\"edge84\" class=\"edge\">\n<title>134211704201552&#45;&gt;134211704202192+</title>\n<path fill=\"none\" stroke=\"black\" d=\"M2028.56,-146.55C2037.51,-149.36 2046.53,-152.37 2055,-155.5 2065.49,-159.38 2076.71,-164.22 2086.68,-168.78\"/>\n<polygon fill=\"black\" stroke=\"black\" points=\"2085.25,-171.98 2095.79,-173.03 2088.2,-165.63 2085.25,-171.98\"/>\n</g>\n<!-- 134211704201552* -->\n<g id=\"node19\" class=\"node\">\n<title>134211704201552*</title>\n<ellipse fill=\"none\" stroke=\"black\" cx=\"1805\" cy=\"-128.5\" rx=\"27\" ry=\"18\"/>\n<text text-anchor=\"middle\" x=\"1805\" y=\"-124.8\" font-family=\"Times,serif\" font-size=\"14.00\">*</text>\n</g>\n<!-- 134211704201552*&#45;&gt;134211704201552 -->\n<g id=\"edge7\" class=\"edge\">\n<title>134211704201552*&#45;&gt;134211704201552</title>\n<path fill=\"none\" stroke=\"black\" d=\"M1832.21,-128.5C1840.34,-128.5 1849.85,-128.5 1859.94,-128.5\"/>\n<polygon fill=\"black\" stroke=\"black\" points=\"1860.19,-132 1870.19,-128.5 1860.19,-125 1860.19,-132\"/>\n</g>\n<!-- 134211705878928 -->\n<g id=\"node20\" class=\"node\">\n<title>134211705878928</title>\n<polygon fill=\"none\" stroke=\"black\" points=\"0,-141.5 0,-177.5 187,-177.5 187,-141.5 0,-141.5\"/>\n<text text-anchor=\"middle\" x=\"10\" y=\"-155.8\" font-family=\"Times,serif\" font-size=\"14.00\"> </text>\n<polyline fill=\"none\" stroke=\"black\" points=\"20,-141.5 20,-177.5 \"/>\n<text text-anchor=\"middle\" x=\"62.5\" y=\"-155.8\" font-family=\"Times,serif\" font-size=\"14.00\">data &#45;0.1610</text>\n<polyline fill=\"none\" stroke=\"black\" points=\"105,-141.5 105,-177.5 \"/>\n<text text-anchor=\"middle\" x=\"146\" y=\"-155.8\" font-family=\"Times,serif\" font-size=\"14.00\">grad 0.0000</text>\n</g>\n<!-- 134211705878928&#45;&gt;134211712800976* -->\n<g id=\"edge102\" class=\"edge\">\n<title>134211705878928&#45;&gt;134211712800976*</title>\n<path fill=\"none\" stroke=\"black\" d=\"M187.05,-142.73C196.54,-141.01 205.71,-139.35 213.95,-137.85\"/>\n<polygon fill=\"black\" stroke=\"black\" points=\"214.64,-141.28 223.85,-136.06 213.39,-134.4 214.64,-141.28\"/>\n</g>\n<!-- 134211705874832 -->\n<g id=\"node21\" class=\"node\">\n<title>134211705874832</title>\n<polygon fill=\"none\" stroke=\"black\" points=\"1870.5,-440.5 1870.5,-476.5 2052.5,-476.5 2052.5,-440.5 1870.5,-440.5\"/>\n<text text-anchor=\"middle\" x=\"1880.5\" y=\"-454.8\" font-family=\"Times,serif\" font-size=\"14.00\"> </text>\n<polyline fill=\"none\" stroke=\"black\" points=\"1890.5,-440.5 1890.5,-476.5 \"/>\n<text text-anchor=\"middle\" x=\"1930.5\" y=\"-454.8\" font-family=\"Times,serif\" font-size=\"14.00\">data 0.8396</text>\n<polyline fill=\"none\" stroke=\"black\" points=\"1970.5,-440.5 1970.5,-476.5 \"/>\n<text text-anchor=\"middle\" x=\"2011.5\" y=\"-454.8\" font-family=\"Times,serif\" font-size=\"14.00\">grad 0.0000</text>\n</g>\n<!-- 134211704201872+ -->\n<g id=\"node33\" class=\"node\">\n<title>134211704201872+</title>\n<ellipse fill=\"none\" stroke=\"black\" cx=\"2118\" cy=\"-403.5\" rx=\"27\" ry=\"18\"/>\n<text text-anchor=\"middle\" x=\"2118\" y=\"-399.8\" font-family=\"Times,serif\" font-size=\"14.00\">+</text>\n</g>\n<!-- 134211705874832&#45;&gt;134211704201872+ -->\n<g id=\"edge98\" class=\"edge\">\n<title>134211705874832&#45;&gt;134211704201872+</title>\n<path fill=\"none\" stroke=\"black\" d=\"M2028.56,-440.45C2037.51,-437.64 2046.53,-434.63 2055,-431.5 2065.49,-427.62 2076.71,-422.78 2086.68,-418.22\"/>\n<polygon fill=\"black\" stroke=\"black\" points=\"2088.2,-421.37 2095.79,-413.97 2085.25,-415.02 2088.2,-421.37\"/>\n</g>\n<!-- 134211705874960 -->\n<g id=\"node22\" class=\"node\">\n<title>134211705874960</title>\n<polygon fill=\"none\" stroke=\"black\" points=\"941.5,-285.5 941.5,-321.5 1123.5,-321.5 1123.5,-285.5 941.5,-285.5\"/>\n<text text-anchor=\"middle\" x=\"951.5\" y=\"-299.8\" font-family=\"Times,serif\" font-size=\"14.00\"> </text>\n<polyline fill=\"none\" stroke=\"black\" points=\"961.5,-285.5 961.5,-321.5 \"/>\n<text text-anchor=\"middle\" x=\"1001.5\" y=\"-299.8\" font-family=\"Times,serif\" font-size=\"14.00\">data 0.1616</text>\n<polyline fill=\"none\" stroke=\"black\" points=\"1041.5,-285.5 1041.5,-321.5 \"/>\n<text text-anchor=\"middle\" x=\"1082.5\" y=\"-299.8\" font-family=\"Times,serif\" font-size=\"14.00\">grad 0.0000</text>\n</g>\n<!-- 134211708705552* -->\n<g id=\"node41\" class=\"node\">\n<title>134211708705552*</title>\n<ellipse fill=\"none\" stroke=\"black\" cx=\"1189\" cy=\"-303.5\" rx=\"27\" ry=\"18\"/>\n<text text-anchor=\"middle\" x=\"1189\" y=\"-299.8\" font-family=\"Times,serif\" font-size=\"14.00\">*</text>\n</g>\n<!-- 134211705874960&#45;&gt;134211708705552* -->\n<g id=\"edge81\" class=\"edge\">\n<title>134211705874960&#45;&gt;134211708705552*</title>\n<path fill=\"none\" stroke=\"black\" d=\"M1123.82,-303.5C1133.57,-303.5 1143.04,-303.5 1151.57,-303.5\"/>\n<polygon fill=\"black\" stroke=\"black\" points=\"1151.83,-307 1161.83,-303.5 1151.83,-300 1151.83,-307\"/>\n</g>\n<!-- 134211704201744 -->\n<g id=\"node23\" class=\"node\">\n<title>134211704201744</title>\n<polygon fill=\"none\" stroke=\"black\" points=\"2494,-220.5 2494,-256.5 2676,-256.5 2676,-220.5 2494,-220.5\"/>\n<text text-anchor=\"middle\" x=\"2504\" y=\"-234.8\" font-family=\"Times,serif\" font-size=\"14.00\"> </text>\n<polyline fill=\"none\" stroke=\"black\" points=\"2514,-220.5 2514,-256.5 \"/>\n<text text-anchor=\"middle\" x=\"2554\" y=\"-234.8\" font-family=\"Times,serif\" font-size=\"14.00\">data 0.8341</text>\n<polyline fill=\"none\" stroke=\"black\" points=\"2594,-220.5 2594,-256.5 \"/>\n<text text-anchor=\"middle\" x=\"2635\" y=\"-234.8\" font-family=\"Times,serif\" font-size=\"14.00\">grad 0.0000</text>\n</g>\n<!-- 134211704201744&#45;&gt;134211704205392tanh -->\n<g id=\"edge79\" class=\"edge\">\n<title>134211704201744&#45;&gt;134211704205392tanh</title>\n<path fill=\"none\" stroke=\"black\" d=\"M2676.18,-238.5C2685.14,-238.5 2693.83,-238.5 2701.73,-238.5\"/>\n<polygon fill=\"black\" stroke=\"black\" points=\"2701.96,-242 2711.96,-238.5 2701.96,-235 2701.96,-242\"/>\n</g>\n<!-- 134211704201744+ -->\n<g id=\"node24\" class=\"node\">\n<title>134211704201744+</title>\n<ellipse fill=\"none\" stroke=\"black\" cx=\"2431\" cy=\"-238.5\" rx=\"27\" ry=\"18\"/>\n<text text-anchor=\"middle\" x=\"2431\" y=\"-234.8\" font-family=\"Times,serif\" font-size=\"14.00\">+</text>\n</g>\n<!-- 134211704201744+&#45;&gt;134211704201744 -->\n<g id=\"edge8\" class=\"edge\">\n<title>134211704201744+&#45;&gt;134211704201744</title>\n<path fill=\"none\" stroke=\"black\" d=\"M2458.13,-238.5C2465.67,-238.5 2474.39,-238.5 2483.64,-238.5\"/>\n<polygon fill=\"black\" stroke=\"black\" points=\"2483.87,-242 2493.87,-238.5 2483.87,-235 2483.87,-242\"/>\n</g>\n<!-- 134211704193616 -->\n<g id=\"node25\" class=\"node\">\n<title>134211704193616</title>\n<polygon fill=\"none\" stroke=\"black\" points=\"2804.5,-385.5 2804.5,-421.5 2986.5,-421.5 2986.5,-385.5 2804.5,-385.5\"/>\n<text text-anchor=\"middle\" x=\"2814.5\" y=\"-399.8\" font-family=\"Times,serif\" font-size=\"14.00\"> </text>\n<polyline fill=\"none\" stroke=\"black\" points=\"2824.5,-385.5 2824.5,-421.5 \"/>\n<text text-anchor=\"middle\" x=\"2864.5\" y=\"-399.8\" font-family=\"Times,serif\" font-size=\"14.00\">data 0.8337</text>\n<polyline fill=\"none\" stroke=\"black\" points=\"2904.5,-385.5 2904.5,-421.5 \"/>\n<text text-anchor=\"middle\" x=\"2945.5\" y=\"-399.8\" font-family=\"Times,serif\" font-size=\"14.00\">grad 0.0000</text>\n</g>\n<!-- 134211704193616&#45;&gt;134211704206352* -->\n<g id=\"edge37\" class=\"edge\">\n<title>134211704193616&#45;&gt;134211704206352*</title>\n<path fill=\"none\" stroke=\"black\" d=\"M2986.82,-403.5C2996.57,-403.5 3006.04,-403.5 3014.57,-403.5\"/>\n<polygon fill=\"black\" stroke=\"black\" points=\"3014.83,-407 3024.83,-403.5 3014.83,-400 3014.83,-407\"/>\n</g>\n<!-- 134211704193616tanh -->\n<g id=\"node26\" class=\"node\">\n<title>134211704193616tanh</title>\n<ellipse fill=\"none\" stroke=\"black\" cx=\"2739\" cy=\"-403.5\" rx=\"27\" ry=\"18\"/>\n<text text-anchor=\"middle\" x=\"2739\" y=\"-399.8\" font-family=\"Times,serif\" font-size=\"14.00\">tanh</text>\n</g>\n<!-- 134211704193616tanh&#45;&gt;134211704193616 -->\n<g id=\"edge9\" class=\"edge\">\n<title>134211704193616tanh&#45;&gt;134211704193616</title>\n<path fill=\"none\" stroke=\"black\" d=\"M2766.21,-403.5C2774.34,-403.5 2783.85,-403.5 2793.94,-403.5\"/>\n<polygon fill=\"black\" stroke=\"black\" points=\"2794.19,-407 2804.19,-403.5 2794.19,-400 2794.19,-407\"/>\n</g>\n<!-- 134211704201808 -->\n<g id=\"node27\" class=\"node\">\n<title>134211704201808</title>\n<polygon fill=\"none\" stroke=\"black\" points=\"2183.5,-83.5 2183.5,-119.5 2365.5,-119.5 2365.5,-83.5 2183.5,-83.5\"/>\n<text text-anchor=\"middle\" x=\"2193.5\" y=\"-97.8\" font-family=\"Times,serif\" font-size=\"14.00\"> </text>\n<polyline fill=\"none\" stroke=\"black\" points=\"2203.5,-83.5 2203.5,-119.5 \"/>\n<text text-anchor=\"middle\" x=\"2243.5\" y=\"-97.8\" font-family=\"Times,serif\" font-size=\"14.00\">data 0.7484</text>\n<polyline fill=\"none\" stroke=\"black\" points=\"2283.5,-83.5 2283.5,-119.5 \"/>\n<text text-anchor=\"middle\" x=\"2324.5\" y=\"-97.8\" font-family=\"Times,serif\" font-size=\"14.00\">grad 0.0000</text>\n</g>\n<!-- 134211704201808&#45;&gt;134211704201744+ -->\n<g id=\"edge76\" class=\"edge\">\n<title>134211704201808&#45;&gt;134211704201744+</title>\n<path fill=\"none\" stroke=\"black\" d=\"M2314.25,-119.64C2331.76,-128.91 2352.05,-141.26 2368,-155.5 2386.74,-172.23 2403.48,-195.41 2414.83,-213.02\"/>\n<polygon fill=\"black\" stroke=\"black\" points=\"2411.98,-215.05 2420.26,-221.66 2417.9,-211.33 2411.98,-215.05\"/>\n</g>\n<!-- 134211704201808+ -->\n<g id=\"node28\" class=\"node\">\n<title>134211704201808+</title>\n<ellipse fill=\"none\" stroke=\"black\" cx=\"2118\" cy=\"-73.5\" rx=\"27\" ry=\"18\"/>\n<text text-anchor=\"middle\" x=\"2118\" y=\"-69.8\" font-family=\"Times,serif\" font-size=\"14.00\">+</text>\n</g>\n<!-- 134211704201808+&#45;&gt;134211704201808 -->\n<g id=\"edge10\" class=\"edge\">\n<title>134211704201808+&#45;&gt;134211704201808</title>\n<path fill=\"none\" stroke=\"black\" d=\"M2144.17,-78.06C2152.61,-79.59 2162.61,-81.4 2173.25,-83.33\"/>\n<polygon fill=\"black\" stroke=\"black\" points=\"2172.71,-86.79 2183.18,-85.13 2173.96,-79.9 2172.71,-86.79\"/>\n</g>\n<!-- 134211705875088 -->\n<g id=\"node29\" class=\"node\">\n<title>134211705875088</title>\n<polygon fill=\"none\" stroke=\"black\" points=\"2802,-330.5 2802,-366.5 2989,-366.5 2989,-330.5 2802,-330.5\"/>\n<text text-anchor=\"middle\" x=\"2812\" y=\"-344.8\" font-family=\"Times,serif\" font-size=\"14.00\"> </text>\n<polyline fill=\"none\" stroke=\"black\" points=\"2822,-330.5 2822,-366.5 \"/>\n<text text-anchor=\"middle\" x=\"2864.5\" y=\"-344.8\" font-family=\"Times,serif\" font-size=\"14.00\">data &#45;0.9476</text>\n<polyline fill=\"none\" stroke=\"black\" points=\"2907,-330.5 2907,-366.5 \"/>\n<text text-anchor=\"middle\" x=\"2948\" y=\"-344.8\" font-family=\"Times,serif\" font-size=\"14.00\">grad 0.0000</text>\n</g>\n<!-- 134211704194192* -->\n<g id=\"node62\" class=\"node\">\n<title>134211704194192*</title>\n<ellipse fill=\"none\" stroke=\"black\" cx=\"3052\" cy=\"-293.5\" rx=\"27\" ry=\"18\"/>\n<text text-anchor=\"middle\" x=\"3052\" y=\"-289.8\" font-family=\"Times,serif\" font-size=\"14.00\">*</text>\n</g>\n<!-- 134211705875088&#45;&gt;134211704194192* -->\n<g id=\"edge101\" class=\"edge\">\n<title>134211705875088&#45;&gt;134211704194192*</title>\n<path fill=\"none\" stroke=\"black\" d=\"M2960.02,-330.35C2969.79,-327.24 2979.71,-323.92 2989,-320.5 2999.25,-316.73 3010.23,-312.14 3020.07,-307.82\"/>\n<polygon fill=\"black\" stroke=\"black\" points=\"3021.74,-310.9 3029.45,-303.63 3018.89,-304.51 3021.74,-310.9\"/>\n</g>\n<!-- 134211708707472 -->\n<g id=\"node30\" class=\"node\">\n<title>134211708707472</title>\n<polygon fill=\"none\" stroke=\"black\" points=\"939,-395.5 939,-431.5 1126,-431.5 1126,-395.5 939,-395.5\"/>\n<text text-anchor=\"middle\" x=\"949\" y=\"-409.8\" font-family=\"Times,serif\" font-size=\"14.00\"> </text>\n<polyline fill=\"none\" stroke=\"black\" points=\"959,-395.5 959,-431.5 \"/>\n<text text-anchor=\"middle\" x=\"1001.5\" y=\"-409.8\" font-family=\"Times,serif\" font-size=\"14.00\">data &#45;0.3450</text>\n<polyline fill=\"none\" stroke=\"black\" points=\"1044,-395.5 1044,-431.5 \"/>\n<text text-anchor=\"middle\" x=\"1085\" y=\"-409.8\" font-family=\"Times,serif\" font-size=\"14.00\">grad 0.0000</text>\n</g>\n<!-- 134211708707472&#45;&gt;134211708698768+ -->\n<g id=\"edge58\" class=\"edge\">\n<title>134211708707472&#45;&gt;134211708698768+</title>\n<path fill=\"none\" stroke=\"black\" d=\"M1097.02,-395.35C1106.79,-392.24 1116.71,-388.92 1126,-385.5 1136.25,-381.73 1147.23,-377.14 1157.07,-372.82\"/>\n<polygon fill=\"black\" stroke=\"black\" points=\"1158.74,-375.9 1166.45,-368.63 1155.89,-369.51 1158.74,-375.9\"/>\n</g>\n<!-- 134211708707472*&#45;&gt;134211708707472 -->\n<g id=\"edge11\" class=\"edge\">\n<title>134211708707472*&#45;&gt;134211708707472</title>\n<path fill=\"none\" stroke=\"black\" d=\"M903.21,-413.5C910.73,-413.5 919.43,-413.5 928.67,-413.5\"/>\n<polygon fill=\"black\" stroke=\"black\" points=\"928.89,-417 938.89,-413.5 928.89,-410 928.89,-417\"/>\n</g>\n<!-- 134211704201872 -->\n<g id=\"node32\" class=\"node\">\n<title>134211704201872</title>\n<polygon fill=\"none\" stroke=\"black\" points=\"2183.5,-385.5 2183.5,-421.5 2365.5,-421.5 2365.5,-385.5 2183.5,-385.5\"/>\n<text text-anchor=\"middle\" x=\"2193.5\" y=\"-399.8\" font-family=\"Times,serif\" font-size=\"14.00\"> </text>\n<polyline fill=\"none\" stroke=\"black\" points=\"2203.5,-385.5 2203.5,-421.5 \"/>\n<text text-anchor=\"middle\" x=\"2243.5\" y=\"-399.8\" font-family=\"Times,serif\" font-size=\"14.00\">data 1.2174</text>\n<polyline fill=\"none\" stroke=\"black\" points=\"2283.5,-385.5 2283.5,-421.5 \"/>\n<text text-anchor=\"middle\" x=\"2324.5\" y=\"-399.8\" font-family=\"Times,serif\" font-size=\"14.00\">grad 0.0000</text>\n</g>\n<!-- 134211704201872&#45;&gt;134211704208400+ -->\n<g id=\"edge66\" class=\"edge\">\n<title>134211704201872&#45;&gt;134211704208400+</title>\n<path fill=\"none\" stroke=\"black\" d=\"M2365.82,-403.5C2375.57,-403.5 2385.04,-403.5 2393.57,-403.5\"/>\n<polygon fill=\"black\" stroke=\"black\" points=\"2393.83,-407 2403.83,-403.5 2393.83,-400 2393.83,-407\"/>\n</g>\n<!-- 134211704201872+&#45;&gt;134211704201872 -->\n<g id=\"edge12\" class=\"edge\">\n<title>134211704201872+&#45;&gt;134211704201872</title>\n<path fill=\"none\" stroke=\"black\" d=\"M2145.21,-403.5C2153.34,-403.5 2162.85,-403.5 2172.94,-403.5\"/>\n<polygon fill=\"black\" stroke=\"black\" points=\"2173.19,-407 2183.19,-403.5 2173.19,-400 2173.19,-407\"/>\n</g>\n<!-- 134211704199824 -->\n<g id=\"node34\" class=\"node\">\n<title>134211704199824</title>\n<polygon fill=\"none\" stroke=\"black\" points=\"2183.5,-220.5 2183.5,-256.5 2365.5,-256.5 2365.5,-220.5 2183.5,-220.5\"/>\n<text text-anchor=\"middle\" x=\"2193.5\" y=\"-234.8\" font-family=\"Times,serif\" font-size=\"14.00\"> </text>\n<polyline fill=\"none\" stroke=\"black\" points=\"2203.5,-220.5 2203.5,-256.5 \"/>\n<text text-anchor=\"middle\" x=\"2243.5\" y=\"-234.8\" font-family=\"Times,serif\" font-size=\"14.00\">data 0.0857</text>\n<polyline fill=\"none\" stroke=\"black\" points=\"2283.5,-220.5 2283.5,-256.5 \"/>\n<text text-anchor=\"middle\" x=\"2324.5\" y=\"-234.8\" font-family=\"Times,serif\" font-size=\"14.00\">grad 0.0000</text>\n</g>\n<!-- 134211704199824&#45;&gt;134211704201744+ -->\n<g id=\"edge45\" class=\"edge\">\n<title>134211704199824&#45;&gt;134211704201744+</title>\n<path fill=\"none\" stroke=\"black\" d=\"M2365.82,-238.5C2375.57,-238.5 2385.04,-238.5 2393.57,-238.5\"/>\n<polygon fill=\"black\" stroke=\"black\" points=\"2393.83,-242 2403.83,-238.5 2393.83,-235 2393.83,-242\"/>\n</g>\n<!-- 134211704199824* -->\n<g id=\"node35\" class=\"node\">\n<title>134211704199824*</title>\n<ellipse fill=\"none\" stroke=\"black\" cx=\"2118\" cy=\"-238.5\" rx=\"27\" ry=\"18\"/>\n<text text-anchor=\"middle\" x=\"2118\" y=\"-234.8\" font-family=\"Times,serif\" font-size=\"14.00\">*</text>\n</g>\n<!-- 134211704199824*&#45;&gt;134211704199824 -->\n<g id=\"edge13\" class=\"edge\">\n<title>134211704199824*&#45;&gt;134211704199824</title>\n<path fill=\"none\" stroke=\"black\" d=\"M2145.21,-238.5C2153.34,-238.5 2162.85,-238.5 2172.94,-238.5\"/>\n<polygon fill=\"black\" stroke=\"black\" points=\"2173.19,-242 2183.19,-238.5 2173.19,-235 2173.19,-242\"/>\n</g>\n<!-- 134211705877200 -->\n<g id=\"node36\" class=\"node\">\n<title>134211705877200</title>\n<polygon fill=\"none\" stroke=\"black\" points=\"315.5,-367.5 315.5,-403.5 497.5,-403.5 497.5,-367.5 315.5,-367.5\"/>\n<text text-anchor=\"middle\" x=\"325.5\" y=\"-381.8\" font-family=\"Times,serif\" font-size=\"14.00\"> </text>\n<polyline fill=\"none\" stroke=\"black\" points=\"335.5,-367.5 335.5,-403.5 \"/>\n<text text-anchor=\"middle\" x=\"375.5\" y=\"-381.8\" font-family=\"Times,serif\" font-size=\"14.00\">data 0.9290</text>\n<polyline fill=\"none\" stroke=\"black\" points=\"415.5,-367.5 415.5,-403.5 \"/>\n<text text-anchor=\"middle\" x=\"456.5\" y=\"-381.8\" font-family=\"Times,serif\" font-size=\"14.00\">grad 0.0000</text>\n</g>\n<!-- 134211713356688* -->\n<g id=\"node48\" class=\"node\">\n<title>134211713356688*</title>\n<ellipse fill=\"none\" stroke=\"black\" cx=\"563\" cy=\"-358.5\" rx=\"27\" ry=\"18\"/>\n<text text-anchor=\"middle\" x=\"563\" y=\"-354.8\" font-family=\"Times,serif\" font-size=\"14.00\">*</text>\n</g>\n<!-- 134211705877200&#45;&gt;134211713356688* -->\n<g id=\"edge83\" class=\"edge\">\n<title>134211705877200&#45;&gt;134211713356688*</title>\n<path fill=\"none\" stroke=\"black\" d=\"M497.82,-369.72C508.07,-367.92 518.01,-366.19 526.88,-364.64\"/>\n<polygon fill=\"black\" stroke=\"black\" points=\"527.5,-368.08 536.75,-362.91 526.3,-361.19 527.5,-368.08\"/>\n</g>\n<!-- 134211708705488 -->\n<g id=\"node37\" class=\"node\">\n<title>134211708705488</title>\n<polygon fill=\"none\" stroke=\"black\" points=\"941.5,-230.5 941.5,-266.5 1123.5,-266.5 1123.5,-230.5 941.5,-230.5\"/>\n<text text-anchor=\"middle\" x=\"951.5\" y=\"-244.8\" font-family=\"Times,serif\" font-size=\"14.00\"> </text>\n<polyline fill=\"none\" stroke=\"black\" points=\"961.5,-230.5 961.5,-266.5 \"/>\n<text text-anchor=\"middle\" x=\"1001.5\" y=\"-244.8\" font-family=\"Times,serif\" font-size=\"14.00\">data 3.0000</text>\n<polyline fill=\"none\" stroke=\"black\" points=\"1041.5,-230.5 1041.5,-266.5 \"/>\n<text text-anchor=\"middle\" x=\"1082.5\" y=\"-244.8\" font-family=\"Times,serif\" font-size=\"14.00\">grad 0.0000</text>\n</g>\n<!-- 134211708705488&#45;&gt;134211708705552* -->\n<g id=\"edge92\" class=\"edge\">\n<title>134211708705488&#45;&gt;134211708705552*</title>\n<path fill=\"none\" stroke=\"black\" d=\"M1099.56,-266.55C1108.51,-269.36 1117.53,-272.37 1126,-275.5 1136.49,-279.38 1147.71,-284.22 1157.68,-288.78\"/>\n<polygon fill=\"black\" stroke=\"black\" points=\"1156.25,-291.98 1166.79,-293.03 1159.2,-285.63 1156.25,-291.98\"/>\n</g>\n<!-- 134211704193808 -->\n<g id=\"node38\" class=\"node\">\n<title>134211704193808</title>\n<polygon fill=\"none\" stroke=\"black\" points=\"3874,-274.5 3874,-310.5 4061,-310.5 4061,-274.5 3874,-274.5\"/>\n<text text-anchor=\"middle\" x=\"3884\" y=\"-288.8\" font-family=\"Times,serif\" font-size=\"14.00\"> </text>\n<polyline fill=\"none\" stroke=\"black\" points=\"3894,-274.5 3894,-310.5 \"/>\n<text text-anchor=\"middle\" x=\"3936.5\" y=\"-288.8\" font-family=\"Times,serif\" font-size=\"14.00\">data &#45;1.0908</text>\n<polyline fill=\"none\" stroke=\"black\" points=\"3979,-274.5 3979,-310.5 \"/>\n<text text-anchor=\"middle\" x=\"4020\" y=\"-288.8\" font-family=\"Times,serif\" font-size=\"14.00\">grad 0.0000</text>\n</g>\n<!-- 134211704195984+ -->\n<g id=\"node46\" class=\"node\">\n<title>134211704195984+</title>\n<ellipse fill=\"none\" stroke=\"black\" cx=\"4124\" cy=\"-268.5\" rx=\"27\" ry=\"18\"/>\n<text text-anchor=\"middle\" x=\"4124\" y=\"-264.8\" font-family=\"Times,serif\" font-size=\"14.00\">+</text>\n</g>\n<!-- 134211704193808&#45;&gt;134211704195984+ -->\n<g id=\"edge96\" class=\"edge\">\n<title>134211704193808&#45;&gt;134211704195984+</title>\n<path fill=\"none\" stroke=\"black\" d=\"M4061.05,-278.12C4070.34,-276.68 4079.33,-275.28 4087.44,-274.02\"/>\n<polygon fill=\"black\" stroke=\"black\" points=\"4088.21,-277.45 4097.55,-272.45 4087.13,-270.53 4088.21,-277.45\"/>\n</g>\n<!-- 134211704193808+&#45;&gt;134211704193808 -->\n<g id=\"edge14\" class=\"edge\">\n<title>134211704193808+&#45;&gt;134211704193808</title>\n<path fill=\"none\" stroke=\"black\" d=\"M3838.21,-293.33C3845.73,-293.28 3854.43,-293.23 3863.67,-293.17\"/>\n<polygon fill=\"black\" stroke=\"black\" points=\"3863.91,-296.66 3873.89,-293.1 3863.86,-289.66 3863.91,-296.66\"/>\n</g>\n<!-- 134211708705552 -->\n<g id=\"node40\" class=\"node\">\n<title>134211708705552</title>\n<polygon fill=\"none\" stroke=\"black\" points=\"1252,-285.5 1252,-321.5 1434,-321.5 1434,-285.5 1252,-285.5\"/>\n<text text-anchor=\"middle\" x=\"1262\" y=\"-299.8\" font-family=\"Times,serif\" font-size=\"14.00\"> </text>\n<polyline fill=\"none\" stroke=\"black\" points=\"1272,-285.5 1272,-321.5 \"/>\n<text text-anchor=\"middle\" x=\"1312\" y=\"-299.8\" font-family=\"Times,serif\" font-size=\"14.00\">data 0.4849</text>\n<polyline fill=\"none\" stroke=\"black\" points=\"1352,-285.5 1352,-321.5 \"/>\n<text text-anchor=\"middle\" x=\"1393\" y=\"-299.8\" font-family=\"Times,serif\" font-size=\"14.00\">grad 0.0000</text>\n</g>\n<!-- 134211708705552&#45;&gt;134211704199120+ -->\n<g id=\"edge39\" class=\"edge\">\n<title>134211708705552&#45;&gt;134211704199120+</title>\n<path fill=\"none\" stroke=\"black\" d=\"M1404.95,-321.54C1424.37,-327.29 1445.16,-333.45 1461.97,-338.42\"/>\n<polygon fill=\"black\" stroke=\"black\" points=\"1461.29,-341.87 1471.87,-341.36 1463.27,-335.16 1461.29,-341.87\"/>\n</g>\n<!-- 134211708705552*&#45;&gt;134211708705552 -->\n<g id=\"edge15\" class=\"edge\">\n<title>134211708705552*&#45;&gt;134211708705552</title>\n<path fill=\"none\" stroke=\"black\" d=\"M1216.13,-303.5C1223.67,-303.5 1232.39,-303.5 1241.64,-303.5\"/>\n<polygon fill=\"black\" stroke=\"black\" points=\"1241.87,-307 1251.87,-303.5 1241.87,-300 1241.87,-307\"/>\n</g>\n<!-- 134211710219088 -->\n<g id=\"node42\" class=\"node\">\n<title>134211710219088</title>\n<polygon fill=\"none\" stroke=\"black\" points=\"941.5,-340.5 941.5,-376.5 1123.5,-376.5 1123.5,-340.5 941.5,-340.5\"/>\n<text text-anchor=\"middle\" x=\"951.5\" y=\"-354.8\" font-family=\"Times,serif\" font-size=\"14.00\"> </text>\n<polyline fill=\"none\" stroke=\"black\" points=\"961.5,-340.5 961.5,-376.5 \"/>\n<text text-anchor=\"middle\" x=\"1001.5\" y=\"-354.8\" font-family=\"Times,serif\" font-size=\"14.00\">data 1.2953</text>\n<polyline fill=\"none\" stroke=\"black\" points=\"1041.5,-340.5 1041.5,-376.5 \"/>\n<text text-anchor=\"middle\" x=\"1082.5\" y=\"-354.8\" font-family=\"Times,serif\" font-size=\"14.00\">grad 0.0000</text>\n</g>\n<!-- 134211710219088&#45;&gt;134211708698768+ -->\n<g id=\"edge88\" class=\"edge\">\n<title>134211710219088&#45;&gt;134211708698768+</title>\n<path fill=\"none\" stroke=\"black\" d=\"M1123.82,-358.5C1133.57,-358.5 1143.04,-358.5 1151.57,-358.5\"/>\n<polygon fill=\"black\" stroke=\"black\" points=\"1151.83,-362 1161.83,-358.5 1151.83,-355 1151.83,-362\"/>\n</g>\n<!-- 134211710219088+ -->\n<g id=\"node43\" class=\"node\">\n<title>134211710219088+</title>\n<ellipse fill=\"none\" stroke=\"black\" cx=\"876\" cy=\"-358.5\" rx=\"27\" ry=\"18\"/>\n<text text-anchor=\"middle\" x=\"876\" y=\"-354.8\" font-family=\"Times,serif\" font-size=\"14.00\">+</text>\n</g>\n<!-- 134211710219088+&#45;&gt;134211710219088 -->\n<g id=\"edge16\" class=\"edge\">\n<title>134211710219088+&#45;&gt;134211710219088</title>\n<path fill=\"none\" stroke=\"black\" d=\"M903.21,-358.5C911.34,-358.5 920.85,-358.5 930.94,-358.5\"/>\n<polygon fill=\"black\" stroke=\"black\" points=\"931.19,-362 941.19,-358.5 931.19,-355 931.19,-362\"/>\n</g>\n<!-- 134211705875280 -->\n<g id=\"node44\" class=\"node\">\n<title>134211705875280</title>\n<polygon fill=\"none\" stroke=\"black\" points=\"1870.5,-220.5 1870.5,-256.5 2052.5,-256.5 2052.5,-220.5 1870.5,-220.5\"/>\n<text text-anchor=\"middle\" x=\"1880.5\" y=\"-234.8\" font-family=\"Times,serif\" font-size=\"14.00\"> </text>\n<polyline fill=\"none\" stroke=\"black\" points=\"1890.5,-220.5 1890.5,-256.5 \"/>\n<text text-anchor=\"middle\" x=\"1930.5\" y=\"-234.8\" font-family=\"Times,serif\" font-size=\"14.00\">data 0.0960</text>\n<polyline fill=\"none\" stroke=\"black\" points=\"1970.5,-220.5 1970.5,-256.5 \"/>\n<text text-anchor=\"middle\" x=\"2011.5\" y=\"-234.8\" font-family=\"Times,serif\" font-size=\"14.00\">grad 0.0000</text>\n</g>\n<!-- 134211705875280&#45;&gt;134211704199824* -->\n<g id=\"edge55\" class=\"edge\">\n<title>134211705875280&#45;&gt;134211704199824*</title>\n<path fill=\"none\" stroke=\"black\" d=\"M2052.82,-238.5C2062.57,-238.5 2072.04,-238.5 2080.57,-238.5\"/>\n<polygon fill=\"black\" stroke=\"black\" points=\"2080.83,-242 2090.83,-238.5 2080.83,-235 2080.83,-242\"/>\n</g>\n<!-- 134211704195984 -->\n<g id=\"node45\" class=\"node\">\n<title>134211704195984</title>\n<polygon fill=\"none\" stroke=\"black\" points=\"4187,-250.5 4187,-286.5 4374,-286.5 4374,-250.5 4187,-250.5\"/>\n<text text-anchor=\"middle\" x=\"4197\" y=\"-264.8\" font-family=\"Times,serif\" font-size=\"14.00\"> </text>\n<polyline fill=\"none\" stroke=\"black\" points=\"4207,-250.5 4207,-286.5 \"/>\n<text text-anchor=\"middle\" x=\"4249.5\" y=\"-264.8\" font-family=\"Times,serif\" font-size=\"14.00\">data &#45;1.6988</text>\n<polyline fill=\"none\" stroke=\"black\" points=\"4292,-250.5 4292,-286.5 \"/>\n<text text-anchor=\"middle\" x=\"4333\" y=\"-264.8\" font-family=\"Times,serif\" font-size=\"14.00\">grad 0.0000</text>\n</g>\n<!-- 134211704201104tanh -->\n<g id=\"node97\" class=\"node\">\n<title>134211704201104tanh</title>\n<ellipse fill=\"none\" stroke=\"black\" cx=\"4437\" cy=\"-268.5\" rx=\"27\" ry=\"18\"/>\n<text text-anchor=\"middle\" x=\"4437\" y=\"-264.8\" font-family=\"Times,serif\" font-size=\"14.00\">tanh</text>\n</g>\n<!-- 134211704195984&#45;&gt;134211704201104tanh -->\n<g id=\"edge47\" class=\"edge\">\n<title>134211704195984&#45;&gt;134211704201104tanh</title>\n<path fill=\"none\" stroke=\"black\" d=\"M4374.05,-268.5C4383.06,-268.5 4391.79,-268.5 4399.7,-268.5\"/>\n<polygon fill=\"black\" stroke=\"black\" points=\"4399.95,-272 4409.95,-268.5 4399.95,-265 4399.95,-272\"/>\n</g>\n<!-- 134211704195984+&#45;&gt;134211704195984 -->\n<g id=\"edge17\" class=\"edge\">\n<title>134211704195984+&#45;&gt;134211704195984</title>\n<path fill=\"none\" stroke=\"black\" d=\"M4151.21,-268.5C4158.73,-268.5 4167.43,-268.5 4176.67,-268.5\"/>\n<polygon fill=\"black\" stroke=\"black\" points=\"4176.89,-272 4186.89,-268.5 4176.89,-265 4176.89,-272\"/>\n</g>\n<!-- 134211713356688 -->\n<g id=\"node47\" class=\"node\">\n<title>134211713356688</title>\n<polygon fill=\"none\" stroke=\"black\" points=\"628.5,-340.5 628.5,-376.5 810.5,-376.5 810.5,-340.5 628.5,-340.5\"/>\n<text text-anchor=\"middle\" x=\"638.5\" y=\"-354.8\" font-family=\"Times,serif\" font-size=\"14.00\"> </text>\n<polyline fill=\"none\" stroke=\"black\" points=\"648.5,-340.5 648.5,-376.5 \"/>\n<text text-anchor=\"middle\" x=\"688.5\" y=\"-354.8\" font-family=\"Times,serif\" font-size=\"14.00\">data 0.9290</text>\n<polyline fill=\"none\" stroke=\"black\" points=\"728.5,-340.5 728.5,-376.5 \"/>\n<text text-anchor=\"middle\" x=\"769.5\" y=\"-354.8\" font-family=\"Times,serif\" font-size=\"14.00\">grad 0.0000</text>\n</g>\n<!-- 134211713356688&#45;&gt;134211710219088+ -->\n<g id=\"edge70\" class=\"edge\">\n<title>134211713356688&#45;&gt;134211710219088+</title>\n<path fill=\"none\" stroke=\"black\" d=\"M810.82,-358.5C820.57,-358.5 830.04,-358.5 838.57,-358.5\"/>\n<polygon fill=\"black\" stroke=\"black\" points=\"838.83,-362 848.83,-358.5 838.83,-355 838.83,-362\"/>\n</g>\n<!-- 134211713356688*&#45;&gt;134211713356688 -->\n<g id=\"edge18\" class=\"edge\">\n<title>134211713356688*&#45;&gt;134211713356688</title>\n<path fill=\"none\" stroke=\"black\" d=\"M590.21,-358.5C598.34,-358.5 607.85,-358.5 617.94,-358.5\"/>\n<polygon fill=\"black\" stroke=\"black\" points=\"618.19,-362 628.19,-358.5 618.19,-355 618.19,-362\"/>\n</g>\n<!-- 134211705877392 -->\n<g id=\"node49\" class=\"node\">\n<title>134211705877392</title>\n<polygon fill=\"none\" stroke=\"black\" points=\"1868,-495.5 1868,-531.5 2055,-531.5 2055,-495.5 1868,-495.5\"/>\n<text text-anchor=\"middle\" x=\"1878\" y=\"-509.8\" font-family=\"Times,serif\" font-size=\"14.00\"> </text>\n<polyline fill=\"none\" stroke=\"black\" points=\"1888,-495.5 1888,-531.5 \"/>\n<text text-anchor=\"middle\" x=\"1930.5\" y=\"-509.8\" font-family=\"Times,serif\" font-size=\"14.00\">data &#45;0.0192</text>\n<polyline fill=\"none\" stroke=\"black\" points=\"1973,-495.5 1973,-531.5 \"/>\n<text text-anchor=\"middle\" x=\"2014\" y=\"-509.8\" font-family=\"Times,serif\" font-size=\"14.00\">grad 0.0000</text>\n</g>\n<!-- 134211705877392&#45;&gt;134211704193168* -->\n<g id=\"edge74\" class=\"edge\">\n<title>134211705877392&#45;&gt;134211704193168*</title>\n<path fill=\"none\" stroke=\"black\" d=\"M2028.56,-495.45C2037.51,-492.64 2046.53,-489.63 2055,-486.5 2065.49,-482.62 2076.71,-477.78 2086.68,-473.22\"/>\n<polygon fill=\"black\" stroke=\"black\" points=\"2088.2,-476.37 2095.79,-468.97 2085.25,-470.02 2088.2,-476.37\"/>\n</g>\n<!-- 134211704202192 -->\n<g id=\"node50\" class=\"node\">\n<title>134211704202192</title>\n<polygon fill=\"none\" stroke=\"black\" points=\"2183.5,-165.5 2183.5,-201.5 2365.5,-201.5 2365.5,-165.5 2183.5,-165.5\"/>\n<text text-anchor=\"middle\" x=\"2193.5\" y=\"-179.8\" font-family=\"Times,serif\" font-size=\"14.00\"> </text>\n<polyline fill=\"none\" stroke=\"black\" points=\"2203.5,-165.5 2203.5,-201.5 \"/>\n<text text-anchor=\"middle\" x=\"2243.5\" y=\"-179.8\" font-family=\"Times,serif\" font-size=\"14.00\">data 0.8655</text>\n<polyline fill=\"none\" stroke=\"black\" points=\"2283.5,-165.5 2283.5,-201.5 \"/>\n<text text-anchor=\"middle\" x=\"2324.5\" y=\"-179.8\" font-family=\"Times,serif\" font-size=\"14.00\">grad 0.0000</text>\n</g>\n<!-- 134211704202640+ -->\n<g id=\"node72\" class=\"node\">\n<title>134211704202640+</title>\n<ellipse fill=\"none\" stroke=\"black\" cx=\"2431\" cy=\"-293.5\" rx=\"27\" ry=\"18\"/>\n<text text-anchor=\"middle\" x=\"2431\" y=\"-289.8\" font-family=\"Times,serif\" font-size=\"14.00\">+</text>\n</g>\n<!-- 134211704202192&#45;&gt;134211704202640+ -->\n<g id=\"edge59\" class=\"edge\">\n<title>134211704202192&#45;&gt;134211704202640+</title>\n<path fill=\"none\" stroke=\"black\" d=\"M2353.23,-201.56C2358.44,-204.15 2363.43,-207.11 2368,-210.5 2391.47,-227.89 2386,-242.49 2404,-265.5 2405.4,-267.28 2406.88,-269.09 2408.41,-270.88\"/>\n<polygon fill=\"black\" stroke=\"black\" points=\"2405.94,-273.37 2415.21,-278.51 2411.17,-268.72 2405.94,-273.37\"/>\n</g>\n<!-- 134211704202192+&#45;&gt;134211704202192 -->\n<g id=\"edge19\" class=\"edge\">\n<title>134211704202192+&#45;&gt;134211704202192</title>\n<path fill=\"none\" stroke=\"black\" d=\"M2145.21,-183.5C2153.34,-183.5 2162.85,-183.5 2172.94,-183.5\"/>\n<polygon fill=\"black\" stroke=\"black\" points=\"2173.19,-187 2183.19,-183.5 2173.19,-180 2173.19,-187\"/>\n</g>\n<!-- 134211713358800 -->\n<g id=\"node52\" class=\"node\">\n<title>134211713358800</title>\n<polygon fill=\"none\" stroke=\"black\" points=\"1252,-154.5 1252,-190.5 1434,-190.5 1434,-154.5 1252,-154.5\"/>\n<text text-anchor=\"middle\" x=\"1262\" y=\"-168.8\" font-family=\"Times,serif\" font-size=\"14.00\"> </text>\n<polyline fill=\"none\" stroke=\"black\" points=\"1272,-154.5 1272,-190.5 \"/>\n<text text-anchor=\"middle\" x=\"1312\" y=\"-168.8\" font-family=\"Times,serif\" font-size=\"14.00\">data 0.6597</text>\n<polyline fill=\"none\" stroke=\"black\" points=\"1352,-154.5 1352,-190.5 \"/>\n<text text-anchor=\"middle\" x=\"1393\" y=\"-168.8\" font-family=\"Times,serif\" font-size=\"14.00\">grad 0.0000</text>\n</g>\n<!-- 134211712808592tanh -->\n<g id=\"node81\" class=\"node\">\n<title>134211712808592tanh</title>\n<ellipse fill=\"none\" stroke=\"black\" cx=\"1497\" cy=\"-172.5\" rx=\"27\" ry=\"18\"/>\n<text text-anchor=\"middle\" x=\"1497\" y=\"-168.8\" font-family=\"Times,serif\" font-size=\"14.00\">tanh</text>\n</g>\n<!-- 134211713358800&#45;&gt;134211712808592tanh -->\n<g id=\"edge94\" class=\"edge\">\n<title>134211713358800&#45;&gt;134211712808592tanh</title>\n<path fill=\"none\" stroke=\"black\" d=\"M1434.18,-172.5C1443.14,-172.5 1451.83,-172.5 1459.73,-172.5\"/>\n<polygon fill=\"black\" stroke=\"black\" points=\"1459.96,-176 1469.96,-172.5 1459.96,-169 1459.96,-176\"/>\n</g>\n<!-- 134211713358800+&#45;&gt;134211713358800 -->\n<g id=\"edge20\" class=\"edge\">\n<title>134211713358800+&#45;&gt;134211713358800</title>\n<path fill=\"none\" stroke=\"black\" d=\"M1216.13,-172.5C1223.67,-172.5 1232.39,-172.5 1241.64,-172.5\"/>\n<polygon fill=\"black\" stroke=\"black\" points=\"1241.87,-176 1251.87,-172.5 1241.87,-169 1241.87,-176\"/>\n</g>\n<!-- 134211712807888 -->\n<g id=\"node54\" class=\"node\">\n<title>134211712807888</title>\n<polygon fill=\"none\" stroke=\"black\" points=\"2.5,-86.5 2.5,-122.5 184.5,-122.5 184.5,-86.5 2.5,-86.5\"/>\n<text text-anchor=\"middle\" x=\"12.5\" y=\"-100.8\" font-family=\"Times,serif\" font-size=\"14.00\"> </text>\n<polyline fill=\"none\" stroke=\"black\" points=\"22.5,-86.5 22.5,-122.5 \"/>\n<text text-anchor=\"middle\" x=\"62.5\" y=\"-100.8\" font-family=\"Times,serif\" font-size=\"14.00\">data 1.0000</text>\n<polyline fill=\"none\" stroke=\"black\" points=\"102.5,-86.5 102.5,-122.5 \"/>\n<text text-anchor=\"middle\" x=\"143.5\" y=\"-100.8\" font-family=\"Times,serif\" font-size=\"14.00\">grad 0.0000</text>\n</g>\n<!-- 134211712807888&#45;&gt;134211712800976* -->\n<g id=\"edge54\" class=\"edge\">\n<title>134211712807888&#45;&gt;134211712800976*</title>\n<path fill=\"none\" stroke=\"black\" d=\"M184.82,-120.28C195.07,-122.08 205.01,-123.81 213.88,-125.36\"/>\n<polygon fill=\"black\" stroke=\"black\" points=\"213.3,-128.81 223.75,-127.09 214.5,-121.92 213.3,-128.81\"/>\n</g>\n<!-- 134211705877456 -->\n<g id=\"node55\" class=\"node\">\n<title>134211705877456</title>\n<polygon fill=\"none\" stroke=\"black\" points=\"1870.5,-55.5 1870.5,-91.5 2052.5,-91.5 2052.5,-55.5 1870.5,-55.5\"/>\n<text text-anchor=\"middle\" x=\"1880.5\" y=\"-69.8\" font-family=\"Times,serif\" font-size=\"14.00\"> </text>\n<polyline fill=\"none\" stroke=\"black\" points=\"1890.5,-55.5 1890.5,-91.5 \"/>\n<text text-anchor=\"middle\" x=\"1930.5\" y=\"-69.8\" font-family=\"Times,serif\" font-size=\"14.00\">data 0.3772</text>\n<polyline fill=\"none\" stroke=\"black\" points=\"1970.5,-55.5 1970.5,-91.5 \"/>\n<text text-anchor=\"middle\" x=\"2011.5\" y=\"-69.8\" font-family=\"Times,serif\" font-size=\"14.00\">grad 0.0000</text>\n</g>\n<!-- 134211705877456&#45;&gt;134211704201808+ -->\n<g id=\"edge90\" class=\"edge\">\n<title>134211705877456&#45;&gt;134211704201808+</title>\n<path fill=\"none\" stroke=\"black\" d=\"M2052.82,-73.5C2062.57,-73.5 2072.04,-73.5 2080.57,-73.5\"/>\n<polygon fill=\"black\" stroke=\"black\" points=\"2080.83,-77 2090.83,-73.5 2080.83,-70 2080.83,-77\"/>\n</g>\n<!-- 134211713367056 -->\n<g id=\"node56\" class=\"node\">\n<title>134211713367056</title>\n<polygon fill=\"none\" stroke=\"black\" points=\"315.5,-312.5 315.5,-348.5 497.5,-348.5 497.5,-312.5 315.5,-312.5\"/>\n<text text-anchor=\"middle\" x=\"325.5\" y=\"-326.8\" font-family=\"Times,serif\" font-size=\"14.00\"> </text>\n<polyline fill=\"none\" stroke=\"black\" points=\"335.5,-312.5 335.5,-348.5 \"/>\n<text text-anchor=\"middle\" x=\"375.5\" y=\"-326.8\" font-family=\"Times,serif\" font-size=\"14.00\">data 1.0000</text>\n<polyline fill=\"none\" stroke=\"black\" points=\"415.5,-312.5 415.5,-348.5 \"/>\n<text text-anchor=\"middle\" x=\"456.5\" y=\"-326.8\" font-family=\"Times,serif\" font-size=\"14.00\">grad 0.0000</text>\n</g>\n<!-- 134211713367056&#45;&gt;134211713356688* -->\n<g id=\"edge41\" class=\"edge\">\n<title>134211713367056&#45;&gt;134211713356688*</title>\n<path fill=\"none\" stroke=\"black\" d=\"M497.82,-346.87C508.07,-348.73 518.01,-350.53 526.88,-352.13\"/>\n<polygon fill=\"black\" stroke=\"black\" points=\"526.29,-355.58 536.75,-353.92 527.54,-348.7 526.29,-355.58\"/>\n</g>\n<!-- 134211704206352 -->\n<g id=\"node57\" class=\"node\">\n<title>134211704206352</title>\n<polygon fill=\"none\" stroke=\"black\" points=\"3115,-385.5 3115,-421.5 3302,-421.5 3302,-385.5 3115,-385.5\"/>\n<text text-anchor=\"middle\" x=\"3125\" y=\"-399.8\" font-family=\"Times,serif\" font-size=\"14.00\"> </text>\n<polyline fill=\"none\" stroke=\"black\" points=\"3135,-385.5 3135,-421.5 \"/>\n<text text-anchor=\"middle\" x=\"3177.5\" y=\"-399.8\" font-family=\"Times,serif\" font-size=\"14.00\">data &#45;0.1746</text>\n<polyline fill=\"none\" stroke=\"black\" points=\"3220,-385.5 3220,-421.5 \"/>\n<text text-anchor=\"middle\" x=\"3261\" y=\"-399.8\" font-family=\"Times,serif\" font-size=\"14.00\">grad 0.0000</text>\n</g>\n<!-- 134211704206352&#45;&gt;134211704197200+ -->\n<g id=\"edge80\" class=\"edge\">\n<title>134211704206352&#45;&gt;134211704197200+</title>\n<path fill=\"none\" stroke=\"black\" d=\"M3281.86,-385.49C3320.32,-375.92 3365.79,-364.6 3396.23,-357.03\"/>\n<polygon fill=\"black\" stroke=\"black\" points=\"3397.08,-360.42 3405.94,-354.61 3395.39,-353.63 3397.08,-360.42\"/>\n</g>\n<!-- 134211704206352*&#45;&gt;134211704206352 -->\n<g id=\"edge21\" class=\"edge\">\n<title>134211704206352*&#45;&gt;134211704206352</title>\n<path fill=\"none\" stroke=\"black\" d=\"M3079.21,-403.5C3086.73,-403.5 3095.43,-403.5 3104.67,-403.5\"/>\n<polygon fill=\"black\" stroke=\"black\" points=\"3104.89,-407 3114.89,-403.5 3104.89,-400 3104.89,-407\"/>\n</g>\n<!-- 134211704208400 -->\n<g id=\"node59\" class=\"node\">\n<title>134211704208400</title>\n<polygon fill=\"none\" stroke=\"black\" points=\"2494,-385.5 2494,-421.5 2676,-421.5 2676,-385.5 2494,-385.5\"/>\n<text text-anchor=\"middle\" x=\"2504\" y=\"-399.8\" font-family=\"Times,serif\" font-size=\"14.00\"> </text>\n<polyline fill=\"none\" stroke=\"black\" points=\"2514,-385.5 2514,-421.5 \"/>\n<text text-anchor=\"middle\" x=\"2554\" y=\"-399.8\" font-family=\"Times,serif\" font-size=\"14.00\">data 1.2002</text>\n<polyline fill=\"none\" stroke=\"black\" points=\"2594,-385.5 2594,-421.5 \"/>\n<text text-anchor=\"middle\" x=\"2635\" y=\"-399.8\" font-family=\"Times,serif\" font-size=\"14.00\">grad 0.0000</text>\n</g>\n<!-- 134211704208400&#45;&gt;134211704193616tanh -->\n<g id=\"edge46\" class=\"edge\">\n<title>134211704208400&#45;&gt;134211704193616tanh</title>\n<path fill=\"none\" stroke=\"black\" d=\"M2676.18,-403.5C2685.14,-403.5 2693.83,-403.5 2701.73,-403.5\"/>\n<polygon fill=\"black\" stroke=\"black\" points=\"2701.96,-407 2711.96,-403.5 2701.96,-400 2701.96,-407\"/>\n</g>\n<!-- 134211704208400+&#45;&gt;134211704208400 -->\n<g id=\"edge22\" class=\"edge\">\n<title>134211704208400+&#45;&gt;134211704208400</title>\n<path fill=\"none\" stroke=\"black\" d=\"M2458.13,-403.5C2465.67,-403.5 2474.39,-403.5 2483.64,-403.5\"/>\n<polygon fill=\"black\" stroke=\"black\" points=\"2483.87,-407 2493.87,-403.5 2483.87,-400 2483.87,-407\"/>\n</g>\n<!-- 134211704194192 -->\n<g id=\"node61\" class=\"node\">\n<title>134211704194192</title>\n<polygon fill=\"none\" stroke=\"black\" points=\"3561,-275.5 3561,-311.5 3748,-311.5 3748,-275.5 3561,-275.5\"/>\n<text text-anchor=\"middle\" x=\"3571\" y=\"-289.8\" font-family=\"Times,serif\" font-size=\"14.00\"> </text>\n<polyline fill=\"none\" stroke=\"black\" points=\"3581,-275.5 3581,-311.5 \"/>\n<text text-anchor=\"middle\" x=\"3623.5\" y=\"-289.8\" font-family=\"Times,serif\" font-size=\"14.00\">data &#45;0.8593</text>\n<polyline fill=\"none\" stroke=\"black\" points=\"3666,-275.5 3666,-311.5 \"/>\n<text text-anchor=\"middle\" x=\"3707\" y=\"-289.8\" font-family=\"Times,serif\" font-size=\"14.00\">grad 0.0000</text>\n</g>\n<!-- 134211704194192&#45;&gt;134211704193808+ -->\n<g id=\"edge65\" class=\"edge\">\n<title>134211704194192&#45;&gt;134211704193808+</title>\n<path fill=\"none\" stroke=\"black\" d=\"M3748.05,-293.5C3757.06,-293.5 3765.79,-293.5 3773.7,-293.5\"/>\n<polygon fill=\"black\" stroke=\"black\" points=\"3773.95,-297 3783.95,-293.5 3773.95,-290 3773.95,-297\"/>\n</g>\n<!-- 134211704194192*&#45;&gt;134211704194192 -->\n<g id=\"edge23\" class=\"edge\">\n<title>134211704194192*&#45;&gt;134211704194192</title>\n<path fill=\"none\" stroke=\"black\" d=\"M3079.19,-293.5C3159.98,-293.5 3408.46,-293.5 3550.71,-293.5\"/>\n<polygon fill=\"black\" stroke=\"black\" points=\"3550.76,-297 3560.76,-293.5 3550.76,-290 3550.76,-297\"/>\n</g>\n<!-- 134211704208528 -->\n<g id=\"node63\" class=\"node\">\n<title>134211704208528</title>\n<polygon fill=\"none\" stroke=\"black\" points=\"1870.5,-0.5 1870.5,-36.5 2052.5,-36.5 2052.5,-0.5 1870.5,-0.5\"/>\n<text text-anchor=\"middle\" x=\"1880.5\" y=\"-14.8\" font-family=\"Times,serif\" font-size=\"14.00\"> </text>\n<polyline fill=\"none\" stroke=\"black\" points=\"1890.5,-0.5 1890.5,-36.5 \"/>\n<text text-anchor=\"middle\" x=\"1930.5\" y=\"-14.8\" font-family=\"Times,serif\" font-size=\"14.00\">data 0.3712</text>\n<polyline fill=\"none\" stroke=\"black\" points=\"1970.5,-0.5 1970.5,-36.5 \"/>\n<text text-anchor=\"middle\" x=\"2011.5\" y=\"-14.8\" font-family=\"Times,serif\" font-size=\"14.00\">grad 0.0000</text>\n</g>\n<!-- 134211704208528&#45;&gt;134211704201808+ -->\n<g id=\"edge71\" class=\"edge\">\n<title>134211704208528&#45;&gt;134211704201808+</title>\n<path fill=\"none\" stroke=\"black\" d=\"M2028.56,-36.55C2037.51,-39.36 2046.53,-42.37 2055,-45.5 2065.49,-49.38 2076.71,-54.22 2086.68,-58.78\"/>\n<polygon fill=\"black\" stroke=\"black\" points=\"2085.25,-61.98 2095.79,-63.03 2088.2,-55.63 2085.25,-61.98\"/>\n</g>\n<!-- 134211704208528* -->\n<g id=\"node64\" class=\"node\">\n<title>134211704208528*</title>\n<ellipse fill=\"none\" stroke=\"black\" cx=\"1805\" cy=\"-45.5\" rx=\"27\" ry=\"18\"/>\n<text text-anchor=\"middle\" x=\"1805\" y=\"-41.8\" font-family=\"Times,serif\" font-size=\"14.00\">*</text>\n</g>\n<!-- 134211704208528*&#45;&gt;134211704208528 -->\n<g id=\"edge24\" class=\"edge\">\n<title>134211704208528*&#45;&gt;134211704208528</title>\n<path fill=\"none\" stroke=\"black\" d=\"M1831.51,-41.04C1839.83,-39.59 1849.62,-37.88 1860.03,-36.06\"/>\n<polygon fill=\"black\" stroke=\"black\" points=\"1860.93,-39.45 1870.18,-34.28 1859.73,-32.56 1860.93,-39.45\"/>\n</g>\n<!-- 134211705878480 -->\n<g id=\"node65\" class=\"node\">\n<title>134211705878480</title>\n<polygon fill=\"none\" stroke=\"black\" points=\"1870.5,-165.5 1870.5,-201.5 2052.5,-201.5 2052.5,-165.5 1870.5,-165.5\"/>\n<text text-anchor=\"middle\" x=\"1880.5\" y=\"-179.8\" font-family=\"Times,serif\" font-size=\"14.00\"> </text>\n<polyline fill=\"none\" stroke=\"black\" points=\"1890.5,-165.5 1890.5,-201.5 \"/>\n<text text-anchor=\"middle\" x=\"1930.5\" y=\"-179.8\" font-family=\"Times,serif\" font-size=\"14.00\">data 0.4247</text>\n<polyline fill=\"none\" stroke=\"black\" points=\"1970.5,-165.5 1970.5,-201.5 \"/>\n<text text-anchor=\"middle\" x=\"2011.5\" y=\"-179.8\" font-family=\"Times,serif\" font-size=\"14.00\">grad 0.0000</text>\n</g>\n<!-- 134211705878480&#45;&gt;134211704202192+ -->\n<g id=\"edge97\" class=\"edge\">\n<title>134211705878480&#45;&gt;134211704202192+</title>\n<path fill=\"none\" stroke=\"black\" d=\"M2052.82,-183.5C2062.57,-183.5 2072.04,-183.5 2080.57,-183.5\"/>\n<polygon fill=\"black\" stroke=\"black\" points=\"2080.83,-187 2090.83,-183.5 2080.83,-180 2080.83,-187\"/>\n</g>\n<!-- 134211705879824 -->\n<g id=\"node66\" class=\"node\">\n<title>134211705879824</title>\n<polygon fill=\"none\" stroke=\"black\" points=\"1560,-385.5 1560,-421.5 1742,-421.5 1742,-385.5 1560,-385.5\"/>\n<text text-anchor=\"middle\" x=\"1570\" y=\"-399.8\" font-family=\"Times,serif\" font-size=\"14.00\"> </text>\n<polyline fill=\"none\" stroke=\"black\" points=\"1580,-385.5 1580,-421.5 \"/>\n<text text-anchor=\"middle\" x=\"1620\" y=\"-399.8\" font-family=\"Times,serif\" font-size=\"14.00\">data 0.6534</text>\n<polyline fill=\"none\" stroke=\"black\" points=\"1660,-385.5 1660,-421.5 \"/>\n<text text-anchor=\"middle\" x=\"1701\" y=\"-399.8\" font-family=\"Times,serif\" font-size=\"14.00\">grad 0.0000</text>\n</g>\n<!-- 134211704198864* -->\n<g id=\"node86\" class=\"node\">\n<title>134211704198864*</title>\n<ellipse fill=\"none\" stroke=\"black\" cx=\"1805\" cy=\"-403.5\" rx=\"27\" ry=\"18\"/>\n<text text-anchor=\"middle\" x=\"1805\" y=\"-399.8\" font-family=\"Times,serif\" font-size=\"14.00\">*</text>\n</g>\n<!-- 134211705879824&#45;&gt;134211704198864* -->\n<g id=\"edge82\" class=\"edge\">\n<title>134211705879824&#45;&gt;134211704198864*</title>\n<path fill=\"none\" stroke=\"black\" d=\"M1742.18,-403.5C1751.14,-403.5 1759.83,-403.5 1767.73,-403.5\"/>\n<polygon fill=\"black\" stroke=\"black\" points=\"1767.96,-407 1777.96,-403.5 1767.96,-400 1767.96,-407\"/>\n</g>\n<!-- 134211704198480 -->\n<g id=\"node67\" class=\"node\">\n<title>134211704198480</title>\n<polygon fill=\"none\" stroke=\"black\" points=\"2183.5,-275.5 2183.5,-311.5 2365.5,-311.5 2365.5,-275.5 2183.5,-275.5\"/>\n<text text-anchor=\"middle\" x=\"2193.5\" y=\"-289.8\" font-family=\"Times,serif\" font-size=\"14.00\"> </text>\n<polyline fill=\"none\" stroke=\"black\" points=\"2203.5,-275.5 2203.5,-311.5 \"/>\n<text text-anchor=\"middle\" x=\"2243.5\" y=\"-289.8\" font-family=\"Times,serif\" font-size=\"14.00\">data 0.6434</text>\n<polyline fill=\"none\" stroke=\"black\" points=\"2283.5,-275.5 2283.5,-311.5 \"/>\n<text text-anchor=\"middle\" x=\"2324.5\" y=\"-289.8\" font-family=\"Times,serif\" font-size=\"14.00\">grad 0.0000</text>\n</g>\n<!-- 134211704198480&#45;&gt;134211704202640+ -->\n<g id=\"edge91\" class=\"edge\">\n<title>134211704198480&#45;&gt;134211704202640+</title>\n<path fill=\"none\" stroke=\"black\" d=\"M2365.82,-293.5C2375.57,-293.5 2385.04,-293.5 2393.57,-293.5\"/>\n<polygon fill=\"black\" stroke=\"black\" points=\"2393.83,-297 2403.83,-293.5 2393.83,-290 2393.83,-297\"/>\n</g>\n<!-- 134211704198480* -->\n<g id=\"node68\" class=\"node\">\n<title>134211704198480*</title>\n<ellipse fill=\"none\" stroke=\"black\" cx=\"2118\" cy=\"-293.5\" rx=\"27\" ry=\"18\"/>\n<text text-anchor=\"middle\" x=\"2118\" y=\"-289.8\" font-family=\"Times,serif\" font-size=\"14.00\">*</text>\n</g>\n<!-- 134211704198480*&#45;&gt;134211704198480 -->\n<g id=\"edge25\" class=\"edge\">\n<title>134211704198480*&#45;&gt;134211704198480</title>\n<path fill=\"none\" stroke=\"black\" d=\"M2145.21,-293.5C2153.34,-293.5 2162.85,-293.5 2172.94,-293.5\"/>\n<polygon fill=\"black\" stroke=\"black\" points=\"2173.19,-297 2183.19,-293.5 2173.19,-290 2173.19,-297\"/>\n</g>\n<!-- 134211717639504 -->\n<g id=\"node69\" class=\"node\">\n<title>134211717639504</title>\n<polygon fill=\"none\" stroke=\"black\" points=\"626,-113.5 626,-149.5 813,-149.5 813,-113.5 626,-113.5\"/>\n<text text-anchor=\"middle\" x=\"636\" y=\"-127.8\" font-family=\"Times,serif\" font-size=\"14.00\"> </text>\n<polyline fill=\"none\" stroke=\"black\" points=\"646,-113.5 646,-149.5 \"/>\n<text text-anchor=\"middle\" x=\"688.5\" y=\"-127.8\" font-family=\"Times,serif\" font-size=\"14.00\">data &#45;0.2322</text>\n<polyline fill=\"none\" stroke=\"black\" points=\"731,-113.5 731,-149.5 \"/>\n<text text-anchor=\"middle\" x=\"772\" y=\"-127.8\" font-family=\"Times,serif\" font-size=\"14.00\">grad 0.0000</text>\n</g>\n<!-- 134215001097872+ -->\n<g id=\"node83\" class=\"node\">\n<title>134215001097872+</title>\n<ellipse fill=\"none\" stroke=\"black\" cx=\"876\" cy=\"-131.5\" rx=\"27\" ry=\"18\"/>\n<text text-anchor=\"middle\" x=\"876\" y=\"-127.8\" font-family=\"Times,serif\" font-size=\"14.00\">+</text>\n</g>\n<!-- 134211717639504&#45;&gt;134215001097872+ -->\n<g id=\"edge85\" class=\"edge\">\n<title>134211717639504&#45;&gt;134215001097872+</title>\n<path fill=\"none\" stroke=\"black\" d=\"M813.05,-131.5C822.06,-131.5 830.79,-131.5 838.7,-131.5\"/>\n<polygon fill=\"black\" stroke=\"black\" points=\"838.95,-135 848.95,-131.5 838.95,-128 838.95,-135\"/>\n</g>\n<!-- 134211717639504+&#45;&gt;134211717639504 -->\n<g id=\"edge26\" class=\"edge\">\n<title>134211717639504+&#45;&gt;134211717639504</title>\n<path fill=\"none\" stroke=\"black\" d=\"M590.21,-131.5C597.73,-131.5 606.43,-131.5 615.67,-131.5\"/>\n<polygon fill=\"black\" stroke=\"black\" points=\"615.89,-135 625.89,-131.5 615.89,-128 615.89,-135\"/>\n</g>\n<!-- 134211704202640 -->\n<g id=\"node71\" class=\"node\">\n<title>134211704202640</title>\n<polygon fill=\"none\" stroke=\"black\" points=\"2494,-275.5 2494,-311.5 2676,-311.5 2676,-275.5 2494,-275.5\"/>\n<text text-anchor=\"middle\" x=\"2504\" y=\"-289.8\" font-family=\"Times,serif\" font-size=\"14.00\"> </text>\n<polyline fill=\"none\" stroke=\"black\" points=\"2514,-275.5 2514,-311.5 \"/>\n<text text-anchor=\"middle\" x=\"2554\" y=\"-289.8\" font-family=\"Times,serif\" font-size=\"14.00\">data 1.5089</text>\n<polyline fill=\"none\" stroke=\"black\" points=\"2594,-275.5 2594,-311.5 \"/>\n<text text-anchor=\"middle\" x=\"2635\" y=\"-289.8\" font-family=\"Times,serif\" font-size=\"14.00\">grad 0.0000</text>\n</g>\n<!-- 134211704207184tanh -->\n<g id=\"node92\" class=\"node\">\n<title>134211704207184tanh</title>\n<ellipse fill=\"none\" stroke=\"black\" cx=\"2739\" cy=\"-293.5\" rx=\"27\" ry=\"18\"/>\n<text text-anchor=\"middle\" x=\"2739\" y=\"-289.8\" font-family=\"Times,serif\" font-size=\"14.00\">tanh</text>\n</g>\n<!-- 134211704202640&#45;&gt;134211704207184tanh -->\n<g id=\"edge78\" class=\"edge\">\n<title>134211704202640&#45;&gt;134211704207184tanh</title>\n<path fill=\"none\" stroke=\"black\" d=\"M2676.18,-293.5C2685.14,-293.5 2693.83,-293.5 2701.73,-293.5\"/>\n<polygon fill=\"black\" stroke=\"black\" points=\"2701.96,-297 2711.96,-293.5 2701.96,-290 2701.96,-297\"/>\n</g>\n<!-- 134211704202640+&#45;&gt;134211704202640 -->\n<g id=\"edge27\" class=\"edge\">\n<title>134211704202640+&#45;&gt;134211704202640</title>\n<path fill=\"none\" stroke=\"black\" d=\"M2458.13,-293.5C2465.67,-293.5 2474.39,-293.5 2483.64,-293.5\"/>\n<polygon fill=\"black\" stroke=\"black\" points=\"2483.87,-297 2493.87,-293.5 2483.87,-290 2483.87,-297\"/>\n</g>\n<!-- 134211705877904 -->\n<g id=\"node73\" class=\"node\">\n<title>134211705877904</title>\n<polygon fill=\"none\" stroke=\"black\" points=\"2802,-165.5 2802,-201.5 2989,-201.5 2989,-165.5 2802,-165.5\"/>\n<text text-anchor=\"middle\" x=\"2812\" y=\"-179.8\" font-family=\"Times,serif\" font-size=\"14.00\"> </text>\n<polyline fill=\"none\" stroke=\"black\" points=\"2822,-165.5 2822,-201.5 \"/>\n<text text-anchor=\"middle\" x=\"2864.5\" y=\"-179.8\" font-family=\"Times,serif\" font-size=\"14.00\">data &#45;0.8906</text>\n<polyline fill=\"none\" stroke=\"black\" points=\"2907,-165.5 2907,-201.5 \"/>\n<text text-anchor=\"middle\" x=\"2948\" y=\"-179.8\" font-family=\"Times,serif\" font-size=\"14.00\">grad 0.0000</text>\n</g>\n<!-- 134211705877904&#45;&gt;134211704202960* -->\n<g id=\"edge57\" class=\"edge\">\n<title>134211705877904&#45;&gt;134211704202960*</title>\n<path fill=\"none\" stroke=\"black\" d=\"M2962.56,-201.55C2971.51,-204.36 2980.53,-207.37 2989,-210.5 2999.49,-214.38 3010.71,-219.22 3020.68,-223.78\"/>\n<polygon fill=\"black\" stroke=\"black\" points=\"3019.25,-226.98 3029.79,-228.03 3022.2,-220.63 3019.25,-226.98\"/>\n</g>\n<!-- 134211705875920 -->\n<g id=\"node74\" class=\"node\">\n<title>134211705875920</title>\n<polygon fill=\"none\" stroke=\"black\" points=\"1870.5,-275.5 1870.5,-311.5 2052.5,-311.5 2052.5,-275.5 1870.5,-275.5\"/>\n<text text-anchor=\"middle\" x=\"1880.5\" y=\"-289.8\" font-family=\"Times,serif\" font-size=\"14.00\"> </text>\n<polyline fill=\"none\" stroke=\"black\" points=\"1890.5,-275.5 1890.5,-311.5 \"/>\n<text text-anchor=\"middle\" x=\"1930.5\" y=\"-289.8\" font-family=\"Times,serif\" font-size=\"14.00\">data 0.7207</text>\n<polyline fill=\"none\" stroke=\"black\" points=\"1970.5,-275.5 1970.5,-311.5 \"/>\n<text text-anchor=\"middle\" x=\"2011.5\" y=\"-289.8\" font-family=\"Times,serif\" font-size=\"14.00\">grad 0.0000</text>\n</g>\n<!-- 134211705875920&#45;&gt;134211704198480* -->\n<g id=\"edge68\" class=\"edge\">\n<title>134211705875920&#45;&gt;134211704198480*</title>\n<path fill=\"none\" stroke=\"black\" d=\"M2052.82,-293.5C2062.57,-293.5 2072.04,-293.5 2080.57,-293.5\"/>\n<polygon fill=\"black\" stroke=\"black\" points=\"2080.83,-297 2090.83,-293.5 2080.83,-290 2080.83,-297\"/>\n</g>\n<!-- 134211705877968 -->\n<g id=\"node75\" class=\"node\">\n<title>134211705877968</title>\n<polygon fill=\"none\" stroke=\"black\" points=\"313,-58.5 313,-94.5 500,-94.5 500,-58.5 313,-58.5\"/>\n<text text-anchor=\"middle\" x=\"323\" y=\"-72.8\" font-family=\"Times,serif\" font-size=\"14.00\"> </text>\n<polyline fill=\"none\" stroke=\"black\" points=\"333,-58.5 333,-94.5 \"/>\n<text text-anchor=\"middle\" x=\"375.5\" y=\"-72.8\" font-family=\"Times,serif\" font-size=\"14.00\">data &#45;0.7678</text>\n<polyline fill=\"none\" stroke=\"black\" points=\"418,-58.5 418,-94.5 \"/>\n<text text-anchor=\"middle\" x=\"459\" y=\"-72.8\" font-family=\"Times,serif\" font-size=\"14.00\">grad 0.0000</text>\n</g>\n<!-- 134215001098064* -->\n<g id=\"node94\" class=\"node\">\n<title>134215001098064*</title>\n<ellipse fill=\"none\" stroke=\"black\" cx=\"563\" cy=\"-76.5\" rx=\"27\" ry=\"18\"/>\n<text text-anchor=\"middle\" x=\"563\" y=\"-72.8\" font-family=\"Times,serif\" font-size=\"14.00\">*</text>\n</g>\n<!-- 134211705877968&#45;&gt;134215001098064* -->\n<g id=\"edge43\" class=\"edge\">\n<title>134211705877968&#45;&gt;134215001098064*</title>\n<path fill=\"none\" stroke=\"black\" d=\"M500.05,-76.5C509.06,-76.5 517.79,-76.5 525.7,-76.5\"/>\n<polygon fill=\"black\" stroke=\"black\" points=\"525.95,-80 535.95,-76.5 525.95,-73 525.95,-80\"/>\n</g>\n<!-- 134211705880080 -->\n<g id=\"node76\" class=\"node\">\n<title>134211705880080</title>\n<polygon fill=\"none\" stroke=\"black\" points=\"628.5,-285.5 628.5,-321.5 810.5,-321.5 810.5,-285.5 628.5,-285.5\"/>\n<text text-anchor=\"middle\" x=\"638.5\" y=\"-299.8\" font-family=\"Times,serif\" font-size=\"14.00\"> </text>\n<polyline fill=\"none\" stroke=\"black\" points=\"648.5,-285.5 648.5,-321.5 \"/>\n<text text-anchor=\"middle\" x=\"688.5\" y=\"-299.8\" font-family=\"Times,serif\" font-size=\"14.00\">data 0.3664</text>\n<polyline fill=\"none\" stroke=\"black\" points=\"728.5,-285.5 728.5,-321.5 \"/>\n<text text-anchor=\"middle\" x=\"769.5\" y=\"-299.8\" font-family=\"Times,serif\" font-size=\"14.00\">grad 0.0000</text>\n</g>\n<!-- 134211705880080&#45;&gt;134211710219088+ -->\n<g id=\"edge40\" class=\"edge\">\n<title>134211705880080&#45;&gt;134211710219088+</title>\n<path fill=\"none\" stroke=\"black\" d=\"M786.56,-321.55C795.51,-324.36 804.53,-327.37 813,-330.5 823.49,-334.38 834.71,-339.22 844.68,-343.78\"/>\n<polygon fill=\"black\" stroke=\"black\" points=\"843.25,-346.98 853.79,-348.03 846.2,-340.63 843.25,-346.98\"/>\n</g>\n<!-- 134215001110032 -->\n<g id=\"node77\" class=\"node\">\n<title>134215001110032</title>\n<polygon fill=\"none\" stroke=\"black\" points=\"313,-3.5 313,-39.5 500,-39.5 500,-3.5 313,-3.5\"/>\n<text text-anchor=\"middle\" x=\"323\" y=\"-17.8\" font-family=\"Times,serif\" font-size=\"14.00\"> </text>\n<polyline fill=\"none\" stroke=\"black\" points=\"333,-3.5 333,-39.5 \"/>\n<text text-anchor=\"middle\" x=\"375.5\" y=\"-17.8\" font-family=\"Times,serif\" font-size=\"14.00\">data &#45;2.0000</text>\n<polyline fill=\"none\" stroke=\"black\" points=\"418,-3.5 418,-39.5 \"/>\n<text text-anchor=\"middle\" x=\"459\" y=\"-17.8\" font-family=\"Times,serif\" font-size=\"14.00\">grad 0.0000</text>\n</g>\n<!-- 134215001110032&#45;&gt;134215001098064* -->\n<g id=\"edge61\" class=\"edge\">\n<title>134215001110032&#45;&gt;134215001098064*</title>\n<path fill=\"none\" stroke=\"black\" d=\"M473.56,-39.55C482.51,-42.36 491.53,-45.37 500,-48.5 510.49,-52.38 521.71,-57.22 531.68,-61.78\"/>\n<polygon fill=\"black\" stroke=\"black\" points=\"530.25,-64.98 540.79,-66.03 533.2,-58.63 530.25,-64.98\"/>\n</g>\n<!-- 134211713363472 -->\n<g id=\"node78\" class=\"node\">\n<title>134211713363472</title>\n<polygon fill=\"none\" stroke=\"black\" points=\"628.5,-223.5 628.5,-259.5 810.5,-259.5 810.5,-223.5 628.5,-223.5\"/>\n<text text-anchor=\"middle\" x=\"638.5\" y=\"-237.8\" font-family=\"Times,serif\" font-size=\"14.00\"> </text>\n<polyline fill=\"none\" stroke=\"black\" points=\"648.5,-223.5 648.5,-259.5 \"/>\n<text text-anchor=\"middle\" x=\"688.5\" y=\"-237.8\" font-family=\"Times,serif\" font-size=\"14.00\">data 3.0000</text>\n<polyline fill=\"none\" stroke=\"black\" points=\"728.5,-223.5 728.5,-259.5 \"/>\n<text text-anchor=\"middle\" x=\"769.5\" y=\"-237.8\" font-family=\"Times,serif\" font-size=\"14.00\">grad 0.0000</text>\n</g>\n<!-- 134211713363472&#45;&gt;134211713356048* -->\n<g id=\"edge44\" class=\"edge\">\n<title>134211713363472&#45;&gt;134211713356048*</title>\n<path fill=\"none\" stroke=\"black\" d=\"M784.02,-223.35C793.79,-220.24 803.71,-216.92 813,-213.5 823.25,-209.73 834.23,-205.14 844.07,-200.82\"/>\n<polygon fill=\"black\" stroke=\"black\" points=\"845.74,-203.9 853.45,-196.63 842.89,-197.51 845.74,-203.9\"/>\n</g>\n<!-- 134211705876048 -->\n<g id=\"node79\" class=\"node\">\n<title>134211705876048</title>\n<polygon fill=\"none\" stroke=\"black\" points=\"1560,-99.5 1560,-135.5 1742,-135.5 1742,-99.5 1560,-99.5\"/>\n<text text-anchor=\"middle\" x=\"1570\" y=\"-113.8\" font-family=\"Times,serif\" font-size=\"14.00\"> </text>\n<polyline fill=\"none\" stroke=\"black\" points=\"1580,-99.5 1580,-135.5 \"/>\n<text text-anchor=\"middle\" x=\"1620\" y=\"-113.8\" font-family=\"Times,serif\" font-size=\"14.00\">data 0.7625</text>\n<polyline fill=\"none\" stroke=\"black\" points=\"1660,-99.5 1660,-135.5 \"/>\n<text text-anchor=\"middle\" x=\"1701\" y=\"-113.8\" font-family=\"Times,serif\" font-size=\"14.00\">grad 0.0000</text>\n</g>\n<!-- 134211705876048&#45;&gt;134211704201552* -->\n<g id=\"edge100\" class=\"edge\">\n<title>134211705876048&#45;&gt;134211704201552*</title>\n<path fill=\"none\" stroke=\"black\" d=\"M1742.18,-124.03C1751.14,-124.67 1759.83,-125.3 1767.73,-125.88\"/>\n<polygon fill=\"black\" stroke=\"black\" points=\"1767.73,-129.38 1777.96,-126.62 1768.24,-122.4 1767.73,-129.38\"/>\n</g>\n<!-- 134211712808592 -->\n<g id=\"node80\" class=\"node\">\n<title>134211712808592</title>\n<polygon fill=\"none\" stroke=\"black\" points=\"1560,-154.5 1560,-190.5 1742,-190.5 1742,-154.5 1560,-154.5\"/>\n<text text-anchor=\"middle\" x=\"1570\" y=\"-168.8\" font-family=\"Times,serif\" font-size=\"14.00\"> </text>\n<polyline fill=\"none\" stroke=\"black\" points=\"1580,-154.5 1580,-190.5 \"/>\n<text text-anchor=\"middle\" x=\"1620\" y=\"-168.8\" font-family=\"Times,serif\" font-size=\"14.00\">data 0.5781</text>\n<polyline fill=\"none\" stroke=\"black\" points=\"1660,-154.5 1660,-190.5 \"/>\n<text text-anchor=\"middle\" x=\"1701\" y=\"-168.8\" font-family=\"Times,serif\" font-size=\"14.00\">grad 0.0000</text>\n</g>\n<!-- 134211712808592&#45;&gt;134211704201552* -->\n<g id=\"edge63\" class=\"edge\">\n<title>134211712808592&#45;&gt;134211704201552*</title>\n<path fill=\"none\" stroke=\"black\" d=\"M1714.26,-154.48C1733.41,-148.93 1753.76,-143.04 1770.23,-138.28\"/>\n<polygon fill=\"black\" stroke=\"black\" points=\"1771.31,-141.61 1779.94,-135.46 1769.36,-134.88 1771.31,-141.61\"/>\n</g>\n<!-- 134211712808592&#45;&gt;134211704208528* -->\n<g id=\"edge72\" class=\"edge\">\n<title>134211712808592&#45;&gt;134211704208528*</title>\n<path fill=\"none\" stroke=\"black\" d=\"M1725.92,-154.42C1731.63,-151.58 1737.07,-148.3 1742,-144.5 1755.02,-134.47 1776.41,-97.45 1790.35,-71.64\"/>\n<polygon fill=\"black\" stroke=\"black\" points=\"1793.49,-73.18 1795.12,-62.71 1787.32,-69.88 1793.49,-73.18\"/>\n</g>\n<!-- 134211712808592&#45;&gt;134211704198864* -->\n<g id=\"edge67\" class=\"edge\">\n<title>134211712808592&#45;&gt;134211704198864*</title>\n<path fill=\"none\" stroke=\"black\" d=\"M1663.06,-190.76C1691.35,-237.42 1765.04,-358.52 1778,-375.5 1779.37,-377.3 1780.84,-379.12 1782.36,-380.92\"/>\n<polygon fill=\"black\" stroke=\"black\" points=\"1779.89,-383.4 1789.14,-388.56 1785.12,-378.76 1779.89,-383.4\"/>\n</g>\n<!-- 134211712808592tanh&#45;&gt;134211712808592 -->\n<g id=\"edge28\" class=\"edge\">\n<title>134211712808592tanh&#45;&gt;134211712808592</title>\n<path fill=\"none\" stroke=\"black\" d=\"M1524.13,-172.5C1531.67,-172.5 1540.39,-172.5 1549.64,-172.5\"/>\n<polygon fill=\"black\" stroke=\"black\" points=\"1549.87,-176 1559.87,-172.5 1549.87,-169 1549.87,-176\"/>\n</g>\n<!-- 134215001097872 -->\n<g id=\"node82\" class=\"node\">\n<title>134215001097872</title>\n<polygon fill=\"none\" stroke=\"black\" points=\"941.5,-113.5 941.5,-149.5 1123.5,-149.5 1123.5,-113.5 941.5,-113.5\"/>\n<text text-anchor=\"middle\" x=\"951.5\" y=\"-127.8\" font-family=\"Times,serif\" font-size=\"14.00\"> </text>\n<polyline fill=\"none\" stroke=\"black\" points=\"961.5,-113.5 961.5,-149.5 \"/>\n<text text-anchor=\"middle\" x=\"1001.5\" y=\"-127.8\" font-family=\"Times,serif\" font-size=\"14.00\">data 1.3034</text>\n<polyline fill=\"none\" stroke=\"black\" points=\"1041.5,-113.5 1041.5,-149.5 \"/>\n<text text-anchor=\"middle\" x=\"1082.5\" y=\"-127.8\" font-family=\"Times,serif\" font-size=\"14.00\">grad 0.0000</text>\n</g>\n<!-- 134215001097872&#45;&gt;134211713358800+ -->\n<g id=\"edge51\" class=\"edge\">\n<title>134215001097872&#45;&gt;134211713358800+</title>\n<path fill=\"none\" stroke=\"black\" d=\"M1101.72,-149.6C1119.71,-154.38 1138.37,-159.33 1153.71,-163.4\"/>\n<polygon fill=\"black\" stroke=\"black\" points=\"1153.2,-166.88 1163.76,-166.07 1154.99,-160.12 1153.2,-166.88\"/>\n</g>\n<!-- 134215001097872+&#45;&gt;134215001097872 -->\n<g id=\"edge29\" class=\"edge\">\n<title>134215001097872+&#45;&gt;134215001097872</title>\n<path fill=\"none\" stroke=\"black\" d=\"M903.21,-131.5C911.34,-131.5 920.85,-131.5 930.94,-131.5\"/>\n<polygon fill=\"black\" stroke=\"black\" points=\"931.19,-135 941.19,-131.5 931.19,-128 931.19,-135\"/>\n</g>\n<!-- 134211705878160 -->\n<g id=\"node84\" class=\"node\">\n<title>134211705878160</title>\n<polygon fill=\"none\" stroke=\"black\" points=\"1560,-27.5 1560,-63.5 1742,-63.5 1742,-27.5 1560,-27.5\"/>\n<text text-anchor=\"middle\" x=\"1570\" y=\"-41.8\" font-family=\"Times,serif\" font-size=\"14.00\"> </text>\n<polyline fill=\"none\" stroke=\"black\" points=\"1580,-27.5 1580,-63.5 \"/>\n<text text-anchor=\"middle\" x=\"1620\" y=\"-41.8\" font-family=\"Times,serif\" font-size=\"14.00\">data 0.6420</text>\n<polyline fill=\"none\" stroke=\"black\" points=\"1660,-27.5 1660,-63.5 \"/>\n<text text-anchor=\"middle\" x=\"1701\" y=\"-41.8\" font-family=\"Times,serif\" font-size=\"14.00\">grad 0.0000</text>\n</g>\n<!-- 134211705878160&#45;&gt;134211704208528* -->\n<g id=\"edge38\" class=\"edge\">\n<title>134211705878160&#45;&gt;134211704208528*</title>\n<path fill=\"none\" stroke=\"black\" d=\"M1742.18,-45.5C1751.14,-45.5 1759.83,-45.5 1767.73,-45.5\"/>\n<polygon fill=\"black\" stroke=\"black\" points=\"1767.96,-49 1777.96,-45.5 1767.96,-42 1767.96,-49\"/>\n</g>\n<!-- 134211704198864 -->\n<g id=\"node85\" class=\"node\">\n<title>134211704198864</title>\n<polygon fill=\"none\" stroke=\"black\" points=\"1870.5,-385.5 1870.5,-421.5 2052.5,-421.5 2052.5,-385.5 1870.5,-385.5\"/>\n<text text-anchor=\"middle\" x=\"1880.5\" y=\"-399.8\" font-family=\"Times,serif\" font-size=\"14.00\"> </text>\n<polyline fill=\"none\" stroke=\"black\" points=\"1890.5,-385.5 1890.5,-421.5 \"/>\n<text text-anchor=\"middle\" x=\"1930.5\" y=\"-399.8\" font-family=\"Times,serif\" font-size=\"14.00\">data 0.3778</text>\n<polyline fill=\"none\" stroke=\"black\" points=\"1970.5,-385.5 1970.5,-421.5 \"/>\n<text text-anchor=\"middle\" x=\"2011.5\" y=\"-399.8\" font-family=\"Times,serif\" font-size=\"14.00\">grad 0.0000</text>\n</g>\n<!-- 134211704198864&#45;&gt;134211704201872+ -->\n<g id=\"edge73\" class=\"edge\">\n<title>134211704198864&#45;&gt;134211704201872+</title>\n<path fill=\"none\" stroke=\"black\" d=\"M2052.82,-403.5C2062.57,-403.5 2072.04,-403.5 2080.57,-403.5\"/>\n<polygon fill=\"black\" stroke=\"black\" points=\"2080.83,-407 2090.83,-403.5 2080.83,-400 2080.83,-407\"/>\n</g>\n<!-- 134211704198864*&#45;&gt;134211704198864 -->\n<g id=\"edge30\" class=\"edge\">\n<title>134211704198864*&#45;&gt;134211704198864</title>\n<path fill=\"none\" stroke=\"black\" d=\"M1832.21,-403.5C1840.34,-403.5 1849.85,-403.5 1859.94,-403.5\"/>\n<polygon fill=\"black\" stroke=\"black\" points=\"1860.19,-407 1870.19,-403.5 1860.19,-400 1860.19,-407\"/>\n</g>\n<!-- 134211704202960 -->\n<g id=\"node87\" class=\"node\">\n<title>134211704202960</title>\n<polygon fill=\"none\" stroke=\"black\" points=\"3338,-226.5 3338,-262.5 3525,-262.5 3525,-226.5 3338,-226.5\"/>\n<text text-anchor=\"middle\" x=\"3348\" y=\"-240.8\" font-family=\"Times,serif\" font-size=\"14.00\"> </text>\n<polyline fill=\"none\" stroke=\"black\" points=\"3358,-226.5 3358,-262.5 \"/>\n<text text-anchor=\"middle\" x=\"3400.5\" y=\"-240.8\" font-family=\"Times,serif\" font-size=\"14.00\">data &#45;0.6080</text>\n<polyline fill=\"none\" stroke=\"black\" points=\"3443,-226.5 3443,-262.5 \"/>\n<text text-anchor=\"middle\" x=\"3484\" y=\"-240.8\" font-family=\"Times,serif\" font-size=\"14.00\">grad 0.0000</text>\n</g>\n<!-- 134211704202960&#45;&gt;134211704195984+ -->\n<g id=\"edge99\" class=\"edge\">\n<title>134211704202960&#45;&gt;134211704195984+</title>\n<path fill=\"none\" stroke=\"black\" d=\"M3525.18,-246.5C3647.82,-249.37 3870.72,-255.34 4061,-264.5 4069.43,-264.91 4078.49,-265.44 4087.01,-265.98\"/>\n<polygon fill=\"black\" stroke=\"black\" points=\"4086.86,-269.48 4097.07,-266.64 4087.32,-262.49 4086.86,-269.48\"/>\n</g>\n<!-- 134211704202960*&#45;&gt;134211704202960 -->\n<g id=\"edge31\" class=\"edge\">\n<title>134211704202960*&#45;&gt;134211704202960</title>\n<path fill=\"none\" stroke=\"black\" d=\"M3079.25,-238.92C3129.86,-239.72 3243.4,-241.53 3327.77,-242.87\"/>\n<polygon fill=\"black\" stroke=\"black\" points=\"3327.85,-246.37 3337.9,-243.03 3327.96,-239.37 3327.85,-246.37\"/>\n</g>\n<!-- 134211713353488 -->\n<g id=\"node89\" class=\"node\">\n<title>134211713353488</title>\n<polygon fill=\"none\" stroke=\"black\" points=\"1870.5,-330.5 1870.5,-366.5 2052.5,-366.5 2052.5,-330.5 1870.5,-330.5\"/>\n<text text-anchor=\"middle\" x=\"1880.5\" y=\"-344.8\" font-family=\"Times,serif\" font-size=\"14.00\"> </text>\n<polyline fill=\"none\" stroke=\"black\" points=\"1890.5,-330.5 1890.5,-366.5 \"/>\n<text text-anchor=\"middle\" x=\"1930.5\" y=\"-344.8\" font-family=\"Times,serif\" font-size=\"14.00\">data 0.8927</text>\n<polyline fill=\"none\" stroke=\"black\" points=\"1970.5,-330.5 1970.5,-366.5 \"/>\n<text text-anchor=\"middle\" x=\"2011.5\" y=\"-344.8\" font-family=\"Times,serif\" font-size=\"14.00\">grad 0.0000</text>\n</g>\n<!-- 134211713353488&#45;&gt;134211704193168* -->\n<g id=\"edge77\" class=\"edge\">\n<title>134211713353488&#45;&gt;134211704193168*</title>\n<path fill=\"none\" stroke=\"black\" d=\"M2040.23,-366.56C2045.44,-369.15 2050.43,-372.11 2055,-375.5 2078.47,-392.89 2073,-407.49 2091,-430.5 2092.4,-432.28 2093.88,-434.09 2095.41,-435.88\"/>\n<polygon fill=\"black\" stroke=\"black\" points=\"2092.94,-438.37 2102.21,-443.51 2098.17,-433.72 2092.94,-438.37\"/>\n</g>\n<!-- 134211713353488&#45;&gt;134211704199824* -->\n<g id=\"edge56\" class=\"edge\">\n<title>134211713353488&#45;&gt;134211704199824*</title>\n<path fill=\"none\" stroke=\"black\" d=\"M2038.35,-330.43C2044.24,-327.59 2049.88,-324.3 2055,-320.5 2078.16,-303.31 2073.13,-289.14 2091,-266.5 2092.4,-264.72 2093.89,-262.92 2095.42,-261.14\"/>\n<polygon fill=\"black\" stroke=\"black\" points=\"2098.18,-263.3 2102.24,-253.51 2092.96,-258.64 2098.18,-263.3\"/>\n</g>\n<!-- 134211713353488&#45;&gt;134211704198480* -->\n<g id=\"edge93\" class=\"edge\">\n<title>134211713353488&#45;&gt;134211704198480*</title>\n<path fill=\"none\" stroke=\"black\" d=\"M2026.02,-330.35C2035.79,-327.24 2045.71,-323.92 2055,-320.5 2065.25,-316.73 2076.23,-312.14 2086.07,-307.82\"/>\n<polygon fill=\"black\" stroke=\"black\" points=\"2087.74,-310.9 2095.45,-303.63 2084.89,-304.51 2087.74,-310.9\"/>\n</g>\n<!-- 134211713353488tanh -->\n<g id=\"node90\" class=\"node\">\n<title>134211713353488tanh</title>\n<ellipse fill=\"none\" stroke=\"black\" cx=\"1805\" cy=\"-348.5\" rx=\"27\" ry=\"18\"/>\n<text text-anchor=\"middle\" x=\"1805\" y=\"-344.8\" font-family=\"Times,serif\" font-size=\"14.00\">tanh</text>\n</g>\n<!-- 134211713353488tanh&#45;&gt;134211713353488 -->\n<g id=\"edge32\" class=\"edge\">\n<title>134211713353488tanh&#45;&gt;134211713353488</title>\n<path fill=\"none\" stroke=\"black\" d=\"M1832.21,-348.5C1840.34,-348.5 1849.85,-348.5 1859.94,-348.5\"/>\n<polygon fill=\"black\" stroke=\"black\" points=\"1860.19,-352 1870.19,-348.5 1860.19,-345 1860.19,-352\"/>\n</g>\n<!-- 134211704207184 -->\n<g id=\"node91\" class=\"node\">\n<title>134211704207184</title>\n<polygon fill=\"none\" stroke=\"black\" points=\"2804.5,-275.5 2804.5,-311.5 2986.5,-311.5 2986.5,-275.5 2804.5,-275.5\"/>\n<text text-anchor=\"middle\" x=\"2814.5\" y=\"-289.8\" font-family=\"Times,serif\" font-size=\"14.00\"> </text>\n<polyline fill=\"none\" stroke=\"black\" points=\"2824.5,-275.5 2824.5,-311.5 \"/>\n<text text-anchor=\"middle\" x=\"2864.5\" y=\"-289.8\" font-family=\"Times,serif\" font-size=\"14.00\">data 0.9067</text>\n<polyline fill=\"none\" stroke=\"black\" points=\"2904.5,-275.5 2904.5,-311.5 \"/>\n<text text-anchor=\"middle\" x=\"2945.5\" y=\"-289.8\" font-family=\"Times,serif\" font-size=\"14.00\">grad 0.0000</text>\n</g>\n<!-- 134211704207184&#45;&gt;134211704194192* -->\n<g id=\"edge89\" class=\"edge\">\n<title>134211704207184&#45;&gt;134211704194192*</title>\n<path fill=\"none\" stroke=\"black\" d=\"M2986.82,-293.5C2996.57,-293.5 3006.04,-293.5 3014.57,-293.5\"/>\n<polygon fill=\"black\" stroke=\"black\" points=\"3014.83,-297 3024.83,-293.5 3014.83,-290 3014.83,-297\"/>\n</g>\n<!-- 134211704207184tanh&#45;&gt;134211704207184 -->\n<g id=\"edge33\" class=\"edge\">\n<title>134211704207184tanh&#45;&gt;134211704207184</title>\n<path fill=\"none\" stroke=\"black\" d=\"M2766.21,-293.5C2774.34,-293.5 2783.85,-293.5 2793.94,-293.5\"/>\n<polygon fill=\"black\" stroke=\"black\" points=\"2794.19,-297 2804.19,-293.5 2794.19,-290 2794.19,-297\"/>\n</g>\n<!-- 134215001098064 -->\n<g id=\"node93\" class=\"node\">\n<title>134215001098064</title>\n<polygon fill=\"none\" stroke=\"black\" points=\"628.5,-58.5 628.5,-94.5 810.5,-94.5 810.5,-58.5 628.5,-58.5\"/>\n<text text-anchor=\"middle\" x=\"638.5\" y=\"-72.8\" font-family=\"Times,serif\" font-size=\"14.00\"> </text>\n<polyline fill=\"none\" stroke=\"black\" points=\"648.5,-58.5 648.5,-94.5 \"/>\n<text text-anchor=\"middle\" x=\"688.5\" y=\"-72.8\" font-family=\"Times,serif\" font-size=\"14.00\">data 1.5356</text>\n<polyline fill=\"none\" stroke=\"black\" points=\"728.5,-58.5 728.5,-94.5 \"/>\n<text text-anchor=\"middle\" x=\"769.5\" y=\"-72.8\" font-family=\"Times,serif\" font-size=\"14.00\">grad 0.0000</text>\n</g>\n<!-- 134215001098064&#45;&gt;134215001097872+ -->\n<g id=\"edge49\" class=\"edge\">\n<title>134215001098064&#45;&gt;134215001097872+</title>\n<path fill=\"none\" stroke=\"black\" d=\"M786.56,-94.55C795.51,-97.36 804.53,-100.37 813,-103.5 823.49,-107.38 834.71,-112.22 844.68,-116.78\"/>\n<polygon fill=\"black\" stroke=\"black\" points=\"843.25,-119.98 853.79,-121.03 846.2,-113.63 843.25,-119.98\"/>\n</g>\n<!-- 134215001098064*&#45;&gt;134215001098064 -->\n<g id=\"edge34\" class=\"edge\">\n<title>134215001098064*&#45;&gt;134215001098064</title>\n<path fill=\"none\" stroke=\"black\" d=\"M590.21,-76.5C598.34,-76.5 607.85,-76.5 617.94,-76.5\"/>\n<polygon fill=\"black\" stroke=\"black\" points=\"618.19,-80 628.19,-76.5 618.19,-73 618.19,-80\"/>\n</g>\n<!-- 134211705876304 -->\n<g id=\"node95\" class=\"node\">\n<title>134211705876304</title>\n<polygon fill=\"none\" stroke=\"black\" points=\"626,-168.5 626,-204.5 813,-204.5 813,-168.5 626,-168.5\"/>\n<text text-anchor=\"middle\" x=\"636\" y=\"-182.8\" font-family=\"Times,serif\" font-size=\"14.00\"> </text>\n<polyline fill=\"none\" stroke=\"black\" points=\"646,-168.5 646,-204.5 \"/>\n<text text-anchor=\"middle\" x=\"688.5\" y=\"-182.8\" font-family=\"Times,serif\" font-size=\"14.00\">data &#45;0.2146</text>\n<polyline fill=\"none\" stroke=\"black\" points=\"731,-168.5 731,-204.5 \"/>\n<text text-anchor=\"middle\" x=\"772\" y=\"-182.8\" font-family=\"Times,serif\" font-size=\"14.00\">grad 0.0000</text>\n</g>\n<!-- 134211705876304&#45;&gt;134211713356048* -->\n<g id=\"edge52\" class=\"edge\">\n<title>134211705876304&#45;&gt;134211713356048*</title>\n<path fill=\"none\" stroke=\"black\" d=\"M813.05,-186.5C822.06,-186.5 830.79,-186.5 838.7,-186.5\"/>\n<polygon fill=\"black\" stroke=\"black\" points=\"838.95,-190 848.95,-186.5 838.95,-183 838.95,-190\"/>\n</g>\n<!-- 134211704201104 -->\n<g id=\"node96\" class=\"node\">\n<title>134211704201104</title>\n<polygon fill=\"none\" stroke=\"black\" points=\"4500,-250.5 4500,-286.5 4687,-286.5 4687,-250.5 4500,-250.5\"/>\n<text text-anchor=\"middle\" x=\"4510\" y=\"-264.8\" font-family=\"Times,serif\" font-size=\"14.00\"> </text>\n<polyline fill=\"none\" stroke=\"black\" points=\"4520,-250.5 4520,-286.5 \"/>\n<text text-anchor=\"middle\" x=\"4562.5\" y=\"-264.8\" font-family=\"Times,serif\" font-size=\"14.00\">data &#45;0.9353</text>\n<polyline fill=\"none\" stroke=\"black\" points=\"4605,-250.5 4605,-286.5 \"/>\n<text text-anchor=\"middle\" x=\"4646\" y=\"-264.8\" font-family=\"Times,serif\" font-size=\"14.00\">grad 0.0000</text>\n</g>\n<!-- 134211704201104tanh&#45;&gt;134211704201104 -->\n<g id=\"edge35\" class=\"edge\">\n<title>134211704201104tanh&#45;&gt;134211704201104</title>\n<path fill=\"none\" stroke=\"black\" d=\"M4464.21,-268.5C4471.73,-268.5 4480.43,-268.5 4489.67,-268.5\"/>\n<polygon fill=\"black\" stroke=\"black\" points=\"4489.89,-272 4499.89,-268.5 4489.89,-265 4489.89,-272\"/>\n</g>\n<!-- 134211704199120 -->\n<g id=\"node98\" class=\"node\">\n<title>134211704199120</title>\n<polygon fill=\"none\" stroke=\"black\" points=\"1560,-330.5 1560,-366.5 1742,-366.5 1742,-330.5 1560,-330.5\"/>\n<text text-anchor=\"middle\" x=\"1570\" y=\"-344.8\" font-family=\"Times,serif\" font-size=\"14.00\"> </text>\n<polyline fill=\"none\" stroke=\"black\" points=\"1580,-330.5 1580,-366.5 \"/>\n<text text-anchor=\"middle\" x=\"1620\" y=\"-344.8\" font-family=\"Times,serif\" font-size=\"14.00\">data 1.4352</text>\n<polyline fill=\"none\" stroke=\"black\" points=\"1660,-330.5 1660,-366.5 \"/>\n<text text-anchor=\"middle\" x=\"1701\" y=\"-344.8\" font-family=\"Times,serif\" font-size=\"14.00\">grad 0.0000</text>\n</g>\n<!-- 134211704199120&#45;&gt;134211713353488tanh -->\n<g id=\"edge95\" class=\"edge\">\n<title>134211704199120&#45;&gt;134211713353488tanh</title>\n<path fill=\"none\" stroke=\"black\" d=\"M1742.18,-348.5C1751.14,-348.5 1759.83,-348.5 1767.73,-348.5\"/>\n<polygon fill=\"black\" stroke=\"black\" points=\"1767.96,-352 1777.96,-348.5 1767.96,-345 1767.96,-352\"/>\n</g>\n<!-- 134211704199120+&#45;&gt;134211704199120 -->\n<g id=\"edge36\" class=\"edge\">\n<title>134211704199120+&#45;&gt;134211704199120</title>\n<path fill=\"none\" stroke=\"black\" d=\"M1524.13,-348.5C1531.67,-348.5 1540.39,-348.5 1549.64,-348.5\"/>\n<polygon fill=\"black\" stroke=\"black\" points=\"1549.87,-352 1559.87,-348.5 1549.87,-345 1549.87,-352\"/>\n</g>\n</g>\n</svg>\n",
            "text/plain": [
              "<graphviz.graphs.Digraph at 0x7a1098f41710>"
            ]
          },
          "metadata": {},
          "execution_count": 123
        }
      ]
    },
    {
      "cell_type": "markdown",
      "source": [
        "Let us implement a simple binary classifier with our multi-layer perceptron"
      ],
      "metadata": {
        "id": "yJyLLaAduRSP"
      }
    },
    {
      "cell_type": "code",
      "source": [
        "x = [1.0, -2.0, 3.0]\n",
        "mlp = MLP(nin= 3, nouts= [2,3,1])"
      ],
      "metadata": {
        "id": "cjFamy7oBTCw"
      },
      "execution_count": 144,
      "outputs": []
    },
    {
      "cell_type": "code",
      "source": [
        "# dataset\n",
        "xs = [\n",
        "    [2.0, 3.0, -1.0],\n",
        "    [3.0, -1.0, 0.5],\n",
        "    [0.5, 1.0, 1.0],\n",
        "    [1.0, 1.0, -1.0]\n",
        "]\n",
        "# labels\n",
        "ys = [1.0, -1.0, -1.0, 1.0]"
      ],
      "metadata": {
        "id": "7Vo-5hzcuQMC"
      },
      "execution_count": 145,
      "outputs": []
    },
    {
      "cell_type": "markdown",
      "source": [
        "Define the Loss Function for the binary classifier"
      ],
      "metadata": {
        "id": "FzgWs7D3vPfG"
      }
    },
    {
      "cell_type": "code",
      "source": [
        "loss = sum((y_out - y_true)**2 for y_true, y_out in zip(ys, ypred))\n",
        "loss"
      ],
      "metadata": {
        "colab": {
          "base_uri": "https://localhost:8080/"
        },
        "id": "NrsIL6UUzVzz",
        "outputId": "a894e91e-d6a2-4b20-c169-7decf19c5ca6"
      },
      "execution_count": 137,
      "outputs": [
        {
          "output_type": "execute_result",
          "data": {
            "text/plain": [
              "Value(data=5.8419054541078586)"
            ]
          },
          "metadata": {},
          "execution_count": 137
        }
      ]
    },
    {
      "cell_type": "code",
      "source": [
        "loss.backward()\n",
        "mlp.layers[0].neurons[0].w[0]"
      ],
      "metadata": {
        "colab": {
          "base_uri": "https://localhost:8080/"
        },
        "id": "5NLNxX_FzWTp",
        "outputId": "c24efbb7-8f8b-49f8-faa0-85ba8f514366"
      },
      "execution_count": 138,
      "outputs": [
        {
          "output_type": "execute_result",
          "data": {
            "text/plain": [
              "Value(data=0.2508273595086894)"
            ]
          },
          "metadata": {},
          "execution_count": 138
        }
      ]
    },
    {
      "cell_type": "code",
      "source": [
        "learning_rate = 0.05\n",
        "n_steps = 30\n",
        "\n",
        "for k in range (n_steps):\n",
        "\n",
        "  # forward pass\n",
        "  y_pred = [mlp(x) for x in xs]\n",
        "  loss = sum((yout - ygt)**2 for ygt, yout in zip(ys, y_pred))\n",
        "\n",
        "  # backward pass\n",
        "  for p in mlp.parameters():\n",
        "    p.grad = 0.0\n",
        "  loss.backward()\n",
        "\n",
        "  # update weights\n",
        "  for p in mlp.parameters():\n",
        "    p.data += - learning_rate * p.grad\n",
        "\n",
        "  print(k, loss.data)"
      ],
      "metadata": {
        "colab": {
          "base_uri": "https://localhost:8080/"
        },
        "id": "z6I_forB_XlI",
        "outputId": "ff44bed0-457d-4365-abb6-ef16cd31deae"
      },
      "execution_count": 196,
      "outputs": [
        {
          "output_type": "stream",
          "name": "stdout",
          "text": [
            "0 0.0003403453782855323\n",
            "1 0.0003401092470133559\n",
            "2 0.0003398734390757044\n",
            "3 0.0003396379538125391\n",
            "4 0.00033940279056560987\n",
            "5 0.00033916794867844144\n",
            "6 0.0003389334274963518\n",
            "7 0.00033869922636641105\n",
            "8 0.0003384653446374742\n",
            "9 0.00033823178166013867\n",
            "10 0.00033799853678676516\n",
            "11 0.00033776560937146666\n",
            "12 0.0003375329987700804\n",
            "13 0.00033730070434018916\n",
            "14 0.0003370687254411214\n",
            "15 0.00033683706143390407\n",
            "16 0.00033660571168129877\n",
            "17 0.00033637467554776965\n",
            "18 0.00033614395239949636\n",
            "19 0.00033591354160436213\n",
            "20 0.0003356834425319306\n",
            "21 0.00033545365455347017\n",
            "22 0.0003352241770419301\n",
            "23 0.0003349950093719389\n",
            "24 0.00033476615091978786\n",
            "25 0.0003345376010634477\n",
            "26 0.0003343093591825526\n",
            "27 0.0003340814246583795\n",
            "28 0.00033385379687387207\n",
            "29 0.00033362647521360697\n"
          ]
        }
      ]
    },
    {
      "cell_type": "code",
      "source": [
        "y_pred = [mlp(x) for x in xs]\n",
        "y_pred"
      ],
      "metadata": {
        "colab": {
          "base_uri": "https://localhost:8080/"
        },
        "id": "a62ywzWcCIUu",
        "outputId": "41bb4776-642f-4718-b228-484d89d25721"
      },
      "execution_count": 197,
      "outputs": [
        {
          "output_type": "execute_result",
          "data": {
            "text/plain": [
              "[Value(data=0.9921408607175505),\n",
              " Value(data=-0.9937759991535786),\n",
              " Value(data=-0.9910786979279415),\n",
              " Value(data=0.9876183372842863)]"
            ]
          },
          "metadata": {},
          "execution_count": 197
        }
      ]
    }
  ]
}
