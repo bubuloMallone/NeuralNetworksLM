{
  "nbformat": 4,
  "nbformat_minor": 0,
  "metadata": {
    "colab": {
      "provenance": [],
      "authorship_tag": "ABX9TyPONa/yPIqd/JsI98vUacf6",
      "include_colab_link": true
    },
    "kernelspec": {
      "name": "python3",
      "display_name": "Python 3"
    },
    "language_info": {
      "name": "python"
    }
  },
  "cells": [
    {
      "cell_type": "markdown",
      "metadata": {
        "id": "view-in-github",
        "colab_type": "text"
      },
      "source": [
        "<a href=\"https://colab.research.google.com/github/bubuloMallone/NeuralNetworksLM/blob/main/mlp_names.ipynb\" target=\"_parent\"><img src=\"https://colab.research.google.com/assets/colab-badge.svg\" alt=\"Open In Colab\"/></a>"
      ]
    },
    {
      "cell_type": "markdown",
      "source": [
        "Implementation of a multilayer perceptron (MLP) charachter-level language model, trained on the names dataset already used.\n",
        "\n",
        "Reference paper: Bengio et al. 2003\n",
        "\n",
        "https://www.jmlr.org/papers/volume3/bengio03a/bengio03a.pdf"
      ],
      "metadata": {
        "id": "Q86_IS65o1bR"
      }
    },
    {
      "cell_type": "code",
      "source": [
        "import torch\n",
        "import torch.nn.functional as F\n",
        "import matplotlib.pyplot as plt\n",
        "import numpy as np"
      ],
      "metadata": {
        "id": "auQuk4hvp0Kw"
      },
      "execution_count": 51,
      "outputs": []
    },
    {
      "cell_type": "code",
      "execution_count": 2,
      "metadata": {
        "colab": {
          "base_uri": "https://localhost:8080/"
        },
        "id": "ln24QRlNCXtM",
        "outputId": "99f6818f-aacd-41d8-dde8-93af1f86c06d"
      },
      "outputs": [
        {
          "output_type": "stream",
          "name": "stdout",
          "text": [
            "--2025-07-09 09:42:13--  https://raw.githubusercontent.com/bubuloMallone/NeuralNetworksEX/refs/heads/main/datasets/names.txt\n",
            "Resolving raw.githubusercontent.com (raw.githubusercontent.com)... 185.199.108.133, 185.199.109.133, 185.199.110.133, ...\n",
            "Connecting to raw.githubusercontent.com (raw.githubusercontent.com)|185.199.108.133|:443... connected.\n",
            "HTTP request sent, awaiting response... 200 OK\n",
            "Length: 228145 (223K) [text/plain]\n",
            "Saving to: ‘names.txt’\n",
            "\n",
            "names.txt           100%[===================>] 222.80K  --.-KB/s    in 0.03s   \n",
            "\n",
            "2025-07-09 09:42:13 (8.25 MB/s) - ‘names.txt’ saved [228145/228145]\n",
            "\n"
          ]
        },
        {
          "output_type": "execute_result",
          "data": {
            "text/plain": [
              "['emma',\n",
              " 'olivia',\n",
              " 'ava',\n",
              " 'isabella',\n",
              " 'sophia',\n",
              " 'charlotte',\n",
              " 'mia',\n",
              " 'amelia',\n",
              " 'harper',\n",
              " 'evelyn']"
            ]
          },
          "metadata": {},
          "execution_count": 2
        }
      ],
      "source": [
        "!wget https://raw.githubusercontent.com/bubuloMallone/NeuralNetworksEX/refs/heads/main/datasets/names.txt\n",
        "\n",
        "words = open('names.txt', 'r').read().splitlines()\n",
        "\n",
        "words[:10]"
      ]
    },
    {
      "cell_type": "markdown",
      "source": [
        "First let us build the vocabulary of characters and the relative mappings to/from integers"
      ],
      "metadata": {
        "id": "zE25Ua95qB0X"
      }
    },
    {
      "cell_type": "code",
      "source": [
        "chars = sorted(list(set(''.join(words))))\n",
        "alphabet_size = len(chars) + 1\n",
        "stoi = {s:i+1 for i,s in enumerate(chars)}\n",
        "stoi['.'] = 0\n",
        "itos = {i:s for s,i in stoi.items()}\n",
        "print(itos)\n",
        "print(alphabet_size)"
      ],
      "metadata": {
        "colab": {
          "base_uri": "https://localhost:8080/"
        },
        "id": "k5pBRpIknElF",
        "outputId": "3698bfca-3fe8-4a36-8d70-24ebfde4f1b7"
      },
      "execution_count": 3,
      "outputs": [
        {
          "output_type": "stream",
          "name": "stdout",
          "text": [
            "{1: 'a', 2: 'b', 3: 'c', 4: 'd', 5: 'e', 6: 'f', 7: 'g', 8: 'h', 9: 'i', 10: 'j', 11: 'k', 12: 'l', 13: 'm', 14: 'n', 15: 'o', 16: 'p', 17: 'q', 18: 'r', 19: 's', 20: 't', 21: 'u', 22: 'v', 23: 'w', 24: 'x', 25: 'y', 26: 'z', 0: '.'}\n",
            "27\n"
          ]
        }
      ]
    },
    {
      "cell_type": "markdown",
      "source": [
        "Now let us build the dataset"
      ],
      "metadata": {
        "id": "tsMgV4narWQp"
      }
    },
    {
      "cell_type": "code",
      "source": [
        "# define the context length: how many char we consider to predict the next one\n",
        "block_size = 3\n",
        "X, Y = [], []\n",
        "\n",
        "for word in words:\n",
        "  # print(word)\n",
        "\n",
        "  context = [0] * block_size\n",
        "  for ch in word + '.':\n",
        "    idx = stoi[ch]\n",
        "    X.append(context)\n",
        "    Y.append(idx)\n",
        "    # print(''.join(itos[i] for i in context), '--->', itos[idx])\n",
        "    context = context[1:] + [idx]\n",
        "\n",
        "X = torch.tensor(X)\n",
        "Y = torch.tensor(Y)\n",
        "print('Data:', X.shape, X.dtype)\n",
        "print('Labels:', Y.shape, Y.dtype)\n",
        "\n",
        "num_samples = X.shape[0]"
      ],
      "metadata": {
        "colab": {
          "base_uri": "https://localhost:8080/"
        },
        "id": "IMaW8ACDqAb3",
        "outputId": "9e14cc5d-717e-4d8d-9f33-274213154253"
      },
      "execution_count": 4,
      "outputs": [
        {
          "output_type": "stream",
          "name": "stdout",
          "text": [
            "Data: torch.Size([228146, 3]) torch.int64\n",
            "Labels: torch.Size([228146]) torch.int64\n"
          ]
        }
      ]
    },
    {
      "cell_type": "markdown",
      "source": [
        "Now let us build now te neural network. It will be a MLP consisting of an embedding layer, an internal layer and an putput layer."
      ],
      "metadata": {
        "id": "2RcPpZca2myi"
      }
    },
    {
      "cell_type": "code",
      "source": [
        "g = torch.Generator().manual_seed(2147483647)\n",
        "\n",
        "# embedding\n",
        "emb_dim = 2\n",
        "C = torch.randn((alphabet_size, emb_dim))\n",
        "\n",
        "# first fully connected layer\n",
        "hidden_dim = 100\n",
        "W1 = torch.randn((block_size * emb_dim, hidden_dim), generator=g)\n",
        "b1 = torch.randn(hidden_dim, generator=g)\n",
        "\n",
        "# second fully connected layer\n",
        "W2 = torch.randn((hidden_dim, alphabet_size), generator=g)\n",
        "b2 = torch.randn(alphabet_size, generator=g)\n",
        "\n",
        "parameters = [C, W1, b1, W2, b2]\n",
        "\n",
        "# require gradients\n",
        "for p in parameters:\n",
        "  p.requires_grad = True\n",
        "\n",
        "tot_parameters = sum(p.nelement() for p in parameters)\n",
        "print(f'Total number of parameters: {tot_parameters}')"
      ],
      "metadata": {
        "id": "T_-Vo2JY2ljf",
        "colab": {
          "base_uri": "https://localhost:8080/"
        },
        "outputId": "a6d77c33-929a-4ab2-efa0-2c55f01c7a4e"
      },
      "execution_count": 26,
      "outputs": [
        {
          "output_type": "stream",
          "name": "stdout",
          "text": [
            "Total number of parameters: 3481\n"
          ]
        }
      ]
    },
    {
      "cell_type": "markdown",
      "source": [
        "Let us choose a good initial learning rate"
      ],
      "metadata": {
        "id": "hxOLXTPLorvS"
      }
    },
    {
      "cell_type": "code",
      "source": [
        "steps = 1000\n",
        "lre = torch.linspace(-3, 0, steps)\n",
        "lrs = 10**lre\n",
        "# plt.plot(lrs)"
      ],
      "metadata": {
        "id": "FyVl3kWDnf6Q"
      },
      "execution_count": 27,
      "outputs": []
    },
    {
      "cell_type": "code",
      "source": [
        "learning_rate_list = []\n",
        "losses = []\n",
        "\n",
        "for i in range(steps):\n",
        "\n",
        "  # minibatch construct\n",
        "  batch_size = 32\n",
        "  idxs = torch.randint(0, num_samples, (batch_size,))   # (num_samples,) --> (batch_size,)\n",
        "\n",
        "  # forward pass\n",
        "  emb = C[X[idxs]]   # (num_samples, block_size, emb_dim) --> (batch_size, block_size, emb_dim)\n",
        "  h = torch.tanh(emb.view(-1, block_size * emb_dim) @ W1 + b1)   # (batch_size, hidden_dim)\n",
        "  logits = h @ W2 + b2    # (batch_size, alphabet_size)\n",
        "  loss = F.cross_entropy(logits, Y[idxs])\n",
        "  # print(loss.item())\n",
        "\n",
        "  # backward pass\n",
        "  for p in parameters:\n",
        "    p.grad = None\n",
        "  loss.backward()\n",
        "\n",
        "  # update parameters\n",
        "  learning_rate = lrs[i]\n",
        "  for p in parameters:\n",
        "    p.data += -learning_rate * p.grad\n",
        "\n",
        "  # track stats\n",
        "  learning_rate_list.append(learning_rate)\n",
        "  losses.append(loss.item())\n",
        "\n",
        "# print(loss.item())\n"
      ],
      "metadata": {
        "id": "I48FEhKlMZY3"
      },
      "execution_count": 28,
      "outputs": []
    },
    {
      "cell_type": "code",
      "source": [
        "plt.plot(learning_rate_list, losses)\n",
        "plt.xscale('log')\n",
        "plt.xlabel('Learning rate')\n",
        "plt.ylabel('Loss')"
      ],
      "metadata": {
        "colab": {
          "base_uri": "https://localhost:8080/",
          "height": 475
        },
        "id": "414YWDcup5sM",
        "outputId": "8af8ed49-23d9-4105-ad9c-e8ee5b65b6b9"
      },
      "execution_count": 29,
      "outputs": [
        {
          "output_type": "execute_result",
          "data": {
            "text/plain": [
              "Text(0, 0.5, 'Loss')"
            ]
          },
          "metadata": {},
          "execution_count": 29
        },
        {
          "output_type": "display_data",
          "data": {
            "text/plain": [
              "<Figure size 640x480 with 1 Axes>"
            ],
            "image/png": "[encoded data removed]"
          },
          "metadata": {}
        }
      ]
    },
    {
      "cell_type": "markdown",
      "source": [
        "Train the network with this estimate for a good learning rate ($ ≈ 10^{-1}$).\n",
        "\n",
        "First, we need to create the training/validation/test sets from the dataset.\n",
        "\n",
        "Training set (80%) --> optimize the weights\n",
        "\n",
        "Validtion set (10%) --> optimize the hyperparameters\n",
        "\n",
        "Test set (10%) --> validate the model accuracy\n"
      ],
      "metadata": {
        "id": "wEiqONV5qTtF"
      }
    },
    {
      "cell_type": "code",
      "source": [
        "import random"
      ],
      "metadata": {
        "id": "8dkzPbF3y7FD"
      },
      "execution_count": 61,
      "outputs": []
    },
    {
      "cell_type": "code",
      "source": [
        "# build the dataset\n",
        "\n",
        "def build_dataset(words):\n",
        "  # define the context length: how many char we consider to predict the next one\n",
        "  block_size = 3\n",
        "  X, Y = [], []\n",
        "\n",
        "  for word in words:\n",
        "\n",
        "    context = [0] * block_size\n",
        "    for ch in word + '.':\n",
        "      idx = stoi[ch]\n",
        "      X.append(context)\n",
        "      Y.append(idx)\n",
        "      # print(''.join(itos[i] for i in context), '--->', itos[idx])\n",
        "      context = context[1:] + [idx]\n",
        "\n",
        "  X = torch.tensor(X)\n",
        "  Y = torch.tensor(Y)\n",
        "  print('Data:', X.shape, X.dtype)\n",
        "  print('Labels:', Y.shape, Y.dtype)\n",
        "  num_samples = X.shape[0]\n",
        "\n",
        "  return X, Y, num_samples\n",
        "\n",
        "\n",
        "random.seed(42)\n",
        "random.shuffle(words)\n",
        "n1 = int(0.8*len(words))\n",
        "n2 = int(0.9*len(words))\n",
        "\n",
        "Xtr, Ytr, num_samples_tr = build_dataset(words[:n1])\n",
        "Xval, Yval, num_samples_val = build_dataset(words[n1:n2])\n",
        "Xte, Yte, num_samples_te = build_dataset(words[n2:])"
      ],
      "metadata": {
        "colab": {
          "base_uri": "https://localhost:8080/"
        },
        "id": "HmeR9OQryLij",
        "outputId": "6de57241-c569-429a-e814-fbf497491298"
      },
      "execution_count": 86,
      "outputs": [
        {
          "output_type": "stream",
          "name": "stdout",
          "text": [
            "Data: torch.Size([182580, 3]) torch.int64\n",
            "Labels: torch.Size([182580]) torch.int64\n",
            "Data: torch.Size([22767, 3]) torch.int64\n",
            "Labels: torch.Size([22767]) torch.int64\n",
            "Data: torch.Size([22799, 3]) torch.int64\n",
            "Labels: torch.Size([22799]) torch.int64\n"
          ]
        }
      ]
    },
    {
      "cell_type": "code",
      "source": [
        "g = torch.Generator().manual_seed(2147483647)\n",
        "\n",
        "# embedding\n",
        "emb_dim = 2\n",
        "C = torch.randn((alphabet_size, emb_dim))\n",
        "\n",
        "# first fully connected layer\n",
        "hidden_dim = 300\n",
        "W1 = torch.randn((block_size * emb_dim, hidden_dim), generator=g)\n",
        "b1 = torch.randn(hidden_dim, generator=g)\n",
        "\n",
        "# second fully connected layer\n",
        "W2 = torch.randn((hidden_dim, alphabet_size), generator=g)\n",
        "b2 = torch.randn(alphabet_size, generator=g)\n",
        "\n",
        "parameters = [C, W1, b1, W2, b2]\n",
        "\n",
        "# require gradients\n",
        "for p in parameters:\n",
        "  p.requires_grad = True\n",
        "\n",
        "tot_parameters = sum(p.nelement() for p in parameters)\n",
        "print(f'Total number of parameters: {tot_parameters}')"
      ],
      "metadata": {
        "colab": {
          "base_uri": "https://localhost:8080/"
        },
        "outputId": "76bb7ca9-3ca3-4d41-8544-68367f89602d",
        "id": "fnBAI8xKq25I"
      },
      "execution_count": 89,
      "outputs": [
        {
          "output_type": "stream",
          "name": "stdout",
          "text": [
            "Total number of parameters: 10281\n"
          ]
        }
      ]
    },
    {
      "cell_type": "code",
      "source": [
        "steps = 30000\n",
        "losses = []\n",
        "\n",
        "for _ in range(steps):\n",
        "\n",
        "  # minibatch construct\n",
        "  batch_size = 32\n",
        "  idxs = torch.randint(0, num_samples_tr, (batch_size,))   # (num_samples,) --> (batch_size,)\n",
        "\n",
        "  # forward pass\n",
        "  emb = C[Xtr[idxs]]   # (batch_size, block_size, emb_dim)\n",
        "  h = torch.tanh(emb.view(-1, block_size * emb_dim) @ W1 + b1)   # (batch_size, hidden_dim)\n",
        "  logits = h @ W2 + b2    # (batch_size, alphabet_size)\n",
        "  loss = F.cross_entropy(logits, Ytr[idxs])\n",
        "  # print(loss.item())\n",
        "\n",
        "  # backward pass\n",
        "  for p in parameters:\n",
        "    p.grad = None\n",
        "  loss.backward()\n",
        "\n",
        "  # update parameters\n",
        "  learning_rate = 0.1\n",
        "  for p in parameters:\n",
        "    p.data += -learning_rate * p.grad\n",
        "\n",
        "  # track stats\n",
        "  losses.append(loss.item())\n",
        "\n",
        "print(np.mean(losses))\n"
      ],
      "metadata": {
        "colab": {
          "base_uri": "https://localhost:8080/"
        },
        "outputId": "6b04cc1d-2c4e-4e37-8cec-356f66c3a59d",
        "id": "zdJ7JRmWomk_"
      },
      "execution_count": 102,
      "outputs": [
        {
          "output_type": "stream",
          "name": "stdout",
          "text": [
            "2.305852673482895\n"
          ]
        }
      ]
    },
    {
      "cell_type": "code",
      "source": [
        "plt.plot(np.arange(steps), losses)"
      ],
      "metadata": {
        "colab": {
          "base_uri": "https://localhost:8080/",
          "height": 447
        },
        "id": "3c7Q-Je714C-",
        "outputId": "0b5d80da-9450-418b-b8d0-d36f1c738df2"
      },
      "execution_count": 91,
      "outputs": [
        {
          "output_type": "execute_result",
          "data": {
            "text/plain": [
              "[<matplotlib.lines.Line2D at 0x7e931b64d790>]"
            ]
          },
          "metadata": {},
          "execution_count": 91
        },
        {
          "output_type": "display_data",
          "data": {
            "text/plain": [
              "<Figure size 640x480 with 1 Axes>"
            ],
            "image/png": "[encoded data removed]"
          },
          "metadata": {}
        }
      ]
    },
    {
      "cell_type": "markdown",
      "source": [
        "Check the Loss on the validation set"
      ],
      "metadata": {
        "id": "sfeYCLzO0cVc"
      }
    },
    {
      "cell_type": "code",
      "source": [
        "# forward pass\n",
        "emb = C[Xval]   # (batch_size, block_size, emb_dim)\n",
        "h = torch.tanh(emb.view(-1, block_size * emb_dim) @ W1 + b1)   # (batch_size, hidden_dim)\n",
        "logits = h @ W2 + b2    # (batch_size, alphabet_size)\n",
        "loss = F.cross_entropy(logits, Yval)\n",
        "print(loss.item())"
      ],
      "metadata": {
        "colab": {
          "base_uri": "https://localhost:8080/"
        },
        "id": "WrzpZxko0cE5",
        "outputId": "2933ff7e-a26f-4510-f04a-563a8127f707"
      },
      "execution_count": 100,
      "outputs": [
        {
          "output_type": "stream",
          "name": "stdout",
          "text": [
            "2.4116063117980957\n"
          ]
        }
      ]
    },
    {
      "cell_type": "markdown",
      "source": [
        "What about the embedding space ? For dim = 2 we can visualize it and get and idea of what the network is doing. THere is some sort of clustering of the characters. However the low dimension of the space might be a bottleneck for the learning ability of the network."
      ],
      "metadata": {
        "id": "U9PB8GJJ3gMo"
      }
    },
    {
      "cell_type": "code",
      "source": [
        "plt.figure(figsize=(8,8))\n",
        "plt.scatter(C[:,0].data, C[:,1].data, s=200)\n",
        "for i in range(C.shape[0]):\n",
        "  plt.text(C[i,0].item(), C[i,1].item(), itos[i], ha=\"center\", va=\"center\", color='white')\n",
        "plt.grid('minor')"
      ],
      "metadata": {
        "id": "OBNu883t3i4t",
        "colab": {
          "base_uri": "https://localhost:8080/",
          "height": 625
        },
        "outputId": "e899f661-c07b-4a58-f5c4-76bfba46acad"
      },
      "execution_count": 103,
      "outputs": [
        {
          "output_type": "display_data",
          "data": {
            "text/plain": [
              "<Figure size 800x800 with 1 Axes>"
            ],
            "image/png": "[encoded data removed]"
          },
          "metadata": {}
        }
      ]
    },
    {
      "cell_type": "markdown",
      "source": [
        "Let us increase the embedding space dimension"
      ],
      "metadata": {
        "id": "aPDDjqWc5FrS"
      }
    },
    {
      "cell_type": "code",
      "source": [
        "g = torch.Generator().manual_seed(2147483647)\n",
        "\n",
        "# embedding\n",
        "emb_dim = 10\n",
        "C = torch.randn((alphabet_size, emb_dim))\n",
        "\n",
        "# first fully connected layer\n",
        "hidden_dim = 200\n",
        "W1 = torch.randn((block_size * emb_dim, hidden_dim), generator=g)\n",
        "b1 = torch.randn(hidden_dim, generator=g)\n",
        "\n",
        "# second fully connected layer\n",
        "W2 = torch.randn((hidden_dim, alphabet_size), generator=g)\n",
        "b2 = torch.randn(alphabet_size, generator=g)\n",
        "\n",
        "parameters = [C, W1, b1, W2, b2]\n",
        "\n",
        "# require gradients\n",
        "for p in parameters:\n",
        "  p.requires_grad = True\n",
        "\n",
        "tot_parameters = sum(p.nelement() for p in parameters)\n",
        "print(f'Total number of parameters: {tot_parameters}')"
      ],
      "metadata": {
        "colab": {
          "base_uri": "https://localhost:8080/"
        },
        "id": "QHI5g1W65Koa",
        "outputId": "93cd93ca-891c-47cd-9019-a673b9d1dfa9"
      },
      "execution_count": 105,
      "outputs": [
        {
          "output_type": "stream",
          "name": "stdout",
          "text": [
            "Total number of parameters: 11897\n"
          ]
        }
      ]
    },
    {
      "cell_type": "code",
      "source": [
        "losses = []"
      ],
      "metadata": {
        "id": "z5jMK4fR5h8C"
      },
      "execution_count": 124,
      "outputs": []
    },
    {
      "cell_type": "code",
      "source": [
        "steps = 50000\n",
        "for _ in range(steps):\n",
        "\n",
        "  # minibatch construct\n",
        "  batch_size = 32\n",
        "  idxs = torch.randint(0, num_samples_tr, (batch_size,))   # (num_samples,) --> (batch_size,)\n",
        "\n",
        "  # forward pass\n",
        "  emb = C[Xtr[idxs]]   # (batch_size, block_size, emb_dim)\n",
        "  h = torch.tanh(emb.view(-1, block_size * emb_dim) @ W1 + b1)   # (batch_size, hidden_dim)\n",
        "  logits = h @ W2 + b2    # (batch_size, alphabet_size)\n",
        "  loss = F.cross_entropy(logits, Ytr[idxs])\n",
        "  # print(loss.item())\n",
        "\n",
        "  # backward pass\n",
        "  for p in parameters:\n",
        "    p.grad = None\n",
        "  loss.backward()\n",
        "\n",
        "  # update parameters\n",
        "  learning_rate = 0.01\n",
        "  for p in parameters:\n",
        "    p.data += -learning_rate * p.grad\n",
        "\n",
        "  # track stats\n",
        "  losses.append(loss.item())\n",
        "\n",
        "print(np.mean(losses))"
      ],
      "metadata": {
        "colab": {
          "base_uri": "https://localhost:8080/"
        },
        "id": "BgUl4LYy5fsQ",
        "outputId": "a16a804a-d7b4-4238-bbc2-98e73488d114"
      },
      "execution_count": 127,
      "outputs": [
        {
          "output_type": "stream",
          "name": "stdout",
          "text": [
            "2.1248033604240417\n"
          ]
        }
      ]
    },
    {
      "cell_type": "code",
      "source": [
        "plt.plot(np.arange(len(losses)), losses)"
      ],
      "metadata": {
        "colab": {
          "base_uri": "https://localhost:8080/",
          "height": 451
        },
        "id": "lzeuHTpf5wRo",
        "outputId": "fdd4219f-9de0-4103-bd81-4f41d8ae17bd"
      },
      "execution_count": 126,
      "outputs": [
        {
          "output_type": "execute_result",
          "data": {
            "text/plain": [
              "[<matplotlib.lines.Line2D at 0x7e931bfa77d0>]"
            ]
          },
          "metadata": {},
          "execution_count": 126
        },
        {
          "output_type": "display_data",
          "data": {
            "text/plain": [
              "<Figure size 640x480 with 1 Axes>"
            ],
            "image/png": "[encoded data removed]"
          },
          "metadata": {}
        }
      ]
    },
    {
      "cell_type": "markdown",
      "source": [
        "How to sample from the treined model?"
      ],
      "metadata": {
        "id": "Vkay4TS07r2v"
      }
    },
    {
      "cell_type": "code",
      "source": [
        "g = torch.Generator().manual_seed(2147483647 + 10)\n",
        "\n",
        "for _ in range(20):\n",
        "  out = []\n",
        "  context = [0] * block_size   # initialize the sampling context with \"...\"\n",
        "  while True:\n",
        "    emb = C[torch.tensor([context])] # (1, block_size, d)\n",
        "    h = torch.tanh(emb.view(1, -1) @ W1 + b1)\n",
        "    logits = h @ W2 + b2\n",
        "    probs = F.softmax(logits, dim=1)\n",
        "    idx = torch.multinomial(probs, num_samples=1, replacement = True, generator=g).item()\n",
        "    context = context[1:] + [idx]\n",
        "    out.append(idx)\n",
        "    if idx == 0:\n",
        "      break\n",
        "\n",
        "  print(''.join(itos[i] for i in out))"
      ],
      "metadata": {
        "colab": {
          "base_uri": "https://localhost:8080/"
        },
        "id": "hfeGmrzh7wAh",
        "outputId": "fd136866-1eb6-4a2e-87d6-8a2f4aaee7a8"
      },
      "execution_count": 140,
      "outputs": [
        {
          "output_type": "stream",
          "name": "stdout",
          "text": [
            "mora.\n",
            "mayanniel.\n",
            "med.\n",
            "rylee.\n",
            "emmastendraega.\n",
            "zee.\n",
            "deelin.\n",
            "shi.\n",
            "jenredelisson.\n",
            "artemy.\n",
            "kohnta.\n",
            "cayshdyn.\n",
            "givianest.\n",
            "jair.\n",
            "jelionnie.\n",
            "cayu.\n",
            "zen.\n",
            "der.\n",
            "yarulyeh.\n",
            "yuma.\n"
          ]
        }
      ]
    }
  ]
}
